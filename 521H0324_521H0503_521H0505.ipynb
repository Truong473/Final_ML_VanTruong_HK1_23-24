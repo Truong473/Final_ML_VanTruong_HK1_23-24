{
  "cells": [
    {
      "cell_type": "markdown",
      "source": [
        "# **521H0505 - Nguyễn Ngọc Minh**\n",
        "#**521H0503 - Trương Huỳnh Đăng Khoa**\n",
        "# **521H0324 - Nguyễn Văn Trường**"
      ],
      "metadata": {
        "id": "iSVqlsRhKNp1"
      }
    },
    {
      "cell_type": "code",
      "execution_count": null,
      "metadata": {
        "id": "GJQdS4TTHLUm",
        "tags": []
      },
      "outputs": [],
      "source": [
        "# !pip install xgboost\n",
        "import numpy as np\n",
        "import pandas as pd\n",
        "import matplotlib.pyplot as plt\n",
        "import seaborn as sb\n",
        "from sklearn.model_selection import train_test_split\n",
        "from sklearn.preprocessing import LabelEncoder, StandardScaler\n",
        "from sklearn.feature_extraction.text import CountVectorizer\n",
        "from sklearn import metrics\n",
        "from xgboost import XGBRegressor\n",
        "\n",
        "import warnings\n",
        "warnings.filterwarnings('ignore')\n"
      ]
    },
    {
      "cell_type": "code",
      "execution_count": null,
      "metadata": {
        "colab": {
          "base_uri": "https://localhost:8080/",
          "height": 451
        },
        "id": "G8RCU6A5HLUr",
        "outputId": "0ad8dfba-1263-4152-b74b-47d96230a827",
        "tags": []
      },
      "outputs": [
        {
          "output_type": "execute_result",
          "data": {
            "text/plain": [
              "                                     title domestic_revenue   world_revenue  \\\n",
              "0  Star Wars: Episode VIII - The Last Jedi     $620,181,382  $1,332,539,889   \n",
              "1                  The Fate of the Furious     $226,008,385  $1,236,005,118   \n",
              "2                             Wonder Woman     $412,563,408    $821,847,012   \n",
              "3           Guardians of the Galaxy Vol. 2     $389,813,101    $863,756,051   \n",
              "4                     Beauty and the Beast     $504,014,165  $1,263,521,126   \n",
              "\n",
              "                           distributor opening_revenue opening_theaters  \\\n",
              "0  Walt Disney Studios Motion Pictures    $220,009,584            4,232   \n",
              "1                   Universal Pictures     $98,786,705            4,310   \n",
              "2                         Warner Bros.    $103,251,471            4,165   \n",
              "3  Walt Disney Studios Motion Pictures    $146,510,104            4,347   \n",
              "4  Walt Disney Studios Motion Pictures    $174,750,616            4,210   \n",
              "\n",
              "         budget   MPAA                               genres release_days  \n",
              "0  $317,000,000  PG-13      Action,Adventure,Fantasy,Sci-Fi          382  \n",
              "1  $250,000,000  PG-13            Action,Adventure,Thriller          262  \n",
              "2  $149,000,000  PG-13  Action,Adventure,Fantasy,Sci-Fi,War          217  \n",
              "3  $200,000,000  PG-13       Action,Adventure,Comedy,Sci-Fi          241  \n",
              "4  $160,000,000     PG       Family,Fantasy,Musical,Romance          290  "
            ],
            "text/html": [
              "\n",
              "  <div id=\"df-39cbe06b-ba4a-4036-be04-d67a707f319d\" class=\"colab-df-container\">\n",
              "    <div>\n",
              "<style scoped>\n",
              "    .dataframe tbody tr th:only-of-type {\n",
              "        vertical-align: middle;\n",
              "    }\n",
              "\n",
              "    .dataframe tbody tr th {\n",
              "        vertical-align: top;\n",
              "    }\n",
              "\n",
              "    .dataframe thead th {\n",
              "        text-align: right;\n",
              "    }\n",
              "</style>\n",
              "<table border=\"1\" class=\"dataframe\">\n",
              "  <thead>\n",
              "    <tr style=\"text-align: right;\">\n",
              "      <th></th>\n",
              "      <th>title</th>\n",
              "      <th>domestic_revenue</th>\n",
              "      <th>world_revenue</th>\n",
              "      <th>distributor</th>\n",
              "      <th>opening_revenue</th>\n",
              "      <th>opening_theaters</th>\n",
              "      <th>budget</th>\n",
              "      <th>MPAA</th>\n",
              "      <th>genres</th>\n",
              "      <th>release_days</th>\n",
              "    </tr>\n",
              "  </thead>\n",
              "  <tbody>\n",
              "    <tr>\n",
              "      <th>0</th>\n",
              "      <td>Star Wars: Episode VIII - The Last Jedi</td>\n",
              "      <td>$620,181,382</td>\n",
              "      <td>$1,332,539,889</td>\n",
              "      <td>Walt Disney Studios Motion Pictures</td>\n",
              "      <td>$220,009,584</td>\n",
              "      <td>4,232</td>\n",
              "      <td>$317,000,000</td>\n",
              "      <td>PG-13</td>\n",
              "      <td>Action,Adventure,Fantasy,Sci-Fi</td>\n",
              "      <td>382</td>\n",
              "    </tr>\n",
              "    <tr>\n",
              "      <th>1</th>\n",
              "      <td>The Fate of the Furious</td>\n",
              "      <td>$226,008,385</td>\n",
              "      <td>$1,236,005,118</td>\n",
              "      <td>Universal Pictures</td>\n",
              "      <td>$98,786,705</td>\n",
              "      <td>4,310</td>\n",
              "      <td>$250,000,000</td>\n",
              "      <td>PG-13</td>\n",
              "      <td>Action,Adventure,Thriller</td>\n",
              "      <td>262</td>\n",
              "    </tr>\n",
              "    <tr>\n",
              "      <th>2</th>\n",
              "      <td>Wonder Woman</td>\n",
              "      <td>$412,563,408</td>\n",
              "      <td>$821,847,012</td>\n",
              "      <td>Warner Bros.</td>\n",
              "      <td>$103,251,471</td>\n",
              "      <td>4,165</td>\n",
              "      <td>$149,000,000</td>\n",
              "      <td>PG-13</td>\n",
              "      <td>Action,Adventure,Fantasy,Sci-Fi,War</td>\n",
              "      <td>217</td>\n",
              "    </tr>\n",
              "    <tr>\n",
              "      <th>3</th>\n",
              "      <td>Guardians of the Galaxy Vol. 2</td>\n",
              "      <td>$389,813,101</td>\n",
              "      <td>$863,756,051</td>\n",
              "      <td>Walt Disney Studios Motion Pictures</td>\n",
              "      <td>$146,510,104</td>\n",
              "      <td>4,347</td>\n",
              "      <td>$200,000,000</td>\n",
              "      <td>PG-13</td>\n",
              "      <td>Action,Adventure,Comedy,Sci-Fi</td>\n",
              "      <td>241</td>\n",
              "    </tr>\n",
              "    <tr>\n",
              "      <th>4</th>\n",
              "      <td>Beauty and the Beast</td>\n",
              "      <td>$504,014,165</td>\n",
              "      <td>$1,263,521,126</td>\n",
              "      <td>Walt Disney Studios Motion Pictures</td>\n",
              "      <td>$174,750,616</td>\n",
              "      <td>4,210</td>\n",
              "      <td>$160,000,000</td>\n",
              "      <td>PG</td>\n",
              "      <td>Family,Fantasy,Musical,Romance</td>\n",
              "      <td>290</td>\n",
              "    </tr>\n",
              "  </tbody>\n",
              "</table>\n",
              "</div>\n",
              "    <div class=\"colab-df-buttons\">\n",
              "\n",
              "  <div class=\"colab-df-container\">\n",
              "    <button class=\"colab-df-convert\" onclick=\"convertToInteractive('df-39cbe06b-ba4a-4036-be04-d67a707f319d')\"\n",
              "            title=\"Convert this dataframe to an interactive table.\"\n",
              "            style=\"display:none;\">\n",
              "\n",
              "  <svg xmlns=\"http://www.w3.org/2000/svg\" height=\"24px\" viewBox=\"0 -960 960 960\">\n",
              "    <path d=\"M120-120v-720h720v720H120Zm60-500h600v-160H180v160Zm220 220h160v-160H400v160Zm0 220h160v-160H400v160ZM180-400h160v-160H180v160Zm440 0h160v-160H620v160ZM180-180h160v-160H180v160Zm440 0h160v-160H620v160Z\"/>\n",
              "  </svg>\n",
              "    </button>\n",
              "\n",
              "  <style>\n",
              "    .colab-df-container {\n",
              "      display:flex;\n",
              "      gap: 12px;\n",
              "    }\n",
              "\n",
              "    .colab-df-convert {\n",
              "      background-color: #E8F0FE;\n",
              "      border: none;\n",
              "      border-radius: 50%;\n",
              "      cursor: pointer;\n",
              "      display: none;\n",
              "      fill: #1967D2;\n",
              "      height: 32px;\n",
              "      padding: 0 0 0 0;\n",
              "      width: 32px;\n",
              "    }\n",
              "\n",
              "    .colab-df-convert:hover {\n",
              "      background-color: #E2EBFA;\n",
              "      box-shadow: 0px 1px 2px rgba(60, 64, 67, 0.3), 0px 1px 3px 1px rgba(60, 64, 67, 0.15);\n",
              "      fill: #174EA6;\n",
              "    }\n",
              "\n",
              "    .colab-df-buttons div {\n",
              "      margin-bottom: 4px;\n",
              "    }\n",
              "\n",
              "    [theme=dark] .colab-df-convert {\n",
              "      background-color: #3B4455;\n",
              "      fill: #D2E3FC;\n",
              "    }\n",
              "\n",
              "    [theme=dark] .colab-df-convert:hover {\n",
              "      background-color: #434B5C;\n",
              "      box-shadow: 0px 1px 3px 1px rgba(0, 0, 0, 0.15);\n",
              "      filter: drop-shadow(0px 1px 2px rgba(0, 0, 0, 0.3));\n",
              "      fill: #FFFFFF;\n",
              "    }\n",
              "  </style>\n",
              "\n",
              "    <script>\n",
              "      const buttonEl =\n",
              "        document.querySelector('#df-39cbe06b-ba4a-4036-be04-d67a707f319d button.colab-df-convert');\n",
              "      buttonEl.style.display =\n",
              "        google.colab.kernel.accessAllowed ? 'block' : 'none';\n",
              "\n",
              "      async function convertToInteractive(key) {\n",
              "        const element = document.querySelector('#df-39cbe06b-ba4a-4036-be04-d67a707f319d');\n",
              "        const dataTable =\n",
              "          await google.colab.kernel.invokeFunction('convertToInteractive',\n",
              "                                                    [key], {});\n",
              "        if (!dataTable) return;\n",
              "\n",
              "        const docLinkHtml = 'Like what you see? Visit the ' +\n",
              "          '<a target=\"_blank\" href=https://colab.research.google.com/notebooks/data_table.ipynb>data table notebook</a>'\n",
              "          + ' to learn more about interactive tables.';\n",
              "        element.innerHTML = '';\n",
              "        dataTable['output_type'] = 'display_data';\n",
              "        await google.colab.output.renderOutput(dataTable, element);\n",
              "        const docLink = document.createElement('div');\n",
              "        docLink.innerHTML = docLinkHtml;\n",
              "        element.appendChild(docLink);\n",
              "      }\n",
              "    </script>\n",
              "  </div>\n",
              "\n",
              "\n",
              "<div id=\"df-a7c5212e-a415-436b-a8ff-47d91be2fbe5\">\n",
              "  <button class=\"colab-df-quickchart\" onclick=\"quickchart('df-a7c5212e-a415-436b-a8ff-47d91be2fbe5')\"\n",
              "            title=\"Suggest charts\"\n",
              "            style=\"display:none;\">\n",
              "\n",
              "<svg xmlns=\"http://www.w3.org/2000/svg\" height=\"24px\"viewBox=\"0 0 24 24\"\n",
              "     width=\"24px\">\n",
              "    <g>\n",
              "        <path d=\"M19 3H5c-1.1 0-2 .9-2 2v14c0 1.1.9 2 2 2h14c1.1 0 2-.9 2-2V5c0-1.1-.9-2-2-2zM9 17H7v-7h2v7zm4 0h-2V7h2v10zm4 0h-2v-4h2v4z\"/>\n",
              "    </g>\n",
              "</svg>\n",
              "  </button>\n",
              "\n",
              "<style>\n",
              "  .colab-df-quickchart {\n",
              "      --bg-color: #E8F0FE;\n",
              "      --fill-color: #1967D2;\n",
              "      --hover-bg-color: #E2EBFA;\n",
              "      --hover-fill-color: #174EA6;\n",
              "      --disabled-fill-color: #AAA;\n",
              "      --disabled-bg-color: #DDD;\n",
              "  }\n",
              "\n",
              "  [theme=dark] .colab-df-quickchart {\n",
              "      --bg-color: #3B4455;\n",
              "      --fill-color: #D2E3FC;\n",
              "      --hover-bg-color: #434B5C;\n",
              "      --hover-fill-color: #FFFFFF;\n",
              "      --disabled-bg-color: #3B4455;\n",
              "      --disabled-fill-color: #666;\n",
              "  }\n",
              "\n",
              "  .colab-df-quickchart {\n",
              "    background-color: var(--bg-color);\n",
              "    border: none;\n",
              "    border-radius: 50%;\n",
              "    cursor: pointer;\n",
              "    display: none;\n",
              "    fill: var(--fill-color);\n",
              "    height: 32px;\n",
              "    padding: 0;\n",
              "    width: 32px;\n",
              "  }\n",
              "\n",
              "  .colab-df-quickchart:hover {\n",
              "    background-color: var(--hover-bg-color);\n",
              "    box-shadow: 0 1px 2px rgba(60, 64, 67, 0.3), 0 1px 3px 1px rgba(60, 64, 67, 0.15);\n",
              "    fill: var(--button-hover-fill-color);\n",
              "  }\n",
              "\n",
              "  .colab-df-quickchart-complete:disabled,\n",
              "  .colab-df-quickchart-complete:disabled:hover {\n",
              "    background-color: var(--disabled-bg-color);\n",
              "    fill: var(--disabled-fill-color);\n",
              "    box-shadow: none;\n",
              "  }\n",
              "\n",
              "  .colab-df-spinner {\n",
              "    border: 2px solid var(--fill-color);\n",
              "    border-color: transparent;\n",
              "    border-bottom-color: var(--fill-color);\n",
              "    animation:\n",
              "      spin 1s steps(1) infinite;\n",
              "  }\n",
              "\n",
              "  @keyframes spin {\n",
              "    0% {\n",
              "      border-color: transparent;\n",
              "      border-bottom-color: var(--fill-color);\n",
              "      border-left-color: var(--fill-color);\n",
              "    }\n",
              "    20% {\n",
              "      border-color: transparent;\n",
              "      border-left-color: var(--fill-color);\n",
              "      border-top-color: var(--fill-color);\n",
              "    }\n",
              "    30% {\n",
              "      border-color: transparent;\n",
              "      border-left-color: var(--fill-color);\n",
              "      border-top-color: var(--fill-color);\n",
              "      border-right-color: var(--fill-color);\n",
              "    }\n",
              "    40% {\n",
              "      border-color: transparent;\n",
              "      border-right-color: var(--fill-color);\n",
              "      border-top-color: var(--fill-color);\n",
              "    }\n",
              "    60% {\n",
              "      border-color: transparent;\n",
              "      border-right-color: var(--fill-color);\n",
              "    }\n",
              "    80% {\n",
              "      border-color: transparent;\n",
              "      border-right-color: var(--fill-color);\n",
              "      border-bottom-color: var(--fill-color);\n",
              "    }\n",
              "    90% {\n",
              "      border-color: transparent;\n",
              "      border-bottom-color: var(--fill-color);\n",
              "    }\n",
              "  }\n",
              "</style>\n",
              "\n",
              "  <script>\n",
              "    async function quickchart(key) {\n",
              "      const quickchartButtonEl =\n",
              "        document.querySelector('#' + key + ' button');\n",
              "      quickchartButtonEl.disabled = true;  // To prevent multiple clicks.\n",
              "      quickchartButtonEl.classList.add('colab-df-spinner');\n",
              "      try {\n",
              "        const charts = await google.colab.kernel.invokeFunction(\n",
              "            'suggestCharts', [key], {});\n",
              "      } catch (error) {\n",
              "        console.error('Error during call to suggestCharts:', error);\n",
              "      }\n",
              "      quickchartButtonEl.classList.remove('colab-df-spinner');\n",
              "      quickchartButtonEl.classList.add('colab-df-quickchart-complete');\n",
              "    }\n",
              "    (() => {\n",
              "      let quickchartButtonEl =\n",
              "        document.querySelector('#df-a7c5212e-a415-436b-a8ff-47d91be2fbe5 button');\n",
              "      quickchartButtonEl.style.display =\n",
              "        google.colab.kernel.accessAllowed ? 'block' : 'none';\n",
              "    })();\n",
              "  </script>\n",
              "</div>\n",
              "\n",
              "    </div>\n",
              "  </div>\n"
            ]
          },
          "metadata": {},
          "execution_count": 2
        }
      ],
      "source": [
        "df = pd.read_csv('boxoffice.csv',\n",
        "\t\t\t\tencoding='latin-1')\n",
        "df.head()"
      ]
    },
    {
      "cell_type": "code",
      "execution_count": null,
      "metadata": {
        "colab": {
          "base_uri": "https://localhost:8080/"
        },
        "id": "jlLyenjFHLUs",
        "outputId": "83c343b6-b011-4daf-e0a3-5d8926970944",
        "tags": []
      },
      "outputs": [
        {
          "output_type": "execute_result",
          "data": {
            "text/plain": [
              "(2694, 10)"
            ]
          },
          "metadata": {},
          "execution_count": 3
        }
      ],
      "source": [
        "df.shape"
      ]
    },
    {
      "cell_type": "code",
      "execution_count": null,
      "metadata": {
        "colab": {
          "base_uri": "https://localhost:8080/"
        },
        "id": "i-fzhyDfHLUt",
        "outputId": "a24b6e8e-f652-4b98-97c4-df0eedcbc5fb",
        "tags": []
      },
      "outputs": [
        {
          "output_type": "stream",
          "name": "stdout",
          "text": [
            "<class 'pandas.core.frame.DataFrame'>\n",
            "RangeIndex: 2694 entries, 0 to 2693\n",
            "Data columns (total 10 columns):\n",
            " #   Column            Non-Null Count  Dtype \n",
            "---  ------            --------------  ----- \n",
            " 0   title             2694 non-null   object\n",
            " 1   domestic_revenue  2694 non-null   object\n",
            " 2   world_revenue     2694 non-null   object\n",
            " 3   distributor       2694 non-null   object\n",
            " 4   opening_revenue   2390 non-null   object\n",
            " 5   opening_theaters  2383 non-null   object\n",
            " 6   budget            397 non-null    object\n",
            " 7   MPAA              1225 non-null   object\n",
            " 8   genres            2655 non-null   object\n",
            " 9   release_days      2694 non-null   object\n",
            "dtypes: object(10)\n",
            "memory usage: 210.6+ KB\n"
          ]
        }
      ],
      "source": [
        "df.info()"
      ]
    },
    {
      "cell_type": "code",
      "execution_count": null,
      "metadata": {
        "colab": {
          "base_uri": "https://localhost:8080/",
          "height": 363
        },
        "id": "z5RKVp20HLUu",
        "outputId": "60098185-f957-4c12-e865-3dd098ee82ce",
        "tags": []
      },
      "outputs": [
        {
          "output_type": "execute_result",
          "data": {
            "text/plain": [
              "                 count unique                 top freq\n",
              "title             2694   2468  A Beautiful Planet    3\n",
              "domestic_revenue  2694   2495         $11,272,008    3\n",
              "world_revenue     2694   2501         $25,681,505    3\n",
              "distributor       2694    248       Fathom Events  292\n",
              "opening_revenue   2390   2176              $4,696    3\n",
              "opening_theaters  2383    732                   1  503\n",
              "budget             397    124         $40,000,000   14\n",
              "MPAA              1225      8                   R  568\n",
              "genres            2655    567         Documentary  351\n",
              "release_days      2694    457                 347   35"
            ],
            "text/html": [
              "\n",
              "  <div id=\"df-68f64caf-7326-4c2c-984c-66d0f502022e\" class=\"colab-df-container\">\n",
              "    <div>\n",
              "<style scoped>\n",
              "    .dataframe tbody tr th:only-of-type {\n",
              "        vertical-align: middle;\n",
              "    }\n",
              "\n",
              "    .dataframe tbody tr th {\n",
              "        vertical-align: top;\n",
              "    }\n",
              "\n",
              "    .dataframe thead th {\n",
              "        text-align: right;\n",
              "    }\n",
              "</style>\n",
              "<table border=\"1\" class=\"dataframe\">\n",
              "  <thead>\n",
              "    <tr style=\"text-align: right;\">\n",
              "      <th></th>\n",
              "      <th>count</th>\n",
              "      <th>unique</th>\n",
              "      <th>top</th>\n",
              "      <th>freq</th>\n",
              "    </tr>\n",
              "  </thead>\n",
              "  <tbody>\n",
              "    <tr>\n",
              "      <th>title</th>\n",
              "      <td>2694</td>\n",
              "      <td>2468</td>\n",
              "      <td>A Beautiful Planet</td>\n",
              "      <td>3</td>\n",
              "    </tr>\n",
              "    <tr>\n",
              "      <th>domestic_revenue</th>\n",
              "      <td>2694</td>\n",
              "      <td>2495</td>\n",
              "      <td>$11,272,008</td>\n",
              "      <td>3</td>\n",
              "    </tr>\n",
              "    <tr>\n",
              "      <th>world_revenue</th>\n",
              "      <td>2694</td>\n",
              "      <td>2501</td>\n",
              "      <td>$25,681,505</td>\n",
              "      <td>3</td>\n",
              "    </tr>\n",
              "    <tr>\n",
              "      <th>distributor</th>\n",
              "      <td>2694</td>\n",
              "      <td>248</td>\n",
              "      <td>Fathom Events</td>\n",
              "      <td>292</td>\n",
              "    </tr>\n",
              "    <tr>\n",
              "      <th>opening_revenue</th>\n",
              "      <td>2390</td>\n",
              "      <td>2176</td>\n",
              "      <td>$4,696</td>\n",
              "      <td>3</td>\n",
              "    </tr>\n",
              "    <tr>\n",
              "      <th>opening_theaters</th>\n",
              "      <td>2383</td>\n",
              "      <td>732</td>\n",
              "      <td>1</td>\n",
              "      <td>503</td>\n",
              "    </tr>\n",
              "    <tr>\n",
              "      <th>budget</th>\n",
              "      <td>397</td>\n",
              "      <td>124</td>\n",
              "      <td>$40,000,000</td>\n",
              "      <td>14</td>\n",
              "    </tr>\n",
              "    <tr>\n",
              "      <th>MPAA</th>\n",
              "      <td>1225</td>\n",
              "      <td>8</td>\n",
              "      <td>R</td>\n",
              "      <td>568</td>\n",
              "    </tr>\n",
              "    <tr>\n",
              "      <th>genres</th>\n",
              "      <td>2655</td>\n",
              "      <td>567</td>\n",
              "      <td>Documentary</td>\n",
              "      <td>351</td>\n",
              "    </tr>\n",
              "    <tr>\n",
              "      <th>release_days</th>\n",
              "      <td>2694</td>\n",
              "      <td>457</td>\n",
              "      <td>347</td>\n",
              "      <td>35</td>\n",
              "    </tr>\n",
              "  </tbody>\n",
              "</table>\n",
              "</div>\n",
              "    <div class=\"colab-df-buttons\">\n",
              "\n",
              "  <div class=\"colab-df-container\">\n",
              "    <button class=\"colab-df-convert\" onclick=\"convertToInteractive('df-68f64caf-7326-4c2c-984c-66d0f502022e')\"\n",
              "            title=\"Convert this dataframe to an interactive table.\"\n",
              "            style=\"display:none;\">\n",
              "\n",
              "  <svg xmlns=\"http://www.w3.org/2000/svg\" height=\"24px\" viewBox=\"0 -960 960 960\">\n",
              "    <path d=\"M120-120v-720h720v720H120Zm60-500h600v-160H180v160Zm220 220h160v-160H400v160Zm0 220h160v-160H400v160ZM180-400h160v-160H180v160Zm440 0h160v-160H620v160ZM180-180h160v-160H180v160Zm440 0h160v-160H620v160Z\"/>\n",
              "  </svg>\n",
              "    </button>\n",
              "\n",
              "  <style>\n",
              "    .colab-df-container {\n",
              "      display:flex;\n",
              "      gap: 12px;\n",
              "    }\n",
              "\n",
              "    .colab-df-convert {\n",
              "      background-color: #E8F0FE;\n",
              "      border: none;\n",
              "      border-radius: 50%;\n",
              "      cursor: pointer;\n",
              "      display: none;\n",
              "      fill: #1967D2;\n",
              "      height: 32px;\n",
              "      padding: 0 0 0 0;\n",
              "      width: 32px;\n",
              "    }\n",
              "\n",
              "    .colab-df-convert:hover {\n",
              "      background-color: #E2EBFA;\n",
              "      box-shadow: 0px 1px 2px rgba(60, 64, 67, 0.3), 0px 1px 3px 1px rgba(60, 64, 67, 0.15);\n",
              "      fill: #174EA6;\n",
              "    }\n",
              "\n",
              "    .colab-df-buttons div {\n",
              "      margin-bottom: 4px;\n",
              "    }\n",
              "\n",
              "    [theme=dark] .colab-df-convert {\n",
              "      background-color: #3B4455;\n",
              "      fill: #D2E3FC;\n",
              "    }\n",
              "\n",
              "    [theme=dark] .colab-df-convert:hover {\n",
              "      background-color: #434B5C;\n",
              "      box-shadow: 0px 1px 3px 1px rgba(0, 0, 0, 0.15);\n",
              "      filter: drop-shadow(0px 1px 2px rgba(0, 0, 0, 0.3));\n",
              "      fill: #FFFFFF;\n",
              "    }\n",
              "  </style>\n",
              "\n",
              "    <script>\n",
              "      const buttonEl =\n",
              "        document.querySelector('#df-68f64caf-7326-4c2c-984c-66d0f502022e button.colab-df-convert');\n",
              "      buttonEl.style.display =\n",
              "        google.colab.kernel.accessAllowed ? 'block' : 'none';\n",
              "\n",
              "      async function convertToInteractive(key) {\n",
              "        const element = document.querySelector('#df-68f64caf-7326-4c2c-984c-66d0f502022e');\n",
              "        const dataTable =\n",
              "          await google.colab.kernel.invokeFunction('convertToInteractive',\n",
              "                                                    [key], {});\n",
              "        if (!dataTable) return;\n",
              "\n",
              "        const docLinkHtml = 'Like what you see? Visit the ' +\n",
              "          '<a target=\"_blank\" href=https://colab.research.google.com/notebooks/data_table.ipynb>data table notebook</a>'\n",
              "          + ' to learn more about interactive tables.';\n",
              "        element.innerHTML = '';\n",
              "        dataTable['output_type'] = 'display_data';\n",
              "        await google.colab.output.renderOutput(dataTable, element);\n",
              "        const docLink = document.createElement('div');\n",
              "        docLink.innerHTML = docLinkHtml;\n",
              "        element.appendChild(docLink);\n",
              "      }\n",
              "    </script>\n",
              "  </div>\n",
              "\n",
              "\n",
              "<div id=\"df-5139043e-ba54-45db-ac74-bb292a7bd53c\">\n",
              "  <button class=\"colab-df-quickchart\" onclick=\"quickchart('df-5139043e-ba54-45db-ac74-bb292a7bd53c')\"\n",
              "            title=\"Suggest charts\"\n",
              "            style=\"display:none;\">\n",
              "\n",
              "<svg xmlns=\"http://www.w3.org/2000/svg\" height=\"24px\"viewBox=\"0 0 24 24\"\n",
              "     width=\"24px\">\n",
              "    <g>\n",
              "        <path d=\"M19 3H5c-1.1 0-2 .9-2 2v14c0 1.1.9 2 2 2h14c1.1 0 2-.9 2-2V5c0-1.1-.9-2-2-2zM9 17H7v-7h2v7zm4 0h-2V7h2v10zm4 0h-2v-4h2v4z\"/>\n",
              "    </g>\n",
              "</svg>\n",
              "  </button>\n",
              "\n",
              "<style>\n",
              "  .colab-df-quickchart {\n",
              "      --bg-color: #E8F0FE;\n",
              "      --fill-color: #1967D2;\n",
              "      --hover-bg-color: #E2EBFA;\n",
              "      --hover-fill-color: #174EA6;\n",
              "      --disabled-fill-color: #AAA;\n",
              "      --disabled-bg-color: #DDD;\n",
              "  }\n",
              "\n",
              "  [theme=dark] .colab-df-quickchart {\n",
              "      --bg-color: #3B4455;\n",
              "      --fill-color: #D2E3FC;\n",
              "      --hover-bg-color: #434B5C;\n",
              "      --hover-fill-color: #FFFFFF;\n",
              "      --disabled-bg-color: #3B4455;\n",
              "      --disabled-fill-color: #666;\n",
              "  }\n",
              "\n",
              "  .colab-df-quickchart {\n",
              "    background-color: var(--bg-color);\n",
              "    border: none;\n",
              "    border-radius: 50%;\n",
              "    cursor: pointer;\n",
              "    display: none;\n",
              "    fill: var(--fill-color);\n",
              "    height: 32px;\n",
              "    padding: 0;\n",
              "    width: 32px;\n",
              "  }\n",
              "\n",
              "  .colab-df-quickchart:hover {\n",
              "    background-color: var(--hover-bg-color);\n",
              "    box-shadow: 0 1px 2px rgba(60, 64, 67, 0.3), 0 1px 3px 1px rgba(60, 64, 67, 0.15);\n",
              "    fill: var(--button-hover-fill-color);\n",
              "  }\n",
              "\n",
              "  .colab-df-quickchart-complete:disabled,\n",
              "  .colab-df-quickchart-complete:disabled:hover {\n",
              "    background-color: var(--disabled-bg-color);\n",
              "    fill: var(--disabled-fill-color);\n",
              "    box-shadow: none;\n",
              "  }\n",
              "\n",
              "  .colab-df-spinner {\n",
              "    border: 2px solid var(--fill-color);\n",
              "    border-color: transparent;\n",
              "    border-bottom-color: var(--fill-color);\n",
              "    animation:\n",
              "      spin 1s steps(1) infinite;\n",
              "  }\n",
              "\n",
              "  @keyframes spin {\n",
              "    0% {\n",
              "      border-color: transparent;\n",
              "      border-bottom-color: var(--fill-color);\n",
              "      border-left-color: var(--fill-color);\n",
              "    }\n",
              "    20% {\n",
              "      border-color: transparent;\n",
              "      border-left-color: var(--fill-color);\n",
              "      border-top-color: var(--fill-color);\n",
              "    }\n",
              "    30% {\n",
              "      border-color: transparent;\n",
              "      border-left-color: var(--fill-color);\n",
              "      border-top-color: var(--fill-color);\n",
              "      border-right-color: var(--fill-color);\n",
              "    }\n",
              "    40% {\n",
              "      border-color: transparent;\n",
              "      border-right-color: var(--fill-color);\n",
              "      border-top-color: var(--fill-color);\n",
              "    }\n",
              "    60% {\n",
              "      border-color: transparent;\n",
              "      border-right-color: var(--fill-color);\n",
              "    }\n",
              "    80% {\n",
              "      border-color: transparent;\n",
              "      border-right-color: var(--fill-color);\n",
              "      border-bottom-color: var(--fill-color);\n",
              "    }\n",
              "    90% {\n",
              "      border-color: transparent;\n",
              "      border-bottom-color: var(--fill-color);\n",
              "    }\n",
              "  }\n",
              "</style>\n",
              "\n",
              "  <script>\n",
              "    async function quickchart(key) {\n",
              "      const quickchartButtonEl =\n",
              "        document.querySelector('#' + key + ' button');\n",
              "      quickchartButtonEl.disabled = true;  // To prevent multiple clicks.\n",
              "      quickchartButtonEl.classList.add('colab-df-spinner');\n",
              "      try {\n",
              "        const charts = await google.colab.kernel.invokeFunction(\n",
              "            'suggestCharts', [key], {});\n",
              "      } catch (error) {\n",
              "        console.error('Error during call to suggestCharts:', error);\n",
              "      }\n",
              "      quickchartButtonEl.classList.remove('colab-df-spinner');\n",
              "      quickchartButtonEl.classList.add('colab-df-quickchart-complete');\n",
              "    }\n",
              "    (() => {\n",
              "      let quickchartButtonEl =\n",
              "        document.querySelector('#df-5139043e-ba54-45db-ac74-bb292a7bd53c button');\n",
              "      quickchartButtonEl.style.display =\n",
              "        google.colab.kernel.accessAllowed ? 'block' : 'none';\n",
              "    })();\n",
              "  </script>\n",
              "</div>\n",
              "\n",
              "    </div>\n",
              "  </div>\n"
            ]
          },
          "metadata": {},
          "execution_count": 5
        }
      ],
      "source": [
        "df.describe().T"
      ]
    },
    {
      "cell_type": "code",
      "execution_count": null,
      "metadata": {
        "colab": {
          "base_uri": "https://localhost:8080/"
        },
        "id": "8vAVoBIQHLUu",
        "outputId": "dbc80aa9-c72e-4ed7-86c0-1c6de1d3b4d6",
        "scrolled": true,
        "tags": []
      },
      "outputs": [
        {
          "output_type": "stream",
          "name": "stdout",
          "text": [
            "Index(['title', 'domestic_revenue', 'world_revenue', 'distributor',\n",
            "       'opening_revenue', 'opening_theaters', 'budget', 'MPAA', 'genres',\n",
            "       'release_days'],\n",
            "      dtype='object')\n",
            "                                     title domestic_revenue   world_revenue  \\\n",
            "0  Star Wars: Episode VIII - The Last Jedi     $620,181,382  $1,332,539,889   \n",
            "1                  The Fate of the Furious     $226,008,385  $1,236,005,118   \n",
            "2                             Wonder Woman     $412,563,408    $821,847,012   \n",
            "3           Guardians of the Galaxy Vol. 2     $389,813,101    $863,756,051   \n",
            "4                     Beauty and the Beast     $504,014,165  $1,263,521,126   \n",
            "\n",
            "                           distributor opening_revenue opening_theaters  \\\n",
            "0  Walt Disney Studios Motion Pictures    $220,009,584            4,232   \n",
            "1                   Universal Pictures     $98,786,705            4,310   \n",
            "2                         Warner Bros.    $103,251,471            4,165   \n",
            "3  Walt Disney Studios Motion Pictures    $146,510,104            4,347   \n",
            "4  Walt Disney Studios Motion Pictures    $174,750,616            4,210   \n",
            "\n",
            "         budget   MPAA                               genres release_days  \n",
            "0  $317,000,000  PG-13      Action,Adventure,Fantasy,Sci-Fi          382  \n",
            "1  $250,000,000  PG-13            Action,Adventure,Thriller          262  \n",
            "2  $149,000,000  PG-13  Action,Adventure,Fantasy,Sci-Fi,War          217  \n",
            "3  $200,000,000  PG-13       Action,Adventure,Comedy,Sci-Fi          241  \n",
            "4  $160,000,000     PG       Family,Fantasy,Musical,Romance          290  \n",
            "True\n"
          ]
        }
      ],
      "source": [
        "# We will be predicting only\n",
        "# domestic_revenue in this article.\n",
        "\n",
        "print(df.columns)\n",
        "print(df.head())  # Display the first few rows to inspect column names visually\n",
        "\n",
        "column_exists = all(col in df.columns for col in ['world_revenue', 'opening_revenue'])\n",
        "print(column_exists)\n",
        "\n"
      ]
    },
    {
      "cell_type": "code",
      "execution_count": null,
      "metadata": {
        "tags": [],
        "colab": {
          "base_uri": "https://localhost:8080/",
          "height": 451
        },
        "id": "NFB2ZT_BrVOQ",
        "outputId": "88195687-7601-4e7f-9714-d4c6662169c7"
      },
      "outputs": [
        {
          "output_type": "execute_result",
          "data": {
            "text/plain": [
              "                                     title domestic_revenue   world_revenue  \\\n",
              "0  Star Wars: Episode VIII - The Last Jedi     $620,181,382  $1,332,539,889   \n",
              "1                  The Fate of the Furious     $226,008,385  $1,236,005,118   \n",
              "2                             Wonder Woman     $412,563,408    $821,847,012   \n",
              "3           Guardians of the Galaxy Vol. 2     $389,813,101    $863,756,051   \n",
              "4                     Beauty and the Beast     $504,014,165  $1,263,521,126   \n",
              "\n",
              "                           distributor opening_revenue opening_theaters  \\\n",
              "0  Walt Disney Studios Motion Pictures    $220,009,584            4,232   \n",
              "1                   Universal Pictures     $98,786,705            4,310   \n",
              "2                         Warner Bros.    $103,251,471            4,165   \n",
              "3  Walt Disney Studios Motion Pictures    $146,510,104            4,347   \n",
              "4  Walt Disney Studios Motion Pictures    $174,750,616            4,210   \n",
              "\n",
              "         budget   MPAA                               genres release_days  \n",
              "0  $317,000,000  PG-13      Action,Adventure,Fantasy,Sci-Fi          382  \n",
              "1  $250,000,000  PG-13            Action,Adventure,Thriller          262  \n",
              "2  $149,000,000  PG-13  Action,Adventure,Fantasy,Sci-Fi,War          217  \n",
              "3  $200,000,000  PG-13       Action,Adventure,Comedy,Sci-Fi          241  \n",
              "4  $160,000,000     PG       Family,Fantasy,Musical,Romance          290  "
            ],
            "text/html": [
              "\n",
              "  <div id=\"df-5c0d9d0f-486f-4915-bc3f-754cbc10941d\" class=\"colab-df-container\">\n",
              "    <div>\n",
              "<style scoped>\n",
              "    .dataframe tbody tr th:only-of-type {\n",
              "        vertical-align: middle;\n",
              "    }\n",
              "\n",
              "    .dataframe tbody tr th {\n",
              "        vertical-align: top;\n",
              "    }\n",
              "\n",
              "    .dataframe thead th {\n",
              "        text-align: right;\n",
              "    }\n",
              "</style>\n",
              "<table border=\"1\" class=\"dataframe\">\n",
              "  <thead>\n",
              "    <tr style=\"text-align: right;\">\n",
              "      <th></th>\n",
              "      <th>title</th>\n",
              "      <th>domestic_revenue</th>\n",
              "      <th>world_revenue</th>\n",
              "      <th>distributor</th>\n",
              "      <th>opening_revenue</th>\n",
              "      <th>opening_theaters</th>\n",
              "      <th>budget</th>\n",
              "      <th>MPAA</th>\n",
              "      <th>genres</th>\n",
              "      <th>release_days</th>\n",
              "    </tr>\n",
              "  </thead>\n",
              "  <tbody>\n",
              "    <tr>\n",
              "      <th>0</th>\n",
              "      <td>Star Wars: Episode VIII - The Last Jedi</td>\n",
              "      <td>$620,181,382</td>\n",
              "      <td>$1,332,539,889</td>\n",
              "      <td>Walt Disney Studios Motion Pictures</td>\n",
              "      <td>$220,009,584</td>\n",
              "      <td>4,232</td>\n",
              "      <td>$317,000,000</td>\n",
              "      <td>PG-13</td>\n",
              "      <td>Action,Adventure,Fantasy,Sci-Fi</td>\n",
              "      <td>382</td>\n",
              "    </tr>\n",
              "    <tr>\n",
              "      <th>1</th>\n",
              "      <td>The Fate of the Furious</td>\n",
              "      <td>$226,008,385</td>\n",
              "      <td>$1,236,005,118</td>\n",
              "      <td>Universal Pictures</td>\n",
              "      <td>$98,786,705</td>\n",
              "      <td>4,310</td>\n",
              "      <td>$250,000,000</td>\n",
              "      <td>PG-13</td>\n",
              "      <td>Action,Adventure,Thriller</td>\n",
              "      <td>262</td>\n",
              "    </tr>\n",
              "    <tr>\n",
              "      <th>2</th>\n",
              "      <td>Wonder Woman</td>\n",
              "      <td>$412,563,408</td>\n",
              "      <td>$821,847,012</td>\n",
              "      <td>Warner Bros.</td>\n",
              "      <td>$103,251,471</td>\n",
              "      <td>4,165</td>\n",
              "      <td>$149,000,000</td>\n",
              "      <td>PG-13</td>\n",
              "      <td>Action,Adventure,Fantasy,Sci-Fi,War</td>\n",
              "      <td>217</td>\n",
              "    </tr>\n",
              "    <tr>\n",
              "      <th>3</th>\n",
              "      <td>Guardians of the Galaxy Vol. 2</td>\n",
              "      <td>$389,813,101</td>\n",
              "      <td>$863,756,051</td>\n",
              "      <td>Walt Disney Studios Motion Pictures</td>\n",
              "      <td>$146,510,104</td>\n",
              "      <td>4,347</td>\n",
              "      <td>$200,000,000</td>\n",
              "      <td>PG-13</td>\n",
              "      <td>Action,Adventure,Comedy,Sci-Fi</td>\n",
              "      <td>241</td>\n",
              "    </tr>\n",
              "    <tr>\n",
              "      <th>4</th>\n",
              "      <td>Beauty and the Beast</td>\n",
              "      <td>$504,014,165</td>\n",
              "      <td>$1,263,521,126</td>\n",
              "      <td>Walt Disney Studios Motion Pictures</td>\n",
              "      <td>$174,750,616</td>\n",
              "      <td>4,210</td>\n",
              "      <td>$160,000,000</td>\n",
              "      <td>PG</td>\n",
              "      <td>Family,Fantasy,Musical,Romance</td>\n",
              "      <td>290</td>\n",
              "    </tr>\n",
              "  </tbody>\n",
              "</table>\n",
              "</div>\n",
              "    <div class=\"colab-df-buttons\">\n",
              "\n",
              "  <div class=\"colab-df-container\">\n",
              "    <button class=\"colab-df-convert\" onclick=\"convertToInteractive('df-5c0d9d0f-486f-4915-bc3f-754cbc10941d')\"\n",
              "            title=\"Convert this dataframe to an interactive table.\"\n",
              "            style=\"display:none;\">\n",
              "\n",
              "  <svg xmlns=\"http://www.w3.org/2000/svg\" height=\"24px\" viewBox=\"0 -960 960 960\">\n",
              "    <path d=\"M120-120v-720h720v720H120Zm60-500h600v-160H180v160Zm220 220h160v-160H400v160Zm0 220h160v-160H400v160ZM180-400h160v-160H180v160Zm440 0h160v-160H620v160ZM180-180h160v-160H180v160Zm440 0h160v-160H620v160Z\"/>\n",
              "  </svg>\n",
              "    </button>\n",
              "\n",
              "  <style>\n",
              "    .colab-df-container {\n",
              "      display:flex;\n",
              "      gap: 12px;\n",
              "    }\n",
              "\n",
              "    .colab-df-convert {\n",
              "      background-color: #E8F0FE;\n",
              "      border: none;\n",
              "      border-radius: 50%;\n",
              "      cursor: pointer;\n",
              "      display: none;\n",
              "      fill: #1967D2;\n",
              "      height: 32px;\n",
              "      padding: 0 0 0 0;\n",
              "      width: 32px;\n",
              "    }\n",
              "\n",
              "    .colab-df-convert:hover {\n",
              "      background-color: #E2EBFA;\n",
              "      box-shadow: 0px 1px 2px rgba(60, 64, 67, 0.3), 0px 1px 3px 1px rgba(60, 64, 67, 0.15);\n",
              "      fill: #174EA6;\n",
              "    }\n",
              "\n",
              "    .colab-df-buttons div {\n",
              "      margin-bottom: 4px;\n",
              "    }\n",
              "\n",
              "    [theme=dark] .colab-df-convert {\n",
              "      background-color: #3B4455;\n",
              "      fill: #D2E3FC;\n",
              "    }\n",
              "\n",
              "    [theme=dark] .colab-df-convert:hover {\n",
              "      background-color: #434B5C;\n",
              "      box-shadow: 0px 1px 3px 1px rgba(0, 0, 0, 0.15);\n",
              "      filter: drop-shadow(0px 1px 2px rgba(0, 0, 0, 0.3));\n",
              "      fill: #FFFFFF;\n",
              "    }\n",
              "  </style>\n",
              "\n",
              "    <script>\n",
              "      const buttonEl =\n",
              "        document.querySelector('#df-5c0d9d0f-486f-4915-bc3f-754cbc10941d button.colab-df-convert');\n",
              "      buttonEl.style.display =\n",
              "        google.colab.kernel.accessAllowed ? 'block' : 'none';\n",
              "\n",
              "      async function convertToInteractive(key) {\n",
              "        const element = document.querySelector('#df-5c0d9d0f-486f-4915-bc3f-754cbc10941d');\n",
              "        const dataTable =\n",
              "          await google.colab.kernel.invokeFunction('convertToInteractive',\n",
              "                                                    [key], {});\n",
              "        if (!dataTable) return;\n",
              "\n",
              "        const docLinkHtml = 'Like what you see? Visit the ' +\n",
              "          '<a target=\"_blank\" href=https://colab.research.google.com/notebooks/data_table.ipynb>data table notebook</a>'\n",
              "          + ' to learn more about interactive tables.';\n",
              "        element.innerHTML = '';\n",
              "        dataTable['output_type'] = 'display_data';\n",
              "        await google.colab.output.renderOutput(dataTable, element);\n",
              "        const docLink = document.createElement('div');\n",
              "        docLink.innerHTML = docLinkHtml;\n",
              "        element.appendChild(docLink);\n",
              "      }\n",
              "    </script>\n",
              "  </div>\n",
              "\n",
              "\n",
              "<div id=\"df-28e4b303-3edf-4411-8ed5-370c3bcb76e0\">\n",
              "  <button class=\"colab-df-quickchart\" onclick=\"quickchart('df-28e4b303-3edf-4411-8ed5-370c3bcb76e0')\"\n",
              "            title=\"Suggest charts\"\n",
              "            style=\"display:none;\">\n",
              "\n",
              "<svg xmlns=\"http://www.w3.org/2000/svg\" height=\"24px\"viewBox=\"0 0 24 24\"\n",
              "     width=\"24px\">\n",
              "    <g>\n",
              "        <path d=\"M19 3H5c-1.1 0-2 .9-2 2v14c0 1.1.9 2 2 2h14c1.1 0 2-.9 2-2V5c0-1.1-.9-2-2-2zM9 17H7v-7h2v7zm4 0h-2V7h2v10zm4 0h-2v-4h2v4z\"/>\n",
              "    </g>\n",
              "</svg>\n",
              "  </button>\n",
              "\n",
              "<style>\n",
              "  .colab-df-quickchart {\n",
              "      --bg-color: #E8F0FE;\n",
              "      --fill-color: #1967D2;\n",
              "      --hover-bg-color: #E2EBFA;\n",
              "      --hover-fill-color: #174EA6;\n",
              "      --disabled-fill-color: #AAA;\n",
              "      --disabled-bg-color: #DDD;\n",
              "  }\n",
              "\n",
              "  [theme=dark] .colab-df-quickchart {\n",
              "      --bg-color: #3B4455;\n",
              "      --fill-color: #D2E3FC;\n",
              "      --hover-bg-color: #434B5C;\n",
              "      --hover-fill-color: #FFFFFF;\n",
              "      --disabled-bg-color: #3B4455;\n",
              "      --disabled-fill-color: #666;\n",
              "  }\n",
              "\n",
              "  .colab-df-quickchart {\n",
              "    background-color: var(--bg-color);\n",
              "    border: none;\n",
              "    border-radius: 50%;\n",
              "    cursor: pointer;\n",
              "    display: none;\n",
              "    fill: var(--fill-color);\n",
              "    height: 32px;\n",
              "    padding: 0;\n",
              "    width: 32px;\n",
              "  }\n",
              "\n",
              "  .colab-df-quickchart:hover {\n",
              "    background-color: var(--hover-bg-color);\n",
              "    box-shadow: 0 1px 2px rgba(60, 64, 67, 0.3), 0 1px 3px 1px rgba(60, 64, 67, 0.15);\n",
              "    fill: var(--button-hover-fill-color);\n",
              "  }\n",
              "\n",
              "  .colab-df-quickchart-complete:disabled,\n",
              "  .colab-df-quickchart-complete:disabled:hover {\n",
              "    background-color: var(--disabled-bg-color);\n",
              "    fill: var(--disabled-fill-color);\n",
              "    box-shadow: none;\n",
              "  }\n",
              "\n",
              "  .colab-df-spinner {\n",
              "    border: 2px solid var(--fill-color);\n",
              "    border-color: transparent;\n",
              "    border-bottom-color: var(--fill-color);\n",
              "    animation:\n",
              "      spin 1s steps(1) infinite;\n",
              "  }\n",
              "\n",
              "  @keyframes spin {\n",
              "    0% {\n",
              "      border-color: transparent;\n",
              "      border-bottom-color: var(--fill-color);\n",
              "      border-left-color: var(--fill-color);\n",
              "    }\n",
              "    20% {\n",
              "      border-color: transparent;\n",
              "      border-left-color: var(--fill-color);\n",
              "      border-top-color: var(--fill-color);\n",
              "    }\n",
              "    30% {\n",
              "      border-color: transparent;\n",
              "      border-left-color: var(--fill-color);\n",
              "      border-top-color: var(--fill-color);\n",
              "      border-right-color: var(--fill-color);\n",
              "    }\n",
              "    40% {\n",
              "      border-color: transparent;\n",
              "      border-right-color: var(--fill-color);\n",
              "      border-top-color: var(--fill-color);\n",
              "    }\n",
              "    60% {\n",
              "      border-color: transparent;\n",
              "      border-right-color: var(--fill-color);\n",
              "    }\n",
              "    80% {\n",
              "      border-color: transparent;\n",
              "      border-right-color: var(--fill-color);\n",
              "      border-bottom-color: var(--fill-color);\n",
              "    }\n",
              "    90% {\n",
              "      border-color: transparent;\n",
              "      border-bottom-color: var(--fill-color);\n",
              "    }\n",
              "  }\n",
              "</style>\n",
              "\n",
              "  <script>\n",
              "    async function quickchart(key) {\n",
              "      const quickchartButtonEl =\n",
              "        document.querySelector('#' + key + ' button');\n",
              "      quickchartButtonEl.disabled = true;  // To prevent multiple clicks.\n",
              "      quickchartButtonEl.classList.add('colab-df-spinner');\n",
              "      try {\n",
              "        const charts = await google.colab.kernel.invokeFunction(\n",
              "            'suggestCharts', [key], {});\n",
              "      } catch (error) {\n",
              "        console.error('Error during call to suggestCharts:', error);\n",
              "      }\n",
              "      quickchartButtonEl.classList.remove('colab-df-spinner');\n",
              "      quickchartButtonEl.classList.add('colab-df-quickchart-complete');\n",
              "    }\n",
              "    (() => {\n",
              "      let quickchartButtonEl =\n",
              "        document.querySelector('#df-28e4b303-3edf-4411-8ed5-370c3bcb76e0 button');\n",
              "      quickchartButtonEl.style.display =\n",
              "        google.colab.kernel.accessAllowed ? 'block' : 'none';\n",
              "    })();\n",
              "  </script>\n",
              "</div>\n",
              "\n",
              "    </div>\n",
              "  </div>\n"
            ]
          },
          "metadata": {},
          "execution_count": 7
        }
      ],
      "source": [
        "# df['opening_revenue'] = df['opening_revenue'].replace('[\\$,]', '', regex=True)\n",
        "# df['world_revenue'] = df['world_revenue'].replace('[\\$,]', '', regex=True)\n",
        "\n",
        "\n",
        "# df['opening_revenue'] = pd.to_numeric(df['opening_revenue'], errors='coerce')\n",
        "# df['world_revenue'] = pd.to_numeric(df['world_revenue'], errors='coerce')\n",
        "df.head()"
      ]
    },
    {
      "cell_type": "code",
      "execution_count": null,
      "metadata": {
        "colab": {
          "base_uri": "https://localhost:8080/"
        },
        "id": "cPd3IPlqHLUv",
        "outputId": "098d49c6-9c4b-48c5-8f15-48705fef9af8",
        "tags": []
      },
      "outputs": [
        {
          "output_type": "execute_result",
          "data": {
            "text/plain": [
              "title                0.000000\n",
              "domestic_revenue     0.000000\n",
              "world_revenue        0.000000\n",
              "distributor          0.000000\n",
              "opening_revenue     11.284336\n",
              "opening_theaters    11.544172\n",
              "budget              85.263549\n",
              "MPAA                54.528582\n",
              "genres               1.447661\n",
              "release_days         0.000000\n",
              "dtype: float64"
            ]
          },
          "metadata": {},
          "execution_count": 8
        }
      ],
      "source": [
        "df.isnull().sum() * 100 / df.shape[0]"
      ]
    },
    {
      "cell_type": "code",
      "execution_count": null,
      "metadata": {
        "id": "-ZaskUVjVDfN",
        "tags": []
      },
      "outputs": [],
      "source": [
        "df['opening_theaters'] = pd.to_numeric(df['opening_theaters'], errors='coerce')\n",
        "df['release_days'] = pd.to_numeric(df['release_days'], errors='coerce')\n",
        "\n"
      ]
    },
    {
      "cell_type": "code",
      "execution_count": null,
      "metadata": {
        "colab": {
          "base_uri": "https://localhost:8080/"
        },
        "id": "_NG5QsilHLUw",
        "outputId": "988b37cc-ea8a-4ae8-db3f-d1cdacd77c81",
        "tags": []
      },
      "outputs": [
        {
          "output_type": "execute_result",
          "data": {
            "text/plain": [
              "0"
            ]
          },
          "metadata": {},
          "execution_count": 10
        }
      ],
      "source": [
        "# Handling the null value columns\n",
        "df.drop('budget', axis=1, inplace=True)\n",
        "\n",
        "for col in ['MPAA', 'genres']:\n",
        "\tdf[col] = df[col].fillna(df[col].mode()[0])\n",
        "\n",
        "df.dropna(inplace=True)\n",
        "\n",
        "df.isnull().sum().sum()\n"
      ]
    },
    {
      "cell_type": "code",
      "execution_count": null,
      "metadata": {
        "tags": [],
        "colab": {
          "base_uri": "https://localhost:8080/"
        },
        "id": "JyPfYphJrVOS",
        "outputId": "54b488fd-a2d1-403d-a0f7-6f5dd49702a5"
      },
      "outputs": [
        {
          "output_type": "execute_result",
          "data": {
            "text/plain": [
              "title               0.0\n",
              "domestic_revenue    0.0\n",
              "world_revenue       0.0\n",
              "distributor         0.0\n",
              "opening_revenue     0.0\n",
              "opening_theaters    0.0\n",
              "MPAA                0.0\n",
              "genres              0.0\n",
              "release_days        0.0\n",
              "dtype: float64"
            ]
          },
          "metadata": {},
          "execution_count": 11
        }
      ],
      "source": [
        "df.isnull().sum() * 100 / df.shape[0]"
      ]
    },
    {
      "cell_type": "code",
      "execution_count": null,
      "metadata": {
        "id": "hQUDM2fwHLUx",
        "tags": []
      },
      "outputs": [],
      "source": [
        "# df['domestic_revenue'] = df['domestic_revenue'].str[1:]\n",
        "# Convert columns to string type before applying string operations\n",
        "for col in ['domestic_revenue', 'opening_theaters', 'release_days']:\n",
        "    df[col] = df[col].astype(str)\n",
        "    df[col] = df[col].str.replace(',', '')\n",
        "\n",
        "    # Apply string operations only on non-null string values\n",
        "    temp = ~df[col].isnull()\n",
        "    df.loc[temp, col] = df.loc[temp, col].str[1:]\n",
        "\n",
        "    # Convert to numeric\n",
        "    df[col] = pd.to_numeric(df[col], errors='coerce')\n",
        "\n"
      ]
    },
    {
      "cell_type": "code",
      "execution_count": null,
      "metadata": {
        "colab": {
          "base_uri": "https://localhost:8080/",
          "height": 482
        },
        "id": "lcWy1PLKHLUx",
        "outputId": "acf1e747-caa2-4bfb-ce1f-a3623495b6d0",
        "tags": []
      },
      "outputs": [
        {
          "output_type": "display_data",
          "data": {
            "text/plain": [
              "<Figure size 1000x500 with 1 Axes>"
            ],
            "image/png": "[encoded data removed]"
          },
          "metadata": {}
        },
        {
          "output_type": "stream",
          "name": "stdout",
          "text": [
            "0\n"
          ]
        }
      ],
      "source": [
        "import seaborn as sb\n",
        "import matplotlib.pyplot as plt\n",
        "\n",
        "# Convert 'MPAA' column to categorical dtype\n",
        "df['MPAA'] = df['MPAA'].astype('category')\n",
        "\n",
        "# Plot the count of each category in 'MPAA'\n",
        "plt.figure(figsize=(10, 5))\n",
        "sb.countplot(data=df, x='MPAA')\n",
        "plt.show()\n",
        "\n",
        "# Check for null values in 'MPAA' column\n",
        "print(df['MPAA'].isnull().sum())\n"
      ]
    },
    {
      "cell_type": "code",
      "execution_count": null,
      "metadata": {
        "id": "ALqQaVqyHLUy",
        "tags": []
      },
      "outputs": [],
      "source": [
        "# Convert 'domestic_revenue' to numeric, coercing errors\n",
        "df['domestic_revenue'] = pd.to_numeric(df['domestic_revenue'], errors='coerce')\n",
        "\n",
        "# Group by 'MPAA' and calculate the mean of 'domestic_revenue'\n",
        "mean_domestic_revenue_by_MPAA = df.groupby('MPAA')['domestic_revenue'].mean()\n"
      ]
    },
    {
      "cell_type": "code",
      "execution_count": null,
      "metadata": {
        "colab": {
          "base_uri": "https://localhost:8080/",
          "height": 382
        },
        "id": "vVeoj5FxHLUz",
        "outputId": "ad5a4632-6ef0-4634-891f-1620483db682",
        "tags": []
      },
      "outputs": [
        {
          "output_type": "display_data",
          "data": {
            "text/plain": [
              "<Figure size 1500x500 with 3 Axes>"
            ],
            "image/png": "[encoded data removed]"
          },
          "metadata": {}
        }
      ],
      "source": [
        "plt.subplots(figsize=(15, 5))\n",
        "\n",
        "features = ['domestic_revenue', 'opening_theaters', 'release_days']\n",
        "for i, col in enumerate(features):\n",
        "\tplt.subplot(1, 3, i+1)\n",
        "\tsb.distplot(df[col])\n",
        "plt.tight_layout()\n",
        "plt.show()\n"
      ]
    },
    {
      "cell_type": "code",
      "execution_count": null,
      "metadata": {
        "colab": {
          "base_uri": "https://localhost:8080/",
          "height": 383
        },
        "id": "mLRwIvOyHLUz",
        "outputId": "1259b06a-8bd1-4e09-fc6c-1dd91ee4dbc6",
        "tags": []
      },
      "outputs": [
        {
          "output_type": "display_data",
          "data": {
            "text/plain": [
              "<Figure size 1500x500 with 3 Axes>"
            ],
            "image/png": "[encoded data removed]"
          },
          "metadata": {}
        }
      ],
      "source": [
        "import seaborn as sb\n",
        "import matplotlib.pyplot as plt\n",
        "\n",
        "# Assuming 'features' contains valid column names present in your DataFrame 'df'\n",
        "plt.subplots(figsize=(15, 5))\n",
        "for i, col in enumerate(features):\n",
        "    plt.subplot(1, 3, i+1)\n",
        "    sb.boxplot(data=df, x=col)  # Ensure 'col' exists in 'df'\n",
        "plt.tight_layout()\n",
        "plt.show()\n"
      ]
    },
    {
      "cell_type": "code",
      "execution_count": null,
      "metadata": {
        "id": "HZsz8MU5HLU0",
        "tags": []
      },
      "outputs": [],
      "source": [
        "import numpy as np\n",
        "\n",
        "for col in features:\n",
        "    df[col] = df[col].apply(lambda x: np.log10(float(x)) if (isinstance(x, (int, float)) and x > 0) else np.nan)\n"
      ]
    },
    {
      "cell_type": "code",
      "execution_count": null,
      "metadata": {
        "colab": {
          "base_uri": "https://localhost:8080/",
          "height": 382
        },
        "id": "llCZYWbnHLU0",
        "outputId": "b3f3a368-2fa1-44a5-dab4-83c0f2da2c93",
        "tags": []
      },
      "outputs": [
        {
          "output_type": "display_data",
          "data": {
            "text/plain": [
              "<Figure size 1500x500 with 3 Axes>"
            ],
            "image/png": "[encoded data removed]"
          },
          "metadata": {}
        }
      ],
      "source": [
        "plt.subplots(figsize=(15, 5))\n",
        "for i, col in enumerate(features):\n",
        "\tplt.subplot(1, 3, i+1)\n",
        "\tsb.distplot(df[col])\n",
        "plt.tight_layout()\n",
        "plt.show()\n"
      ]
    },
    {
      "cell_type": "code",
      "execution_count": null,
      "metadata": {
        "colab": {
          "base_uri": "https://localhost:8080/"
        },
        "id": "FtvyNBFsHLU0",
        "outputId": "7a505d98-bb43-4719-e940-bcd78e1eabe6",
        "tags": []
      },
      "outputs": [
        {
          "output_type": "stream",
          "name": "stdout",
          "text": [
            "Index(['title', 'domestic_revenue', 'world_revenue', 'distributor',\n",
            "       'opening_revenue', 'opening_theaters', 'MPAA', 'genres',\n",
            "       'release_days'],\n",
            "      dtype='object')\n"
          ]
        }
      ],
      "source": [
        "print(df.columns)"
      ]
    },
    {
      "cell_type": "code",
      "execution_count": null,
      "metadata": {
        "id": "Y9jGdmg0HLU1",
        "tags": []
      },
      "outputs": [],
      "source": [
        "vectorizer = CountVectorizer()\n",
        "features = vectorizer.fit_transform(df['genres'])\n",
        "\n",
        "# Retrieve feature names after fitting the vectorizer\n",
        "genres = vectorizer.get_feature_names_out()\n",
        "\n",
        "# Transform the features into an array\n",
        "features_array = features.toarray()\n",
        "\n",
        "# Create a DataFrame with the features\n",
        "features_df = pd.DataFrame(features_array, columns=genres)\n",
        "\n",
        "# Concatenate the original DataFrame 'df' with the new features DataFrame\n",
        "df = pd.concat([df, features_df], axis=1)\n",
        "\n",
        "# Drop the 'genres' column\n",
        "df.drop('genres', axis=1, inplace=True)"
      ]
    },
    {
      "cell_type": "code",
      "execution_count": null,
      "metadata": {
        "colab": {
          "base_uri": "https://localhost:8080/"
        },
        "id": "b7pab0ErHLU1",
        "outputId": "f61847fd-ab1a-41e5-dc74-28b6e12594a6",
        "tags": []
      },
      "outputs": [
        {
          "output_type": "stream",
          "name": "stdout",
          "text": [
            "0\n",
            "(2308, 37)\n"
          ]
        }
      ],
      "source": [
        "removed = 0\n",
        "for col in df.loc[:, 'action':'western'].columns:\n",
        "\n",
        "\t# Removing columns having more\n",
        "\t# than 95% of the values as zero.\n",
        "\tif (df[col] == 0).mean() > 0.95:\n",
        "\t\tremoved += 1\n",
        "\t\tdf.drop(col, axis=1, inplace=True)\n",
        "\n",
        "print(removed)\n",
        "print(df.shape)\n"
      ]
    },
    {
      "cell_type": "code",
      "execution_count": null,
      "metadata": {
        "id": "-1nAveDZHLU1",
        "tags": []
      },
      "outputs": [],
      "source": [
        "df['distributor'] = df['distributor'].astype('category')\n",
        "\n",
        "for col in ['distributor', 'MPAA']:\n",
        "\tle = LabelEncoder()\n",
        "\tdf[col] = le.fit_transform(df[col])\n"
      ]
    },
    {
      "cell_type": "code",
      "execution_count": null,
      "metadata": {
        "colab": {
          "base_uri": "https://localhost:8080/",
          "height": 789
        },
        "id": "zKDVpn8DHLU1",
        "outputId": "2576f6f5-f36e-4c08-894a-da850e8c0202",
        "tags": []
      },
      "outputs": [
        {
          "output_type": "display_data",
          "data": {
            "text/plain": [
              "<Figure size 800x800 with 1 Axes>"
            ],
            "image/png": "[encoded data removed]"
          },
          "metadata": {}
        }
      ],
      "source": [
        "# Exclude non-numeric columns before calculating correlations\n",
        "numeric_df = df.select_dtypes(include=['float64', 'int64'])\n",
        "\n",
        "plt.figure(figsize=(8, 8))\n",
        "sb.heatmap(numeric_df.corr() > 0.8, annot=True, cbar=False)\n",
        "plt.show()\n"
      ]
    },
    {
      "cell_type": "code",
      "execution_count": null,
      "metadata": {
        "colab": {
          "base_uri": "https://localhost:8080/"
        },
        "id": "9aO2W2HxHLU2",
        "outputId": "ca08d3ec-d4ee-4931-9a1e-59af7cc9d3b8",
        "tags": []
      },
      "outputs": [
        {
          "output_type": "execute_result",
          "data": {
            "text/plain": [
              "((1846, 34),\n",
              " (462, 34),\n",
              "      world_revenue  distributor opening_revenue  opening_theaters  MPAA  \\\n",
              " 838        $20,039          112          $3,517               NaN     6   \n",
              " 2334   $46,710,283           78        $194,777               NaN     6   \n",
              " 1574           NaN          217             NaN               NaN     7   \n",
              " 460        $83,558          119         $12,309               NaN     6   \n",
              " 2465    $7,214,806            2        $111,200               NaN     6   \n",
              " ...            ...          ...             ...               ...   ...   \n",
              " 2171      $900,451           72        $386,612          1.740363     6   \n",
              " 1365      $115,103          125         $25,208               NaN     6   \n",
              " 1402       $21,031          106          $5,204               NaN     6   \n",
              " 1619      $194,601          184         $19,586               NaN     6   \n",
              " 1092      $516,130           72        $263,582          1.000000     4   \n",
              " \n",
              "       release_days  action  adult  adventure  animation  ...  noir  reality  \\\n",
              " 838       1.832509     0.0    0.0        0.0        0.0  ...   0.0      0.0   \n",
              " 2334      1.954243     NaN    NaN        NaN        NaN  ...   NaN      NaN   \n",
              " 1574           NaN     1.0    0.0        0.0        0.0  ...   0.0      0.0   \n",
              " 460       1.724276     0.0    0.0        0.0        0.0  ...   0.0      0.0   \n",
              " 2465      1.838849     NaN    NaN        NaN        NaN  ...   NaN      NaN   \n",
              " ...            ...     ...    ...        ...        ...  ...   ...      ...   \n",
              " 2171      1.491362     NaN    NaN        NaN        NaN  ...   NaN      NaN   \n",
              " 1365      0.954243     0.0    0.0        0.0        0.0  ...   0.0      0.0   \n",
              " 1402      1.963788     0.0    0.0        0.0        0.0  ...   0.0      0.0   \n",
              " 1619      1.991226     0.0    0.0        0.0        0.0  ...   0.0      0.0   \n",
              " 1092      1.799341     0.0    0.0        0.0        0.0  ...   0.0      0.0   \n",
              " \n",
              "       romance  sci  short  sport  thriller   tv  war  western  \n",
              " 838       0.0  0.0    0.0    0.0       0.0  0.0  0.0      0.0  \n",
              " 2334      NaN  NaN    NaN    NaN       NaN  NaN  NaN      NaN  \n",
              " 1574      0.0  0.0    0.0    0.0       1.0  0.0  1.0      0.0  \n",
              " 460       1.0  0.0    0.0    0.0       0.0  0.0  0.0      0.0  \n",
              " 2465      NaN  NaN    NaN    NaN       NaN  NaN  NaN      NaN  \n",
              " ...       ...  ...    ...    ...       ...  ...  ...      ...  \n",
              " 2171      NaN  NaN    NaN    NaN       NaN  NaN  NaN      NaN  \n",
              " 1365      0.0  0.0    0.0    0.0       0.0  0.0  0.0      0.0  \n",
              " 1402      0.0  0.0    0.0    0.0       0.0  0.0  0.0      0.0  \n",
              " 1619      1.0  0.0    0.0    0.0       0.0  0.0  0.0      0.0  \n",
              " 1092      0.0  0.0    0.0    0.0       0.0  0.0  0.0      0.0  \n",
              " \n",
              " [1846 rows x 34 columns])"
            ]
          },
          "metadata": {},
          "execution_count": 24
        }
      ],
      "source": [
        "features = df.drop(['title', 'domestic_revenue', 'fi'], axis=1)\n",
        "target = df['domestic_revenue'].values\n",
        "\n",
        "X_train, X_val,\\\n",
        "\tY_train, Y_val = train_test_split(features, target,\n",
        "\t\t\t\t\t\t\t\t\ttest_size=0.2,\n",
        "\t\t\t\t\t\t\t\t\trandom_state=42)\n",
        "X_train.shape, X_val.shape, X_train\n",
        "\n"
      ]
    },
    {
      "cell_type": "code",
      "execution_count": null,
      "metadata": {
        "tags": [],
        "colab": {
          "base_uri": "https://localhost:8080/"
        },
        "id": "4BP4rJmGrVOW",
        "outputId": "7758edd7-0a6a-44db-dc33-cadf04699957"
      },
      "outputs": [
        {
          "output_type": "execute_result",
          "data": {
            "text/plain": [
              "(1846,)"
            ]
          },
          "metadata": {},
          "execution_count": 25
        }
      ],
      "source": [
        "Y_train.flatten().shape"
      ]
    },
    {
      "cell_type": "code",
      "execution_count": null,
      "metadata": {
        "tags": [],
        "id": "A7ISIZswrVOX"
      },
      "outputs": [],
      "source": [
        "# Normalizing the features for stable and fast training.\n",
        "\n",
        "# Assuming 'col_to_convert' is the column containing monetary values\n",
        "X_train['world_revenue'] = X_train['world_revenue'].replace('[\\$,]', '', regex=True).astype(float)\n",
        "X_val['world_revenue'] = X_val['world_revenue'].replace('[\\$,]', '', regex=True).astype(float)\n",
        "\n",
        "\n",
        "\n",
        "# Assuming 'col_to_convert' is the column containing monetary values\n",
        "X_train['opening_revenue'] = X_train['opening_revenue'].replace('[\\$,]', '', regex=True).astype(float)\n",
        "X_val['opening_revenue'] = X_val['opening_revenue'].replace('[\\$,]', '', regex=True).astype(float)\n",
        "\n"
      ]
    },
    {
      "cell_type": "code",
      "execution_count": null,
      "metadata": {
        "tags": [],
        "id": "z8_1nEgdrVOX"
      },
      "outputs": [],
      "source": [
        "numeric_cols = X_train.select_dtypes(np.number).columns\n",
        "\n",
        "\n",
        "col_update = X_train[numeric_cols].apply(lambda col: col.fillna(col.mean()))\n",
        "X_train[numeric_cols] = col_update\n",
        "\n",
        "\n",
        "numeric_cols_X_val = X_val.select_dtypes(np.number).columns\n",
        "col_update_X_val = X_val[numeric_cols_X_val].apply(lambda col: col.fillna(col.mean()))\n",
        "X_val[numeric_cols_X_val] = col_update_X_val\n"
      ]
    },
    {
      "cell_type": "code",
      "execution_count": null,
      "metadata": {
        "tags": [],
        "colab": {
          "base_uri": "https://localhost:8080/"
        },
        "id": "jPGTO2lYrVOX",
        "outputId": "b09fa3e6-84f2-4f30-86c6-91b92aed5494"
      },
      "outputs": [
        {
          "output_type": "stream",
          "name": "stdout",
          "text": [
            "<class 'pandas.core.frame.DataFrame'>\n",
            "Int64Index: 1846 entries, 838 to 1092\n",
            "Data columns (total 34 columns):\n",
            " #   Column            Non-Null Count  Dtype  \n",
            "---  ------            --------------  -----  \n",
            " 0   world_revenue     1846 non-null   float64\n",
            " 1   distributor       1846 non-null   int64  \n",
            " 2   opening_revenue   1846 non-null   float64\n",
            " 3   opening_theaters  1846 non-null   float64\n",
            " 4   MPAA              1846 non-null   int64  \n",
            " 5   release_days      1846 non-null   float64\n",
            " 6   action            1846 non-null   float64\n",
            " 7   adult             1846 non-null   float64\n",
            " 8   adventure         1846 non-null   float64\n",
            " 9   animation         1846 non-null   float64\n",
            " 10  biography         1846 non-null   float64\n",
            " 11  comedy            1846 non-null   float64\n",
            " 12  crime             1846 non-null   float64\n",
            " 13  documentary       1846 non-null   float64\n",
            " 14  drama             1846 non-null   float64\n",
            " 15  family            1846 non-null   float64\n",
            " 16  fantasy           1846 non-null   float64\n",
            " 17  film              1846 non-null   float64\n",
            " 18  history           1846 non-null   float64\n",
            " 19  horror            1846 non-null   float64\n",
            " 20  music             1846 non-null   float64\n",
            " 21  musical           1846 non-null   float64\n",
            " 22  mystery           1846 non-null   float64\n",
            " 23  news              1846 non-null   float64\n",
            " 24  noir              1846 non-null   float64\n",
            " 25  reality           1846 non-null   float64\n",
            " 26  romance           1846 non-null   float64\n",
            " 27  sci               1846 non-null   float64\n",
            " 28  short             1846 non-null   float64\n",
            " 29  sport             1846 non-null   float64\n",
            " 30  thriller          1846 non-null   float64\n",
            " 31  tv                1846 non-null   float64\n",
            " 32  war               1846 non-null   float64\n",
            " 33  western           1846 non-null   float64\n",
            "dtypes: float64(32), int64(2)\n",
            "memory usage: 504.8 KB\n"
          ]
        }
      ],
      "source": [
        "X_train.info()"
      ]
    },
    {
      "cell_type": "code",
      "execution_count": null,
      "metadata": {
        "id": "ZOVntrsdHLU2",
        "tags": []
      },
      "outputs": [],
      "source": [
        "# Normalizing the features for stable and fast training.\n",
        "\n",
        "scaler = StandardScaler()\n",
        "X_train = scaler.fit_transform(X_train)\n",
        "X_val = scaler.transform(X_val)\n"
      ]
    },
    {
      "cell_type": "code",
      "execution_count": null,
      "metadata": {
        "colab": {
          "base_uri": "https://localhost:8080/"
        },
        "id": "mf25Rl33HLU2",
        "outputId": "e813d02d-5c88-4e1f-8e6d-42b12c61ec6b",
        "tags": []
      },
      "outputs": [
        {
          "output_type": "stream",
          "name": "stdout",
          "text": [
            "Training Error :  0.02267192903387726\n",
            "(462,)\n",
            "Validation Error With MAE :  0.2420873938469516\n",
            "Validation Error With MSE :  0.11153374102329877\n"
          ]
        }
      ],
      "source": [
        "import numpy as np\n",
        "from sklearn.impute import SimpleImputer\n",
        "\n",
        "# Xử lý giá trị NaN, infinity trong Y_train\n",
        "Y_train[np.isinf(Y_train)] = np.nan\n",
        "\n",
        "# Sử dụng SimpleImputer để điền giá trị NaN bằng mean của cột (hoặc median, mode tùy ý)\n",
        "imputer = SimpleImputer(strategy='mean')\n",
        "Y_train = imputer.fit_transform(Y_train.reshape(-1, 1))\n",
        "\n",
        "# Kiểm tra và xử lý giá trị cực lớn trong Y_train\n",
        "max_allowed_value = 1e12  # Giá trị tối đa cho phép\n",
        "Y_train[Y_train > max_allowed_value] = max_allowed_value  # Thay thế các giá trị vượt quá giới hạn\n",
        "\n",
        "# Tiếp tục huấn luyện mô hình XGBoost\n",
        "from xgboost import XGBRegressor\n",
        "from sklearn.metrics import mean_absolute_error as mae\n",
        "from sklearn.metrics import mean_squared_error as mse\n",
        "\n",
        "model_xgb = XGBRegressor()\n",
        "model_xgb.fit(X_train, Y_train)\n",
        "\n",
        "train_preds = model_xgb.predict(X_train)\n",
        "\n",
        "print('Training Error : ', mae(Y_train, train_preds))\n",
        "\n",
        "# Xử lý dữ liệu Y_val tương tự như Y_train\n",
        "Y_val[np.isinf(Y_val)] = np.nan\n",
        "Y_val = imputer.transform(Y_val.reshape(-1, 1))\n",
        "\n",
        "Y_val[Y_val > max_allowed_value] = max_allowed_value\n",
        "\n",
        "# Đánh giá mô hình trên dữ liệu validation (Y_val)\n",
        "val_preds = model_xgb.predict(X_val)\n",
        "print(val_preds.shape)\n",
        "print('Validation Error With MAE : ', mae(Y_val, val_preds))\n",
        "print('Validation Error With MSE : ', mse(Y_val, val_preds))\n",
        "\n"
      ]
    },
    {
      "cell_type": "code",
      "execution_count": null,
      "metadata": {
        "tags": [],
        "id": "mltIJiDKrVOY"
      },
      "outputs": [],
      "source": [
        "from sklearn.ensemble import RandomForestRegressor\n",
        "from sklearn.linear_model import LinearRegression\n"
      ]
    },
    {
      "cell_type": "code",
      "execution_count": null,
      "metadata": {
        "tags": [],
        "colab": {
          "base_uri": "https://localhost:8080/"
        },
        "id": "WHeFipmmrVOZ",
        "outputId": "113a9fe1-7f4d-476b-a372-2fee5700d5af"
      },
      "outputs": [
        {
          "output_type": "stream",
          "name": "stdout",
          "text": [
            "(462, 1)\n",
            "1.1269692898307997\n",
            "0.6214646543437339\n"
          ]
        }
      ],
      "source": [
        "# Linear Regression\n",
        "model_linear_regression = LinearRegression()\n",
        "model_linear_regression.fit(X_train, Y_train)\n",
        "\n",
        "pred_linear_regression = model_linear_regression.predict(X_val)\n",
        "print(pred_linear_regression.shape)\n",
        "print(mse(Y_val, pred_linear_regression))\n",
        "print(mae(Y_val, pred_linear_regression))\n"
      ]
    },
    {
      "cell_type": "code",
      "execution_count": null,
      "metadata": {
        "tags": [],
        "colab": {
          "base_uri": "https://localhost:8080/"
        },
        "id": "RRXpglJCrVOZ",
        "outputId": "c39bd8f7-9bf9-4449-a38a-ec61d8a8fa2d"
      },
      "outputs": [
        {
          "output_type": "stream",
          "name": "stdout",
          "text": [
            "(462,)\n",
            "0.08144161481175449\n",
            "0.18324829607586768\n"
          ]
        }
      ],
      "source": [
        "# Random Forest\n",
        "model_randomforest = RandomForestRegressor()\n",
        "model_randomforest.fit(X_train, Y_train)\n",
        "\n",
        "pred_randomforest = model_randomforest.predict(X_val)\n",
        "print(pred_randomforest.shape)\n",
        "print(mse(Y_val, pred_randomforest.reshape(-1, 1)))\n",
        "print(mae(Y_val, pred_randomforest))"
      ]
    },
    {
      "cell_type": "code",
      "execution_count": null,
      "metadata": {
        "tags": [],
        "colab": {
          "base_uri": "https://localhost:8080/"
        },
        "id": "TWAPAyt-rVOZ",
        "outputId": "bbb6e72e-9da5-4250-dfdc-5e47b12be1e9"
      },
      "outputs": [
        {
          "output_type": "stream",
          "name": "stdout",
          "text": [
            "0.2101992594388076\n",
            "0.2869793573836084\n"
          ]
        }
      ],
      "source": [
        "# Averaging Method in Ensemble Learning\n",
        "pred_average = (val_preds.reshape(-1, 1) + pred_linear_regression + pred_randomforest.reshape(-1, 1))/3.0\n",
        "\n",
        "print(mse(Y_val, pred_average))\n",
        "print(mae(Y_val, pred_average))"
      ]
    },
    {
      "cell_type": "code",
      "execution_count": null,
      "metadata": {
        "colab": {
          "base_uri": "https://localhost:8080/"
        },
        "id": "5hK_GuVHrVOa",
        "outputId": "88529b87-708f-47a5-9293-0e4de6ec99d0"
      },
      "outputs": [
        {
          "output_type": "execute_result",
          "data": {
            "text/plain": [
              "0.8979688540338099"
            ]
          },
          "metadata": {},
          "execution_count": 37
        }
      ],
      "source": [
        "# Stacking\n",
        "from sklearn.ensemble import StackingRegressor\n",
        "\n",
        "estimators = [('lr', model_linear_regression), ('rf', model_randomforest), ('xgb', model_xgb)]\n",
        "final_estimator = LinearRegression()\n",
        "model_stacking = StackingRegressor(estimators = estimators, final_estimator = final_estimator)\n",
        "model_stacking.fit(X_train, Y_train).score(X_val, Y_val)\n",
        "\n"
      ]
    },
    {
      "cell_type": "code",
      "execution_count": null,
      "metadata": {
        "tags": [],
        "colab": {
          "base_uri": "https://localhost:8080/"
        },
        "id": "KZ6XKPDMrVOa",
        "outputId": "d46fc326-0890-4972-f510-7edf43a960db"
      },
      "outputs": [
        {
          "output_type": "stream",
          "name": "stdout",
          "text": [
            "0.08456180685579423\n"
          ]
        }
      ],
      "source": [
        "pred_stacking = model_stacking.predict(X_val)\n",
        "pred_stacking = pred_stacking.reshape(-1, 1)\n",
        "\n",
        "print(mse(Y_val, pred_stacking))"
      ]
    },
    {
      "cell_type": "markdown",
      "source": [
        "Ý 4 áp dụng cho ý 2"
      ],
      "metadata": {
        "id": "vH3c0hi_zOlm"
      }
    },
    {
      "cell_type": "code",
      "execution_count": null,
      "metadata": {
        "tags": [],
        "id": "h5edgX2VrVOb"
      },
      "outputs": [],
      "source": [
        "import tensorflow as tf\n",
        "from tensorflow.keras.models import Sequential\n",
        "from tensorflow.keras.layers import Dense, LSTM"
      ]
    },
    {
      "cell_type": "code",
      "execution_count": null,
      "metadata": {
        "tags": [],
        "colab": {
          "base_uri": "https://localhost:8080/"
        },
        "id": "_QH1zyGbrVOb",
        "outputId": "3628e0a4-bb6a-4cdb-c7a1-1ed7f186ece5"
      },
      "outputs": [
        {
          "output_type": "stream",
          "name": "stdout",
          "text": [
            "Epoch 1/50\n",
            "47/47 [==============================] - 1s 7ms/step - loss: 11.4768 - val_loss: 3.9203\n",
            "Epoch 2/50\n",
            "47/47 [==============================] - 0s 3ms/step - loss: 3.7161 - val_loss: 2.6199\n",
            "Epoch 3/50\n",
            "47/47 [==============================] - 0s 3ms/step - loss: 2.5744 - val_loss: 2.1202\n",
            "Epoch 4/50\n",
            "47/47 [==============================] - 0s 3ms/step - loss: 2.0647 - val_loss: 1.8464\n",
            "Epoch 5/50\n",
            "47/47 [==============================] - 0s 3ms/step - loss: 1.6591 - val_loss: 1.6039\n",
            "Epoch 6/50\n",
            "47/47 [==============================] - 0s 4ms/step - loss: 1.3644 - val_loss: 1.3111\n",
            "Epoch 7/50\n",
            "47/47 [==============================] - 0s 3ms/step - loss: 1.1073 - val_loss: 1.1302\n",
            "Epoch 8/50\n",
            "47/47 [==============================] - 0s 3ms/step - loss: 0.8845 - val_loss: 0.9554\n",
            "Epoch 9/50\n",
            "47/47 [==============================] - 0s 3ms/step - loss: 0.7318 - val_loss: 0.8459\n",
            "Epoch 10/50\n",
            "47/47 [==============================] - 0s 3ms/step - loss: 0.6898 - val_loss: 0.7274\n",
            "Epoch 11/50\n",
            "47/47 [==============================] - 0s 3ms/step - loss: 0.6442 - val_loss: 0.6797\n",
            "Epoch 12/50\n",
            "47/47 [==============================] - 0s 3ms/step - loss: 0.4645 - val_loss: 0.6284\n",
            "Epoch 13/50\n",
            "47/47 [==============================] - 0s 4ms/step - loss: 0.4005 - val_loss: 0.5818\n",
            "Epoch 14/50\n",
            "47/47 [==============================] - 0s 3ms/step - loss: 0.3616 - val_loss: 0.5915\n",
            "Epoch 15/50\n",
            "47/47 [==============================] - 0s 3ms/step - loss: 0.3218 - val_loss: 0.5481\n",
            "Epoch 16/50\n",
            "47/47 [==============================] - 0s 4ms/step - loss: 0.3166 - val_loss: 0.5097\n",
            "Epoch 17/50\n",
            "47/47 [==============================] - 0s 3ms/step - loss: 0.3008 - val_loss: 0.4976\n",
            "Epoch 18/50\n",
            "47/47 [==============================] - 0s 3ms/step - loss: 0.2740 - val_loss: 0.4931\n",
            "Epoch 19/50\n",
            "47/47 [==============================] - 0s 3ms/step - loss: 0.2532 - val_loss: 0.4895\n",
            "Epoch 20/50\n",
            "47/47 [==============================] - 0s 3ms/step - loss: 0.2535 - val_loss: 0.4780\n",
            "Epoch 21/50\n",
            "47/47 [==============================] - 0s 3ms/step - loss: 0.2392 - val_loss: 0.4798\n",
            "Epoch 22/50\n",
            "47/47 [==============================] - 0s 3ms/step - loss: 0.2328 - val_loss: 0.4934\n",
            "Epoch 23/50\n",
            "47/47 [==============================] - 0s 4ms/step - loss: 0.2260 - val_loss: 0.4946\n",
            "Epoch 24/50\n",
            "47/47 [==============================] - 0s 5ms/step - loss: 0.2142 - val_loss: 0.4988\n",
            "Epoch 25/50\n",
            "47/47 [==============================] - 0s 6ms/step - loss: 0.2092 - val_loss: 0.4990\n",
            "Epoch 26/50\n",
            "47/47 [==============================] - 0s 6ms/step - loss: 0.2046 - val_loss: 0.4678\n",
            "Epoch 27/50\n",
            "47/47 [==============================] - 0s 7ms/step - loss: 0.2051 - val_loss: 0.4967\n",
            "Epoch 28/50\n",
            "47/47 [==============================] - 0s 6ms/step - loss: 0.2027 - val_loss: 0.4603\n",
            "Epoch 29/50\n",
            "47/47 [==============================] - 0s 7ms/step - loss: 0.1961 - val_loss: 0.4411\n",
            "Epoch 30/50\n",
            "47/47 [==============================] - 0s 6ms/step - loss: 0.1975 - val_loss: 0.4941\n",
            "Epoch 31/50\n",
            "47/47 [==============================] - 1s 12ms/step - loss: 0.1857 - val_loss: 0.4589\n",
            "Epoch 32/50\n",
            "47/47 [==============================] - 0s 6ms/step - loss: 0.1844 - val_loss: 0.4832\n",
            "Epoch 33/50\n",
            "47/47 [==============================] - 0s 10ms/step - loss: 0.1895 - val_loss: 0.4635\n",
            "Epoch 34/50\n",
            "47/47 [==============================] - 0s 9ms/step - loss: 0.2100 - val_loss: 0.5184\n",
            "Epoch 35/50\n",
            "47/47 [==============================] - 0s 8ms/step - loss: 0.1894 - val_loss: 0.4447\n",
            "Epoch 36/50\n",
            "47/47 [==============================] - 0s 10ms/step - loss: 0.2112 - val_loss: 0.5110\n",
            "Epoch 37/50\n",
            "47/47 [==============================] - 0s 10ms/step - loss: 0.1885 - val_loss: 0.4722\n",
            "Epoch 38/50\n",
            "47/47 [==============================] - 1s 13ms/step - loss: 0.1902 - val_loss: 0.4660\n",
            "Epoch 39/50\n",
            "47/47 [==============================] - 1s 14ms/step - loss: 0.1886 - val_loss: 0.4884\n",
            "Epoch 40/50\n",
            "47/47 [==============================] - 1s 12ms/step - loss: 0.1630 - val_loss: 0.4599\n",
            "Epoch 41/50\n",
            "47/47 [==============================] - 1s 12ms/step - loss: 0.1642 - val_loss: 0.4603\n",
            "Epoch 42/50\n",
            "47/47 [==============================] - 0s 9ms/step - loss: 0.1500 - val_loss: 0.4464\n",
            "Epoch 43/50\n",
            "47/47 [==============================] - 0s 8ms/step - loss: 0.1526 - val_loss: 0.4895\n",
            "Epoch 44/50\n",
            "47/47 [==============================] - 0s 7ms/step - loss: 0.1491 - val_loss: 0.4561\n",
            "Epoch 45/50\n",
            "47/47 [==============================] - 0s 9ms/step - loss: 0.1477 - val_loss: 0.4656\n",
            "Epoch 46/50\n",
            "47/47 [==============================] - 0s 7ms/step - loss: 0.1483 - val_loss: 0.4824\n",
            "Epoch 47/50\n",
            "47/47 [==============================] - 0s 6ms/step - loss: 0.1562 - val_loss: 0.4435\n",
            "Epoch 48/50\n",
            "47/47 [==============================] - 0s 9ms/step - loss: 0.1518 - val_loss: 0.4729\n",
            "Epoch 49/50\n",
            "47/47 [==============================] - 0s 7ms/step - loss: 0.1457 - val_loss: 0.5352\n",
            "Epoch 50/50\n",
            "47/47 [==============================] - 0s 9ms/step - loss: 0.1521 - val_loss: 0.4893\n",
            "15/15 [==============================] - 0s 2ms/step\n",
            "0.4293793905785394\n"
          ]
        }
      ],
      "source": [
        "# FNN\n",
        "model_fnn= Sequential([\n",
        "    Dense(128, activation = 'relu', input_shape=(X_train.shape[1],)),\n",
        "    Dense(64, activation = 'relu'),\n",
        "    Dense(1)\n",
        "])\n",
        "\n",
        "model_fnn.compile(optimizer = 'adam', loss = 'mean_squared_error')\n",
        "\n",
        "model_fnn.fit(X_train, Y_train, epochs = 50, batch_size = 32, validation_split = 0.2)\n",
        "\n",
        "pred_fnn = model_fnn.predict(X_val)\n",
        "print(mse(Y_val, pred_fnn))"
      ]
    },
    {
      "cell_type": "code",
      "execution_count": null,
      "metadata": {
        "colab": {
          "base_uri": "https://localhost:8080/"
        },
        "id": "euJlOwACrVOc",
        "outputId": "cfe29440-707d-4f73-b7ed-b1167de26c75"
      },
      "outputs": [
        {
          "output_type": "stream",
          "name": "stdout",
          "text": [
            "Epoch 1/50\n",
            "47/47 [==============================] - 2s 16ms/step - loss: 13.8898 - val_loss: 4.0848\n",
            "Epoch 2/50\n",
            "47/47 [==============================] - 0s 9ms/step - loss: 7.0689 - val_loss: 3.3580\n",
            "Epoch 3/50\n",
            "47/47 [==============================] - 0s 8ms/step - loss: 6.7904 - val_loss: 3.0988\n",
            "Epoch 4/50\n",
            "47/47 [==============================] - 1s 12ms/step - loss: 4.7247 - val_loss: 2.4962\n",
            "Epoch 5/50\n",
            "47/47 [==============================] - 1s 11ms/step - loss: 4.4586 - val_loss: 2.2741\n",
            "Epoch 6/50\n",
            "47/47 [==============================] - 0s 8ms/step - loss: 4.3619 - val_loss: 2.1409\n",
            "Epoch 7/50\n",
            "47/47 [==============================] - 1s 13ms/step - loss: 3.5768 - val_loss: 1.9283\n",
            "Epoch 8/50\n",
            "47/47 [==============================] - 0s 10ms/step - loss: 3.4213 - val_loss: 1.7744\n",
            "Epoch 9/50\n",
            "47/47 [==============================] - 1s 11ms/step - loss: 3.2152 - val_loss: 1.5549\n",
            "Epoch 10/50\n",
            "47/47 [==============================] - 1s 16ms/step - loss: 2.9209 - val_loss: 1.5653\n",
            "Epoch 11/50\n",
            "47/47 [==============================] - 1s 17ms/step - loss: 2.9572 - val_loss: 1.4179\n",
            "Epoch 12/50\n",
            "47/47 [==============================] - 1s 14ms/step - loss: 2.7021 - val_loss: 1.3257\n",
            "Epoch 13/50\n",
            "47/47 [==============================] - 1s 11ms/step - loss: 2.5188 - val_loss: 1.3738\n",
            "Epoch 14/50\n",
            "47/47 [==============================] - 1s 14ms/step - loss: 2.5606 - val_loss: 1.2377\n",
            "Epoch 15/50\n",
            "47/47 [==============================] - 1s 13ms/step - loss: 2.3536 - val_loss: 1.1804\n",
            "Epoch 16/50\n",
            "47/47 [==============================] - 0s 6ms/step - loss: 2.3215 - val_loss: 1.2770\n",
            "Epoch 17/50\n",
            "47/47 [==============================] - 0s 9ms/step - loss: 2.2570 - val_loss: 1.1339\n",
            "Epoch 18/50\n",
            "47/47 [==============================] - 0s 9ms/step - loss: 2.0786 - val_loss: 1.0037\n",
            "Epoch 19/50\n",
            "47/47 [==============================] - 0s 9ms/step - loss: 2.1734 - val_loss: 1.0305\n",
            "Epoch 20/50\n",
            "47/47 [==============================] - 0s 7ms/step - loss: 2.1058 - val_loss: 0.9030\n",
            "Epoch 21/50\n",
            "47/47 [==============================] - 1s 12ms/step - loss: 1.9887 - val_loss: 0.9022\n",
            "Epoch 22/50\n",
            "47/47 [==============================] - 0s 9ms/step - loss: 1.9992 - val_loss: 0.8752\n",
            "Epoch 23/50\n",
            "47/47 [==============================] - 1s 12ms/step - loss: 1.9925 - val_loss: 0.9554\n",
            "Epoch 24/50\n",
            "47/47 [==============================] - 0s 7ms/step - loss: 1.8629 - val_loss: 0.8718\n",
            "Epoch 25/50\n",
            "47/47 [==============================] - 0s 6ms/step - loss: 1.7211 - val_loss: 0.8534\n",
            "Epoch 26/50\n",
            "47/47 [==============================] - 0s 7ms/step - loss: 1.6859 - val_loss: 0.7311\n",
            "Epoch 27/50\n",
            "47/47 [==============================] - 0s 6ms/step - loss: 1.7008 - val_loss: 0.7963\n",
            "Epoch 28/50\n",
            "47/47 [==============================] - 0s 5ms/step - loss: 1.6509 - val_loss: 0.7113\n",
            "Epoch 29/50\n",
            "47/47 [==============================] - 0s 6ms/step - loss: 1.7452 - val_loss: 0.6587\n",
            "Epoch 30/50\n",
            "47/47 [==============================] - 0s 5ms/step - loss: 1.5883 - val_loss: 0.6709\n",
            "Epoch 31/50\n",
            "47/47 [==============================] - 0s 6ms/step - loss: 1.6915 - val_loss: 0.6544\n",
            "Epoch 32/50\n",
            "47/47 [==============================] - 0s 6ms/step - loss: 1.7080 - val_loss: 0.7581\n",
            "Epoch 33/50\n",
            "47/47 [==============================] - 0s 7ms/step - loss: 1.5992 - val_loss: 0.7922\n",
            "Epoch 34/50\n",
            "47/47 [==============================] - 0s 8ms/step - loss: 1.4744 - val_loss: 0.7521\n",
            "Epoch 35/50\n",
            "47/47 [==============================] - 0s 3ms/step - loss: 1.5845 - val_loss: 0.6725\n",
            "Epoch 36/50\n",
            "47/47 [==============================] - 0s 3ms/step - loss: 1.4125 - val_loss: 0.6021\n",
            "Epoch 37/50\n",
            "47/47 [==============================] - 0s 3ms/step - loss: 1.4386 - val_loss: 0.6232\n",
            "Epoch 38/50\n",
            "47/47 [==============================] - 0s 3ms/step - loss: 1.4165 - val_loss: 0.6927\n",
            "Epoch 39/50\n",
            "47/47 [==============================] - 0s 3ms/step - loss: 1.3535 - val_loss: 0.6590\n",
            "Epoch 40/50\n",
            "47/47 [==============================] - 0s 4ms/step - loss: 1.4207 - val_loss: 0.7126\n",
            "Epoch 41/50\n",
            "47/47 [==============================] - 0s 3ms/step - loss: 1.3279 - val_loss: 0.5901\n",
            "Epoch 42/50\n",
            "47/47 [==============================] - 0s 3ms/step - loss: 1.4384 - val_loss: 0.6211\n",
            "Epoch 43/50\n",
            "47/47 [==============================] - 0s 3ms/step - loss: 1.3650 - val_loss: 0.6054\n",
            "Epoch 44/50\n",
            "47/47 [==============================] - 0s 3ms/step - loss: 1.3438 - val_loss: 0.6122\n",
            "Epoch 45/50\n",
            "47/47 [==============================] - 0s 3ms/step - loss: 1.3434 - val_loss: 0.6512\n",
            "Epoch 46/50\n",
            "47/47 [==============================] - 0s 3ms/step - loss: 1.3523 - val_loss: 0.5517\n",
            "Epoch 47/50\n",
            "47/47 [==============================] - 0s 4ms/step - loss: 1.2653 - val_loss: 0.5273\n",
            "Epoch 48/50\n",
            "47/47 [==============================] - 0s 3ms/step - loss: 1.2658 - val_loss: 0.5548\n",
            "Epoch 49/50\n",
            "47/47 [==============================] - 0s 3ms/step - loss: 1.2811 - val_loss: 0.5723\n",
            "Epoch 50/50\n",
            "47/47 [==============================] - 0s 3ms/step - loss: 1.2542 - val_loss: 0.5239\n",
            "15/15 [==============================] - 0s 2ms/step\n",
            "0.46548060730801727\n"
          ]
        }
      ],
      "source": [
        "# Áp dụng các kỹ thuật tránh Overfiting - Dropout cho FFN:\n",
        "\n",
        "from keras.layers import Dropout\n",
        "\n",
        "model_fnn= Sequential([\n",
        "    Dense(128, activation='relu', input_shape=(X_train.shape[1],)),\n",
        "    Dropout(0.5),\n",
        "    Dense(64, activation='relu'),\n",
        "    Dropout(0.5),\n",
        "    Dense(1)\n",
        "])\n",
        "model_fnn.compile(optimizer = 'adam', loss = 'mean_squared_error')\n",
        "\n",
        "model_fnn.fit(X_train, Y_train, epochs = 50, batch_size = 32, validation_split = 0.2)\n",
        "\n",
        "pred_fnn = model_fnn.predict(X_val)\n",
        "print(mse(Y_val, pred_fnn))"
      ]
    },
    {
      "cell_type": "code",
      "execution_count": null,
      "metadata": {
        "colab": {
          "base_uri": "https://localhost:8080/"
        },
        "id": "dPix9KjRrVOd",
        "outputId": "c4bd8a44-487f-44fd-d8fc-e6caf2c7fa45"
      },
      "outputs": [
        {
          "output_type": "stream",
          "name": "stdout",
          "text": [
            "Epoch 1/50\n",
            "47/47 [==============================] - 1s 9ms/step - loss: 12.1312 - val_loss: 5.3656\n",
            "Epoch 2/50\n",
            "47/47 [==============================] - 0s 5ms/step - loss: 5.0621 - val_loss: 4.0727\n",
            "Epoch 3/50\n",
            "47/47 [==============================] - 0s 4ms/step - loss: 3.7145 - val_loss: 3.3404\n",
            "Epoch 4/50\n",
            "47/47 [==============================] - 0s 4ms/step - loss: 3.1458 - val_loss: 2.9897\n",
            "Epoch 5/50\n",
            "47/47 [==============================] - 0s 5ms/step - loss: 2.7099 - val_loss: 2.6016\n",
            "Epoch 6/50\n",
            "47/47 [==============================] - 0s 5ms/step - loss: 2.3621 - val_loss: 2.3222\n",
            "Epoch 7/50\n",
            "47/47 [==============================] - 0s 4ms/step - loss: 2.0790 - val_loss: 2.1322\n",
            "Epoch 8/50\n",
            "47/47 [==============================] - 0s 5ms/step - loss: 1.8703 - val_loss: 1.8905\n",
            "Epoch 9/50\n",
            "47/47 [==============================] - 0s 5ms/step - loss: 1.6552 - val_loss: 1.7377\n",
            "Epoch 10/50\n",
            "47/47 [==============================] - 0s 5ms/step - loss: 1.5368 - val_loss: 1.6072\n",
            "Epoch 11/50\n",
            "47/47 [==============================] - 0s 5ms/step - loss: 1.4143 - val_loss: 1.5009\n",
            "Epoch 12/50\n",
            "47/47 [==============================] - 0s 4ms/step - loss: 1.3253 - val_loss: 1.4490\n",
            "Epoch 13/50\n",
            "47/47 [==============================] - 0s 3ms/step - loss: 1.1976 - val_loss: 1.3538\n",
            "Epoch 14/50\n",
            "47/47 [==============================] - 0s 3ms/step - loss: 1.1221 - val_loss: 1.2874\n",
            "Epoch 15/50\n",
            "47/47 [==============================] - 0s 3ms/step - loss: 1.0803 - val_loss: 1.3392\n",
            "Epoch 16/50\n",
            "47/47 [==============================] - 0s 4ms/step - loss: 1.0948 - val_loss: 1.1854\n",
            "Epoch 17/50\n",
            "47/47 [==============================] - 0s 3ms/step - loss: 1.1032 - val_loss: 1.1705\n",
            "Epoch 18/50\n",
            "47/47 [==============================] - 0s 3ms/step - loss: 1.0032 - val_loss: 1.1468\n",
            "Epoch 19/50\n",
            "47/47 [==============================] - 0s 3ms/step - loss: 0.9250 - val_loss: 1.1131\n",
            "Epoch 20/50\n",
            "47/47 [==============================] - 0s 3ms/step - loss: 0.8898 - val_loss: 1.0902\n",
            "Epoch 21/50\n",
            "47/47 [==============================] - 0s 3ms/step - loss: 0.8718 - val_loss: 1.0530\n",
            "Epoch 22/50\n",
            "47/47 [==============================] - 0s 3ms/step - loss: 0.8376 - val_loss: 1.0824\n",
            "Epoch 23/50\n",
            "47/47 [==============================] - 0s 4ms/step - loss: 0.8211 - val_loss: 0.9878\n",
            "Epoch 24/50\n",
            "47/47 [==============================] - 0s 3ms/step - loss: 0.7987 - val_loss: 0.9535\n",
            "Epoch 25/50\n",
            "47/47 [==============================] - 0s 3ms/step - loss: 0.8085 - val_loss: 0.9521\n",
            "Epoch 26/50\n",
            "47/47 [==============================] - 0s 3ms/step - loss: 0.7798 - val_loss: 0.9096\n",
            "Epoch 27/50\n",
            "47/47 [==============================] - 0s 3ms/step - loss: 0.7146 - val_loss: 0.8807\n",
            "Epoch 28/50\n",
            "47/47 [==============================] - 0s 3ms/step - loss: 0.6927 - val_loss: 0.8744\n",
            "Epoch 29/50\n",
            "47/47 [==============================] - 0s 3ms/step - loss: 0.6777 - val_loss: 0.8475\n",
            "Epoch 30/50\n",
            "47/47 [==============================] - 0s 3ms/step - loss: 0.6546 - val_loss: 0.8313\n",
            "Epoch 31/50\n",
            "47/47 [==============================] - 0s 3ms/step - loss: 0.6395 - val_loss: 0.8079\n",
            "Epoch 32/50\n",
            "47/47 [==============================] - 0s 3ms/step - loss: 0.6363 - val_loss: 0.7919\n",
            "Epoch 33/50\n",
            "47/47 [==============================] - 0s 3ms/step - loss: 0.6151 - val_loss: 0.7776\n",
            "Epoch 34/50\n",
            "47/47 [==============================] - 0s 3ms/step - loss: 0.6031 - val_loss: 0.8038\n",
            "Epoch 35/50\n",
            "47/47 [==============================] - 0s 3ms/step - loss: 1.0356 - val_loss: 0.7696\n",
            "Epoch 36/50\n",
            "47/47 [==============================] - 0s 3ms/step - loss: 0.6067 - val_loss: 0.7506\n",
            "Epoch 37/50\n",
            "47/47 [==============================] - 0s 3ms/step - loss: 0.5763 - val_loss: 0.7569\n",
            "Epoch 38/50\n",
            "47/47 [==============================] - 0s 3ms/step - loss: 0.5796 - val_loss: 0.7230\n",
            "Epoch 39/50\n",
            "47/47 [==============================] - 0s 3ms/step - loss: 0.5494 - val_loss: 0.7064\n",
            "Epoch 40/50\n",
            "47/47 [==============================] - 0s 3ms/step - loss: 0.5442 - val_loss: 0.6846\n",
            "Epoch 41/50\n",
            "47/47 [==============================] - 0s 3ms/step - loss: 0.5356 - val_loss: 0.6909\n",
            "Epoch 42/50\n",
            "47/47 [==============================] - 0s 3ms/step - loss: 0.5176 - val_loss: 0.6791\n",
            "Epoch 43/50\n",
            "47/47 [==============================] - 0s 3ms/step - loss: 0.5174 - val_loss: 0.6743\n",
            "Epoch 44/50\n",
            "47/47 [==============================] - 0s 3ms/step - loss: 0.5250 - val_loss: 0.6889\n",
            "Epoch 45/50\n",
            "47/47 [==============================] - 0s 3ms/step - loss: 0.5368 - val_loss: 0.6678\n",
            "Epoch 46/50\n",
            "47/47 [==============================] - 0s 3ms/step - loss: 0.4937 - val_loss: 0.6584\n",
            "Epoch 47/50\n",
            "47/47 [==============================] - 0s 3ms/step - loss: 0.4874 - val_loss: 0.6508\n",
            "Epoch 48/50\n",
            "47/47 [==============================] - 0s 3ms/step - loss: 0.4777 - val_loss: 0.6373\n",
            "Epoch 49/50\n",
            "47/47 [==============================] - 0s 3ms/step - loss: 0.4769 - val_loss: 0.6107\n",
            "Epoch 50/50\n",
            "47/47 [==============================] - 0s 4ms/step - loss: 0.4653 - val_loss: 0.6730\n",
            "15/15 [==============================] - 0s 2ms/step\n",
            "0.40570819785851614\n"
          ]
        }
      ],
      "source": [
        "# Áp dụng các kỹ thuật tránh Overfiting - Regularization cho FFN:\n",
        "from keras import regularizers\n",
        "\n",
        "model_fnn= Sequential([\n",
        "    Dense(128, activation='relu', kernel_regularizer=regularizers.l2(0.01), input_shape=(X_train.shape[1],)),\n",
        "    Dense(64, activation='relu', kernel_regularizer=regularizers.l2(0.01)),\n",
        "    Dense(1)\n",
        "])\n",
        "model_fnn.compile(optimizer = 'adam', loss = 'mean_squared_error')\n",
        "\n",
        "model_fnn.fit(X_train, Y_train, epochs = 50, batch_size = 32, validation_split = 0.2)\n",
        "\n",
        "pred_fnn = model_fnn.predict(X_val)\n",
        "print(mse(Y_val, pred_fnn))"
      ]
    },
    {
      "cell_type": "code",
      "execution_count": null,
      "metadata": {
        "colab": {
          "base_uri": "https://localhost:8080/"
        },
        "id": "csHKqFd-rVOd",
        "outputId": "926b9ac6-3cfd-4ac3-f103-fb03e07e7bad"
      },
      "outputs": [
        {
          "output_type": "stream",
          "name": "stdout",
          "text": [
            "Epoch 1/50\n",
            "47/47 [==============================] - 1s 6ms/step - loss: 0.4782 - val_loss: 0.6032\n",
            "Epoch 2/50\n",
            "47/47 [==============================] - 0s 3ms/step - loss: 0.4791 - val_loss: 0.6051\n",
            "Epoch 3/50\n",
            "47/47 [==============================] - 0s 3ms/step - loss: 0.4530 - val_loss: 0.5965\n",
            "Epoch 4/50\n",
            "47/47 [==============================] - 0s 3ms/step - loss: 0.4347 - val_loss: 0.5938\n",
            "Epoch 5/50\n",
            "47/47 [==============================] - 0s 3ms/step - loss: 0.4155 - val_loss: 0.5661\n",
            "Epoch 6/50\n",
            "47/47 [==============================] - 0s 3ms/step - loss: 0.4130 - val_loss: 0.5669\n",
            "Epoch 7/50\n",
            "47/47 [==============================] - 0s 3ms/step - loss: 0.4261 - val_loss: 0.5586\n",
            "Epoch 8/50\n",
            "47/47 [==============================] - 0s 3ms/step - loss: 0.4054 - val_loss: 0.5596\n",
            "Epoch 9/50\n",
            "47/47 [==============================] - 0s 3ms/step - loss: 0.4019 - val_loss: 0.5252\n",
            "Epoch 10/50\n",
            "47/47 [==============================] - 0s 3ms/step - loss: 0.3817 - val_loss: 0.5218\n",
            "Epoch 11/50\n",
            "47/47 [==============================] - 0s 3ms/step - loss: 0.3771 - val_loss: 0.5480\n",
            "Epoch 12/50\n",
            "47/47 [==============================] - 0s 3ms/step - loss: 0.3787 - val_loss: 0.5252\n",
            "Epoch 13/50\n",
            "47/47 [==============================] - 0s 3ms/step - loss: 0.3618 - val_loss: 0.5131\n",
            "Epoch 14/50\n",
            "47/47 [==============================] - 0s 3ms/step - loss: 0.3587 - val_loss: 0.5070\n",
            "Epoch 15/50\n",
            "47/47 [==============================] - 0s 4ms/step - loss: 0.3572 - val_loss: 0.5299\n",
            "Epoch 16/50\n",
            "47/47 [==============================] - 0s 4ms/step - loss: 0.3991 - val_loss: 0.5119\n",
            "Epoch 17/50\n",
            "47/47 [==============================] - 0s 3ms/step - loss: 0.3635 - val_loss: 0.4964\n",
            "Epoch 18/50\n",
            "47/47 [==============================] - 0s 4ms/step - loss: 0.3499 - val_loss: 0.4984\n",
            "Epoch 19/50\n",
            "47/47 [==============================] - 0s 4ms/step - loss: 0.3757 - val_loss: 0.5102\n",
            "Epoch 20/50\n",
            "47/47 [==============================] - 0s 5ms/step - loss: 0.3721 - val_loss: 0.5108\n",
            "Epoch 21/50\n",
            "47/47 [==============================] - 0s 5ms/step - loss: 0.3401 - val_loss: 0.4891\n",
            "Epoch 22/50\n",
            "47/47 [==============================] - 0s 6ms/step - loss: 0.3439 - val_loss: 0.4727\n",
            "Epoch 23/50\n",
            "47/47 [==============================] - 0s 5ms/step - loss: 0.3420 - val_loss: 0.4822\n",
            "Epoch 24/50\n",
            "47/47 [==============================] - 0s 6ms/step - loss: 0.3260 - val_loss: 0.5577\n",
            "Epoch 25/50\n",
            "47/47 [==============================] - 0s 6ms/step - loss: 0.3413 - val_loss: 0.4733\n",
            "Epoch 26/50\n",
            "47/47 [==============================] - 0s 5ms/step - loss: 0.3288 - val_loss: 0.4873\n",
            "Epoch 27/50\n",
            "47/47 [==============================] - 0s 5ms/step - loss: 0.3358 - val_loss: 0.5038\n",
            "15/15 [==============================] - 0s 2ms/step\n",
            "0.37270736345726496\n"
          ]
        }
      ],
      "source": [
        "# Áp dụng các kỹ thuật tránh Overfiting - Early Stopping cho FFN:\n",
        "from keras.callbacks import EarlyStopping\n",
        "\n",
        "model_fnn.compile(optimizer='adam', loss='mean_squared_error')\n",
        "\n",
        "model_fnn.fit(X_train, Y_train, epochs=50, batch_size=32, validation_split=0.2, callbacks=[EarlyStopping(monitor='val_loss', patience=5)])\n",
        "\n",
        "pred_fnn = model_fnn.predict(X_val)\n",
        "print(mse(Y_val, pred_fnn))\n"
      ]
    },
    {
      "cell_type": "code",
      "execution_count": null,
      "metadata": {
        "tags": [],
        "colab": {
          "base_uri": "https://localhost:8080/"
        },
        "id": "f9AFAturrVOe",
        "outputId": "de4e97e9-2506-40bf-e18f-1a8c73c99a87"
      },
      "outputs": [
        {
          "output_type": "stream",
          "name": "stdout",
          "text": [
            "Epoch 1/50\n",
            "47/47 [==============================] - 2s 22ms/step - loss: 20.9248 - val_loss: 18.3939\n",
            "Epoch 2/50\n",
            "47/47 [==============================] - 1s 17ms/step - loss: 10.5278 - val_loss: 1.9643\n",
            "Epoch 3/50\n",
            "47/47 [==============================] - 1s 17ms/step - loss: 1.3835 - val_loss: 1.0637\n",
            "Epoch 4/50\n",
            "47/47 [==============================] - 1s 16ms/step - loss: 1.0513 - val_loss: 0.9564\n",
            "Epoch 5/50\n",
            "47/47 [==============================] - 1s 17ms/step - loss: 0.9639 - val_loss: 0.9022\n",
            "Epoch 6/50\n",
            "47/47 [==============================] - 1s 27ms/step - loss: 0.9010 - val_loss: 0.8632\n",
            "Epoch 7/50\n",
            "47/47 [==============================] - 1s 25ms/step - loss: 0.8642 - val_loss: 0.8397\n",
            "Epoch 8/50\n",
            "47/47 [==============================] - 1s 26ms/step - loss: 0.8492 - val_loss: 0.8136\n",
            "Epoch 9/50\n",
            "47/47 [==============================] - 1s 20ms/step - loss: 0.8203 - val_loss: 0.8646\n",
            "Epoch 10/50\n",
            "47/47 [==============================] - 1s 17ms/step - loss: 0.8263 - val_loss: 0.7812\n",
            "Epoch 11/50\n",
            "47/47 [==============================] - 1s 17ms/step - loss: 0.7884 - val_loss: 0.7621\n",
            "Epoch 12/50\n",
            "47/47 [==============================] - 1s 17ms/step - loss: 0.7636 - val_loss: 0.7475\n",
            "Epoch 13/50\n",
            "47/47 [==============================] - 1s 17ms/step - loss: 0.7602 - val_loss: 0.7629\n",
            "Epoch 14/50\n",
            "47/47 [==============================] - 1s 17ms/step - loss: 0.7480 - val_loss: 0.7325\n",
            "Epoch 15/50\n",
            "47/47 [==============================] - 1s 17ms/step - loss: 0.7449 - val_loss: 0.8012\n",
            "Epoch 16/50\n",
            "47/47 [==============================] - 1s 17ms/step - loss: 0.7493 - val_loss: 0.7219\n",
            "Epoch 17/50\n",
            "47/47 [==============================] - 1s 17ms/step - loss: 0.6891 - val_loss: 0.6078\n",
            "Epoch 18/50\n",
            "47/47 [==============================] - 1s 17ms/step - loss: 0.6441 - val_loss: 0.6146\n",
            "Epoch 19/50\n",
            "47/47 [==============================] - 1s 17ms/step - loss: 0.5995 - val_loss: 0.5457\n",
            "Epoch 20/50\n",
            "47/47 [==============================] - 1s 17ms/step - loss: 0.5718 - val_loss: 0.5487\n",
            "Epoch 21/50\n",
            "47/47 [==============================] - 1s 19ms/step - loss: 0.5839 - val_loss: 0.5100\n",
            "Epoch 22/50\n",
            "47/47 [==============================] - 1s 26ms/step - loss: 0.5869 - val_loss: 0.5634\n",
            "Epoch 23/50\n",
            "47/47 [==============================] - 1s 27ms/step - loss: 0.5267 - val_loss: 0.5000\n",
            "Epoch 24/50\n",
            "47/47 [==============================] - 1s 27ms/step - loss: 0.5136 - val_loss: 0.5498\n",
            "Epoch 25/50\n",
            "47/47 [==============================] - 1s 17ms/step - loss: 0.5622 - val_loss: 0.5199\n",
            "Epoch 26/50\n",
            "47/47 [==============================] - 1s 19ms/step - loss: 0.5203 - val_loss: 0.4735\n",
            "Epoch 27/50\n",
            "47/47 [==============================] - 1s 17ms/step - loss: 0.4934 - val_loss: 0.4699\n",
            "Epoch 28/50\n",
            "47/47 [==============================] - 1s 17ms/step - loss: 0.4882 - val_loss: 0.4683\n",
            "Epoch 29/50\n",
            "47/47 [==============================] - 1s 17ms/step - loss: 0.4937 - val_loss: 0.4698\n",
            "Epoch 30/50\n",
            "47/47 [==============================] - 1s 17ms/step - loss: 0.4933 - val_loss: 0.4678\n",
            "Epoch 31/50\n",
            "47/47 [==============================] - 1s 17ms/step - loss: 0.5038 - val_loss: 0.4792\n",
            "Epoch 32/50\n",
            "47/47 [==============================] - 1s 20ms/step - loss: 0.5012 - val_loss: 0.4580\n",
            "Epoch 33/50\n",
            "47/47 [==============================] - 1s 17ms/step - loss: 0.4781 - val_loss: 0.4634\n",
            "Epoch 34/50\n",
            "47/47 [==============================] - 1s 17ms/step - loss: 0.4567 - val_loss: 0.4491\n",
            "Epoch 35/50\n",
            "47/47 [==============================] - 1s 17ms/step - loss: 0.4726 - val_loss: 0.4760\n",
            "Epoch 36/50\n",
            "47/47 [==============================] - 1s 19ms/step - loss: 0.4681 - val_loss: 0.4408\n",
            "Epoch 37/50\n",
            "47/47 [==============================] - 1s 27ms/step - loss: 0.4491 - val_loss: 0.5437\n",
            "Epoch 38/50\n",
            "47/47 [==============================] - 1s 27ms/step - loss: 0.4574 - val_loss: 0.4938\n",
            "Epoch 39/50\n",
            "47/47 [==============================] - 1s 26ms/step - loss: 0.4687 - val_loss: 0.4788\n",
            "Epoch 40/50\n",
            "47/47 [==============================] - 1s 17ms/step - loss: 0.4538 - val_loss: 0.4382\n",
            "Epoch 41/50\n",
            "47/47 [==============================] - 1s 18ms/step - loss: 0.4602 - val_loss: 0.4344\n",
            "Epoch 42/50\n",
            "47/47 [==============================] - 1s 17ms/step - loss: 0.4721 - val_loss: 0.4270\n",
            "Epoch 43/50\n",
            "47/47 [==============================] - 1s 22ms/step - loss: 0.4449 - val_loss: 0.4421\n",
            "Epoch 44/50\n",
            "47/47 [==============================] - 1s 29ms/step - loss: 0.4869 - val_loss: 0.4464\n",
            "Epoch 45/50\n",
            "47/47 [==============================] - 1s 30ms/step - loss: 0.4427 - val_loss: 0.4273\n",
            "Epoch 46/50\n",
            "47/47 [==============================] - 1s 17ms/step - loss: 0.4633 - val_loss: 0.4672\n",
            "Epoch 47/50\n",
            "47/47 [==============================] - 1s 18ms/step - loss: 0.4364 - val_loss: 0.4197\n",
            "Epoch 48/50\n",
            "47/47 [==============================] - 1s 18ms/step - loss: 0.4326 - val_loss: 0.4163\n",
            "Epoch 49/50\n",
            "47/47 [==============================] - 1s 18ms/step - loss: 0.4188 - val_loss: 0.4759\n",
            "Epoch 50/50\n",
            "47/47 [==============================] - 1s 22ms/step - loss: 0.4370 - val_loss: 0.4409\n",
            "15/15 [==============================] - 0s 6ms/step\n",
            "0.46168535928428883\n"
          ]
        }
      ],
      "source": [
        "# RNN\n",
        "\n",
        "X_train_reshaped = X_train.reshape(X_train.shape[0], 1, X_train.shape[1])\n",
        "X_val_reshaped = X_val.reshape(X_val.shape[0], 1, X_val.shape[1])\n",
        "\n",
        "model_rnn = Sequential([\n",
        "    LSTM(50, activation = 'relu', input_shape = (X_train.shape[1], 1)),\n",
        "    Dense(1)\n",
        "\n",
        "])\n",
        "\n",
        "model_rnn.compile(optimizer = 'adam', loss = 'mean_squared_error')\n",
        "model_rnn.fit(X_train, Y_train, epochs = 50, batch_size = 32, validation_split = 0.2)\n",
        "pred_rnn = model_rnn.predict(X_val)\n",
        "print(mse(Y_val, pred_rnn))"
      ]
    },
    {
      "cell_type": "code",
      "execution_count": null,
      "metadata": {
        "colab": {
          "base_uri": "https://localhost:8080/"
        },
        "id": "hlW8yquorVOe",
        "outputId": "5f87b79e-46c0-4519-d143-9fa6779fd1fc"
      },
      "outputs": [
        {
          "output_type": "stream",
          "name": "stdout",
          "text": [
            "Epoch 1/50\n",
            "47/47 [==============================] - 4s 35ms/step - loss: 4706.2344 - val_loss: 25.5921\n",
            "Epoch 2/50\n",
            "47/47 [==============================] - 1s 18ms/step - loss: 25.5919 - val_loss: 25.3898\n",
            "Epoch 3/50\n",
            "47/47 [==============================] - 1s 17ms/step - loss: 25.2815 - val_loss: 25.0328\n",
            "Epoch 4/50\n",
            "47/47 [==============================] - 1s 17ms/step - loss: 24.9070 - val_loss: 24.6436\n",
            "Epoch 5/50\n",
            "47/47 [==============================] - 1s 18ms/step - loss: 24.4984 - val_loss: 24.2358\n",
            "Epoch 6/50\n",
            "47/47 [==============================] - 1s 19ms/step - loss: 24.1154 - val_loss: 23.8142\n",
            "Epoch 7/50\n",
            "47/47 [==============================] - 1s 17ms/step - loss: 23.6599 - val_loss: 23.3845\n",
            "Epoch 8/50\n",
            "47/47 [==============================] - 1s 17ms/step - loss: 23.2211 - val_loss: 22.9484\n",
            "Epoch 9/50\n",
            "47/47 [==============================] - 1s 18ms/step - loss: 22.8119 - val_loss: 22.5106\n",
            "Epoch 10/50\n",
            "47/47 [==============================] - 1s 17ms/step - loss: 22.3537 - val_loss: 22.0675\n",
            "Epoch 11/50\n",
            "47/47 [==============================] - 1s 18ms/step - loss: 21.9369 - val_loss: 21.6261\n",
            "Epoch 12/50\n",
            "47/47 [==============================] - 1s 18ms/step - loss: 21.4808 - val_loss: 21.1834\n",
            "Epoch 13/50\n",
            "47/47 [==============================] - 1s 18ms/step - loss: 21.0453 - val_loss: 20.7441\n",
            "Epoch 14/50\n",
            "47/47 [==============================] - 1s 24ms/step - loss: 20.6031 - val_loss: 20.3032\n",
            "Epoch 15/50\n",
            "47/47 [==============================] - 1s 27ms/step - loss: 20.1435 - val_loss: 19.8667\n",
            "Epoch 16/50\n",
            "47/47 [==============================] - 1s 26ms/step - loss: 19.7258 - val_loss: 19.4297\n",
            "Epoch 17/50\n",
            "47/47 [==============================] - 1s 21ms/step - loss: 19.2687 - val_loss: 18.9816\n",
            "Epoch 18/50\n",
            "47/47 [==============================] - 1s 18ms/step - loss: 18.6464 - val_loss: 17.6206\n",
            "Epoch 19/50\n",
            "47/47 [==============================] - 1s 17ms/step - loss: 15.1212 - val_loss: 5.1185\n",
            "Epoch 20/50\n",
            "47/47 [==============================] - 1s 17ms/step - loss: 2.1724 - val_loss: 1.0855\n",
            "Epoch 21/50\n",
            "47/47 [==============================] - 1s 18ms/step - loss: 1.3000 - val_loss: 0.9322\n",
            "Epoch 22/50\n",
            "47/47 [==============================] - 1s 18ms/step - loss: 1.2359 - val_loss: 0.9144\n",
            "Epoch 23/50\n",
            "47/47 [==============================] - 1s 18ms/step - loss: 1.2626 - val_loss: 0.8996\n",
            "Epoch 24/50\n",
            "47/47 [==============================] - 1s 17ms/step - loss: 1.1936 - val_loss: 0.8888\n",
            "Epoch 25/50\n",
            "47/47 [==============================] - 1s 18ms/step - loss: 1.3018 - val_loss: 0.8755\n",
            "Epoch 26/50\n",
            "47/47 [==============================] - 1s 17ms/step - loss: 1.2578 - val_loss: 0.8768\n",
            "Epoch 27/50\n",
            "47/47 [==============================] - 1s 17ms/step - loss: 1.1527 - val_loss: 0.8809\n",
            "Epoch 28/50\n",
            "47/47 [==============================] - 1s 18ms/step - loss: 1.1322 - val_loss: 0.8742\n",
            "Epoch 29/50\n",
            "47/47 [==============================] - 1s 24ms/step - loss: 1.1696 - val_loss: 0.8469\n",
            "Epoch 30/50\n",
            "47/47 [==============================] - 1s 27ms/step - loss: 1.1188 - val_loss: 0.8448\n",
            "Epoch 31/50\n",
            "47/47 [==============================] - 1s 28ms/step - loss: 1.1423 - val_loss: 0.8404\n",
            "Epoch 32/50\n",
            "47/47 [==============================] - 1s 22ms/step - loss: 1.1882 - val_loss: 0.8147\n",
            "Epoch 33/50\n",
            "47/47 [==============================] - 1s 17ms/step - loss: 1.0849 - val_loss: 0.8073\n",
            "Epoch 34/50\n",
            "47/47 [==============================] - 1s 18ms/step - loss: 1.0898 - val_loss: 0.8381\n",
            "Epoch 35/50\n",
            "47/47 [==============================] - 1s 18ms/step - loss: 1.1439 - val_loss: 0.7969\n",
            "Epoch 36/50\n",
            "47/47 [==============================] - 1s 18ms/step - loss: 1.1162 - val_loss: 0.7681\n",
            "Epoch 37/50\n",
            "47/47 [==============================] - 1s 19ms/step - loss: 1.0407 - val_loss: 0.7645\n",
            "Epoch 38/50\n",
            "47/47 [==============================] - 1s 17ms/step - loss: 0.9964 - val_loss: 0.7374\n",
            "Epoch 39/50\n",
            "47/47 [==============================] - 1s 18ms/step - loss: 1.0704 - val_loss: 0.7610\n",
            "Epoch 40/50\n",
            "47/47 [==============================] - 1s 17ms/step - loss: 1.0994 - val_loss: 0.7266\n",
            "Epoch 41/50\n",
            "47/47 [==============================] - 1s 18ms/step - loss: 1.0274 - val_loss: 0.7312\n",
            "Epoch 42/50\n",
            "47/47 [==============================] - 1s 20ms/step - loss: 0.9675 - val_loss: 0.7062\n",
            "Epoch 43/50\n",
            "47/47 [==============================] - 1s 27ms/step - loss: 0.9627 - val_loss: 0.7056\n",
            "Epoch 44/50\n",
            "47/47 [==============================] - 1s 29ms/step - loss: 1.0283 - val_loss: 0.6851\n",
            "Epoch 45/50\n",
            "47/47 [==============================] - 1s 29ms/step - loss: 0.9340 - val_loss: 0.6619\n",
            "Epoch 46/50\n",
            "47/47 [==============================] - 2s 36ms/step - loss: 0.9786 - val_loss: 0.6504\n",
            "Epoch 47/50\n",
            "47/47 [==============================] - 1s 28ms/step - loss: 0.9342 - val_loss: 0.6589\n",
            "Epoch 48/50\n",
            "47/47 [==============================] - 1s 18ms/step - loss: 0.9518 - val_loss: 0.6371\n",
            "Epoch 49/50\n",
            "47/47 [==============================] - 1s 18ms/step - loss: 0.8976 - val_loss: 0.7017\n",
            "Epoch 50/50\n",
            "47/47 [==============================] - 1s 18ms/step - loss: 0.9440 - val_loss: 0.6528\n",
            "15/15 [==============================] - 0s 6ms/step\n",
            "0.5669260525517977\n"
          ]
        }
      ],
      "source": [
        "# Áp dụng các kỹ thuật tránh Overfiting - Dropout cho RNN:\n",
        "X_train_reshaped = X_train.reshape(X_train.shape[0], X_train.shape[1], 1)\n",
        "X_val_reshaped = X_val.reshape(X_val.shape[0], X_val.shape[1], 1)\n",
        "\n",
        "from keras.layers import Dropout\n",
        "\n",
        "model_rnn = Sequential([\n",
        "    LSTM(50, activation='relu', input_shape=(X_train.shape[1], 1)),\n",
        "    Dropout(0.2),  #(có thể điều chỉnh tỷ lệ này)\n",
        "    Dense(1)\n",
        "])\n",
        "\n",
        "model_rnn.compile(optimizer='adam', loss='mean_squared_error')\n",
        "model_rnn.fit(X_train_reshaped, Y_train, epochs=50, batch_size=32, validation_split=0.2)\n",
        "pred_rnn = model_rnn.predict(X_val_reshaped)\n",
        "print(mse(Y_val, pred_rnn))\n",
        "\n"
      ]
    },
    {
      "cell_type": "code",
      "execution_count": null,
      "metadata": {
        "colab": {
          "base_uri": "https://localhost:8080/"
        },
        "id": "lJpPhOmArVOe",
        "outputId": "b900d942-c45f-49c8-d030-f6255bf7beea"
      },
      "outputs": [
        {
          "output_type": "stream",
          "name": "stdout",
          "text": [
            "Epoch 1/50\n",
            "47/47 [==============================] - 3s 23ms/step - loss: 1794084.3750 - val_loss: 23.6153\n",
            "Epoch 2/50\n",
            "47/47 [==============================] - 1s 17ms/step - loss: 6690.7173 - val_loss: 23.9755\n",
            "Epoch 3/50\n",
            "47/47 [==============================] - 1s 17ms/step - loss: 11441.5566 - val_loss: 23.9902\n",
            "Epoch 4/50\n",
            "47/47 [==============================] - 1s 18ms/step - loss: 7674.5679 - val_loss: 24.0008\n",
            "Epoch 5/50\n",
            "47/47 [==============================] - 1s 19ms/step - loss: 713.6565 - val_loss: 23.9775\n",
            "Epoch 6/50\n",
            "47/47 [==============================] - 1s 18ms/step - loss: 180.7893 - val_loss: 23.9562\n",
            "Epoch 7/50\n",
            "47/47 [==============================] - 1s 24ms/step - loss: 25.0814 - val_loss: 23.8957\n",
            "Epoch 8/50\n",
            "47/47 [==============================] - 1s 27ms/step - loss: 24.9715 - val_loss: 23.8262\n",
            "Epoch 9/50\n",
            "47/47 [==============================] - 1s 27ms/step - loss: 24.8946 - val_loss: 23.7548\n",
            "Epoch 10/50\n",
            "47/47 [==============================] - 1s 23ms/step - loss: 24.8167 - val_loss: 23.6823\n",
            "Epoch 11/50\n",
            "47/47 [==============================] - 1s 18ms/step - loss: 24.7363 - val_loss: 23.6074\n",
            "Epoch 12/50\n",
            "47/47 [==============================] - 1s 18ms/step - loss: 24.6527 - val_loss: 23.5343\n",
            "Epoch 13/50\n",
            "47/47 [==============================] - 1s 17ms/step - loss: 24.5687 - val_loss: 23.4567\n",
            "Epoch 14/50\n",
            "47/47 [==============================] - 1s 17ms/step - loss: 24.4838 - val_loss: 23.3782\n",
            "Epoch 15/50\n",
            "47/47 [==============================] - 1s 17ms/step - loss: 24.3978 - val_loss: 23.2967\n",
            "Epoch 16/50\n",
            "47/47 [==============================] - 1s 17ms/step - loss: 24.3100 - val_loss: 23.2166\n",
            "Epoch 17/50\n",
            "47/47 [==============================] - 1s 17ms/step - loss: 24.2217 - val_loss: 23.1333\n",
            "Epoch 18/50\n",
            "47/47 [==============================] - 1s 17ms/step - loss: 24.1316 - val_loss: 23.0502\n",
            "Epoch 19/50\n",
            "47/47 [==============================] - 1s 19ms/step - loss: 24.0406 - val_loss: 22.9646\n",
            "Epoch 20/50\n",
            "47/47 [==============================] - 1s 17ms/step - loss: 23.9476 - val_loss: 22.8787\n",
            "Epoch 21/50\n",
            "47/47 [==============================] - 1s 17ms/step - loss: 23.8531 - val_loss: 22.7905\n",
            "Epoch 22/50\n",
            "47/47 [==============================] - 1s 21ms/step - loss: 23.7580 - val_loss: 22.7007\n",
            "Epoch 23/50\n",
            "47/47 [==============================] - 1s 27ms/step - loss: 23.6610 - val_loss: 22.6110\n",
            "Epoch 24/50\n",
            "47/47 [==============================] - 1s 26ms/step - loss: 23.5660 - val_loss: 22.5199\n",
            "Epoch 25/50\n",
            "47/47 [==============================] - 1s 25ms/step - loss: 23.4655 - val_loss: 22.4273\n",
            "Epoch 26/50\n",
            "47/47 [==============================] - 1s 18ms/step - loss: 23.3657 - val_loss: 22.3331\n",
            "Epoch 27/50\n",
            "47/47 [==============================] - 1s 17ms/step - loss: 23.2648 - val_loss: 22.2381\n",
            "Epoch 28/50\n",
            "47/47 [==============================] - 1s 17ms/step - loss: 23.1617 - val_loss: 22.1404\n",
            "Epoch 29/50\n",
            "47/47 [==============================] - 1s 17ms/step - loss: 23.0583 - val_loss: 22.0431\n",
            "Epoch 30/50\n",
            "47/47 [==============================] - 1s 17ms/step - loss: 22.9529 - val_loss: 21.9438\n",
            "Epoch 31/50\n",
            "47/47 [==============================] - 1s 17ms/step - loss: 22.8473 - val_loss: 21.8436\n",
            "Epoch 32/50\n",
            "47/47 [==============================] - 1s 18ms/step - loss: 22.7394 - val_loss: 21.7420\n",
            "Epoch 33/50\n",
            "47/47 [==============================] - 1s 17ms/step - loss: 22.6308 - val_loss: 21.6389\n",
            "Epoch 34/50\n",
            "47/47 [==============================] - 1s 17ms/step - loss: 22.5205 - val_loss: 21.5352\n",
            "Epoch 35/50\n",
            "47/47 [==============================] - 1s 17ms/step - loss: 22.4089 - val_loss: 21.4286\n",
            "Epoch 36/50\n",
            "47/47 [==============================] - 1s 18ms/step - loss: 22.2963 - val_loss: 21.3226\n",
            "Epoch 37/50\n",
            "47/47 [==============================] - 1s 18ms/step - loss: 22.1825 - val_loss: 21.2144\n",
            "Epoch 38/50\n",
            "47/47 [==============================] - 1s 26ms/step - loss: 22.0690 - val_loss: 21.1053\n",
            "Epoch 39/50\n",
            "47/47 [==============================] - 1s 27ms/step - loss: 21.9560 - val_loss: 20.9953\n",
            "Epoch 40/50\n",
            "47/47 [==============================] - 1s 28ms/step - loss: 21.8382 - val_loss: 20.8831\n",
            "Epoch 41/50\n",
            "47/47 [==============================] - 1s 19ms/step - loss: 21.7226 - val_loss: 20.7693\n",
            "Epoch 42/50\n",
            "47/47 [==============================] - 1s 17ms/step - loss: 21.6021 - val_loss: 20.6545\n",
            "Epoch 43/50\n",
            "47/47 [==============================] - 1s 18ms/step - loss: 21.4809 - val_loss: 20.5389\n",
            "Epoch 44/50\n",
            "47/47 [==============================] - 1s 17ms/step - loss: 21.3591 - val_loss: 20.4213\n",
            "Epoch 45/50\n",
            "47/47 [==============================] - 1s 17ms/step - loss: 21.2363 - val_loss: 20.3020\n",
            "Epoch 46/50\n",
            "47/47 [==============================] - 1s 17ms/step - loss: 21.1128 - val_loss: 20.1828\n",
            "Epoch 47/50\n",
            "47/47 [==============================] - 1s 17ms/step - loss: 20.9885 - val_loss: 20.0609\n",
            "Epoch 48/50\n",
            "47/47 [==============================] - 1s 17ms/step - loss: 20.8694 - val_loss: 19.9384\n",
            "Epoch 49/50\n",
            "47/47 [==============================] - 1s 19ms/step - loss: 20.7340 - val_loss: 19.8139\n",
            "Epoch 50/50\n",
            "47/47 [==============================] - 1s 17ms/step - loss: 20.6058 - val_loss: 19.6895\n",
            "15/15 [==============================] - 0s 6ms/step\n",
            "18.676985941782853\n"
          ]
        }
      ],
      "source": [
        "# Áp dụng các kỹ thuật tránh Overfiting - Regularization cho RNN:\n",
        "from keras.regularizers import l2\n",
        "\n",
        "model_rnn = Sequential([\n",
        "    LSTM(50, activation='relu', input_shape=(X_train.shape[1], 1)),\n",
        "    Dense(1, kernel_regularizer=l2(0.01))  # Thêm L2 regularization với hệ số là 0.01 (có thể điều chỉnh hệ số này)\n",
        "])\n",
        "\n",
        "model_rnn.compile(optimizer='adam', loss='mean_squared_error')\n",
        "model_rnn.fit(X_train_reshaped, Y_train, epochs=50, batch_size=32, validation_split=0.2)\n",
        "pred_rnn = model_rnn.predict(X_val_reshaped)\n",
        "print(mse(Y_val, pred_rnn))\n"
      ]
    },
    {
      "cell_type": "code",
      "execution_count": null,
      "metadata": {
        "colab": {
          "base_uri": "https://localhost:8080/"
        },
        "id": "Zth7snXqrVOf",
        "outputId": "7e731ca8-4a36-4d7f-eae9-dc5b90e4cf41"
      },
      "outputs": [
        {
          "output_type": "stream",
          "name": "stdout",
          "text": [
            "Epoch 1/50\n",
            "47/47 [==============================] - 3s 35ms/step - loss: 4468.7251 - val_loss: 24.6653\n",
            "Epoch 2/50\n",
            "47/47 [==============================] - 1s 27ms/step - loss: 24.9586 - val_loss: 24.8574\n",
            "Epoch 3/50\n",
            "47/47 [==============================] - 1s 21ms/step - loss: 24.7784 - val_loss: 24.5583\n",
            "Epoch 4/50\n",
            "47/47 [==============================] - 1s 17ms/step - loss: 24.4609 - val_loss: 24.2255\n",
            "Epoch 5/50\n",
            "47/47 [==============================] - 1s 17ms/step - loss: 24.1168 - val_loss: 23.8710\n",
            "Epoch 6/50\n",
            "47/47 [==============================] - 1s 18ms/step - loss: 23.7547 - val_loss: 23.5030\n",
            "Epoch 7/50\n",
            "47/47 [==============================] - 1s 17ms/step - loss: 23.3807 - val_loss: 23.1224\n",
            "Epoch 8/50\n",
            "47/47 [==============================] - 1s 17ms/step - loss: 22.9980 - val_loss: 22.7380\n",
            "Epoch 9/50\n",
            "47/47 [==============================] - 1s 16ms/step - loss: 22.6098 - val_loss: 22.3477\n",
            "Epoch 10/50\n",
            "47/47 [==============================] - 1s 17ms/step - loss: 22.2178 - val_loss: 21.9541\n",
            "Epoch 11/50\n",
            "47/47 [==============================] - 1s 17ms/step - loss: 21.8228 - val_loss: 21.5598\n",
            "Epoch 12/50\n",
            "47/47 [==============================] - 1s 17ms/step - loss: 21.4269 - val_loss: 21.1632\n",
            "Epoch 13/50\n",
            "47/47 [==============================] - 1s 17ms/step - loss: 21.0303 - val_loss: 20.7683\n",
            "Epoch 14/50\n",
            "47/47 [==============================] - 1s 17ms/step - loss: 20.6343 - val_loss: 20.3721\n",
            "Epoch 15/50\n",
            "47/47 [==============================] - 1s 21ms/step - loss: 20.2391 - val_loss: 19.9794\n",
            "Epoch 16/50\n",
            "47/47 [==============================] - 1s 27ms/step - loss: 19.8459 - val_loss: 19.5880\n",
            "Epoch 17/50\n",
            "47/47 [==============================] - 1s 26ms/step - loss: 19.4533 - val_loss: 19.1974\n",
            "Epoch 18/50\n",
            "47/47 [==============================] - 1s 28ms/step - loss: 19.0634 - val_loss: 18.8095\n",
            "Epoch 19/50\n",
            "47/47 [==============================] - 1s 18ms/step - loss: 18.6757 - val_loss: 18.4238\n",
            "Epoch 20/50\n",
            "47/47 [==============================] - 1s 19ms/step - loss: 18.2919 - val_loss: 18.0430\n",
            "Epoch 21/50\n",
            "47/47 [==============================] - 1s 18ms/step - loss: 17.9104 - val_loss: 17.6646\n",
            "Epoch 22/50\n",
            "47/47 [==============================] - 1s 17ms/step - loss: 17.5324 - val_loss: 17.2873\n",
            "Epoch 23/50\n",
            "47/47 [==============================] - 1s 17ms/step - loss: 17.1568 - val_loss: 16.9158\n",
            "Epoch 24/50\n",
            "47/47 [==============================] - 1s 19ms/step - loss: 16.7847 - val_loss: 16.5464\n",
            "Epoch 25/50\n",
            "47/47 [==============================] - 1s 17ms/step - loss: 16.4168 - val_loss: 16.1812\n",
            "Epoch 26/50\n",
            "47/47 [==============================] - 1s 18ms/step - loss: 16.0524 - val_loss: 15.8209\n",
            "Epoch 27/50\n",
            "47/47 [==============================] - 1s 17ms/step - loss: 15.6921 - val_loss: 15.4628\n",
            "Epoch 28/50\n",
            "47/47 [==============================] - 1s 18ms/step - loss: 15.3352 - val_loss: 15.1095\n",
            "Epoch 29/50\n",
            "47/47 [==============================] - 1s 17ms/step - loss: 14.9815 - val_loss: 14.7586\n",
            "Epoch 30/50\n",
            "47/47 [==============================] - 1s 20ms/step - loss: 14.6301 - val_loss: 14.4107\n",
            "Epoch 31/50\n",
            "47/47 [==============================] - 1s 28ms/step - loss: 14.2240 - val_loss: 13.7562\n",
            "Epoch 32/50\n",
            "47/47 [==============================] - 1s 25ms/step - loss: 2790.5754 - val_loss: 14.0175\n",
            "Epoch 33/50\n",
            "47/47 [==============================] - 1s 27ms/step - loss: 13.8619 - val_loss: 13.6009\n",
            "Epoch 34/50\n",
            "47/47 [==============================] - 1s 17ms/step - loss: 13.4539 - val_loss: 13.2041\n",
            "Epoch 35/50\n",
            "47/47 [==============================] - 1s 17ms/step - loss: 13.0593 - val_loss: 12.8160\n",
            "Epoch 36/50\n",
            "47/47 [==============================] - 1s 17ms/step - loss: 12.6688 - val_loss: 12.4276\n",
            "Epoch 37/50\n",
            "47/47 [==============================] - 1s 18ms/step - loss: 12.2773 - val_loss: 12.0364\n",
            "Epoch 38/50\n",
            "47/47 [==============================] - 1s 18ms/step - loss: 11.8801 - val_loss: 11.6380\n",
            "Epoch 39/50\n",
            "47/47 [==============================] - 1s 19ms/step - loss: 11.4715 - val_loss: 11.2215\n",
            "Epoch 40/50\n",
            "47/47 [==============================] - 1s 17ms/step - loss: 11.0324 - val_loss: 10.7523\n",
            "Epoch 41/50\n",
            "47/47 [==============================] - 1s 19ms/step - loss: 10.5211 - val_loss: 10.1970\n",
            "Epoch 42/50\n",
            "47/47 [==============================] - 1s 17ms/step - loss: 9.8952 - val_loss: 9.4762\n",
            "Epoch 43/50\n",
            "47/47 [==============================] - 1s 17ms/step - loss: 8.9355 - val_loss: 8.0392\n",
            "Epoch 44/50\n",
            "47/47 [==============================] - 1s 17ms/step - loss: 285.3485 - val_loss: 12.2661\n",
            "Epoch 45/50\n",
            "47/47 [==============================] - 1s 17ms/step - loss: 12.1998 - val_loss: 11.9843\n",
            "Epoch 46/50\n",
            "47/47 [==============================] - 1s 25ms/step - loss: 11.8805 - val_loss: 11.6666\n",
            "Epoch 47/50\n",
            "47/47 [==============================] - 1s 25ms/step - loss: 11.5691 - val_loss: 11.3629\n",
            "Epoch 48/50\n",
            "47/47 [==============================] - 1s 27ms/step - loss: 11.2687 - val_loss: 11.0681\n",
            "15/15 [==============================] - 0s 6ms/step\n",
            "7.808269924115746\n"
          ]
        }
      ],
      "source": [
        "# Áp dụng các kỹ thuật tránh Overfiting - Early Stopping cho RNN:\n",
        "from keras.callbacks import EarlyStopping\n",
        "\n",
        "model_rnn = Sequential([\n",
        "    LSTM(50, activation='relu', input_shape=(X_train.shape[1], 1)),\n",
        "    Dense(1)\n",
        "])\n",
        "\n",
        "model_rnn.compile(optimizer='adam', loss='mean_squared_error')\n",
        "\n",
        "# Tạo callback EarlyStopping\n",
        "early_stopping = EarlyStopping(monitor='val_loss', patience=5, restore_best_weights=True)\n",
        "\n",
        "# Huấn luyện mô hình với early stopping\n",
        "model_rnn.fit(X_train_reshaped, Y_train, epochs=50, batch_size=32, validation_split=0.2, callbacks=[early_stopping])\n",
        "\n",
        "# Dự đoán và đánh giá mô hình\n",
        "pred_rnn = model_rnn.predict(X_val_reshaped)\n",
        "print(mse(Y_val, pred_rnn))\n"
      ]
    },
    {
      "cell_type": "markdown",
      "source": [
        "Standardize features and targets for cross-validation"
      ],
      "metadata": {
        "id": "IkDYAf-lEbSk"
      }
    },
    {
      "cell_type": "code",
      "source": [
        "# Assuming 'col_to_convert' is the column containing monetary values\n",
        "features['world_revenue'] = features['world_revenue'].replace('[\\$,]', '', regex=True).astype(float)\n",
        "\n",
        "# Assuming 'col_to_convert' is the column containing monetary values\n",
        "features['opening_revenue'] = features['opening_revenue'].replace('[\\$,]', '', regex=True).astype(float)\n"
      ],
      "metadata": {
        "id": "G7KGVyqmuDdo"
      },
      "execution_count": null,
      "outputs": []
    },
    {
      "cell_type": "code",
      "source": [
        "target.flatten().shape"
      ],
      "metadata": {
        "colab": {
          "base_uri": "https://localhost:8080/"
        },
        "id": "6mSO_WmOvDFf",
        "outputId": "be20b344-1f0a-49af-e7b8-37c43e614364"
      },
      "execution_count": null,
      "outputs": [
        {
          "output_type": "execute_result",
          "data": {
            "text/plain": [
              "(2308,)"
            ]
          },
          "metadata": {},
          "execution_count": 139
        }
      ]
    },
    {
      "cell_type": "code",
      "source": [
        "numeric_cols = features.select_dtypes(np.number).columns\n",
        "\n",
        "\n",
        "col_update = features[numeric_cols].apply(lambda col: col.fillna(col.mean()))\n",
        "features[numeric_cols] = col_update\n",
        "\n"
      ],
      "metadata": {
        "id": "LbjvOoHovLu7"
      },
      "execution_count": null,
      "outputs": []
    },
    {
      "cell_type": "code",
      "source": [
        "scaler = StandardScaler()\n",
        "features = scaler.fit_transform(features)"
      ],
      "metadata": {
        "id": "mGuOS9HVva8t"
      },
      "execution_count": null,
      "outputs": []
    },
    {
      "cell_type": "code",
      "source": [
        "# Xử lý giá trị NaN, infinity trong Y_train\n",
        "target[np.isinf(target)] = np.nan\n",
        "\n",
        "# Sử dụng SimpleImputer để điền giá trị NaN bằng mean của cột (hoặc median, mode tùy ý)\n",
        "imputer = SimpleImputer(strategy='mean')\n",
        "target = imputer.fit_transform(target.reshape(-1, 1))\n",
        "\n",
        "# Kiểm tra và xử lý giá trị cực lớn trong Y_train\n",
        "max_allowed_value = 1e12  # Giá trị tối đa cho phép\n",
        "target[target > max_allowed_value] = max_allowed_value  # Thay thế các giá trị vượt quá giới hạn"
      ],
      "metadata": {
        "id": "F1aaXqVv_jQW"
      },
      "execution_count": null,
      "outputs": []
    },
    {
      "cell_type": "markdown",
      "source": [
        "# **Ý 4 áp dụng cho ý 2**"
      ],
      "metadata": {
        "id": "RRjzkNsKsovN"
      }
    },
    {
      "cell_type": "markdown",
      "source": [
        "#Cross-Validation\n",
        "Kỹ thuật giúp đánh giá mô hình trên nhiều tập dữ liệu khác nhau (chia tập train thành nhiều phần)"
      ],
      "metadata": {
        "id": "t5B1ktQcDJaS"
      }
    },
    {
      "cell_type": "code",
      "source": [
        "# Chia dữ liệu thành 5 fold cho cross-validation\n",
        "# Sử dụng KFold cross-validation\n",
        "kf = KFold(n_splits=5, shuffle=True, random_state=42)\n",
        "\n",
        "model_randomforest_cv = RandomForestRegressor()\n",
        "\n",
        "# Đánh giá mô hình sử dụng cross-validation\n",
        "rf_scores = cross_val_score(model_randomforest_cv, features, target, scoring='neg_mean_squared_error', cv=kf)\n",
        "\n",
        "# In kết quả\n",
        "print(\"Random forest with Cross-Validation MSE: {:.4f} (+/- {:.4f})\".format(-rf_scores.mean(), rf_scores.std()))\n"
      ],
      "metadata": {
        "colab": {
          "base_uri": "https://localhost:8080/"
        },
        "id": "9kTiNCKpFYwn",
        "outputId": "f1be210f-ab59-421a-ec37-21d77aef6dab"
      },
      "execution_count": null,
      "outputs": [
        {
          "output_type": "stream",
          "name": "stdout",
          "text": [
            "Random forest with Cross-Validation MSE: 0.0787 (+/- 0.0103)\n"
          ]
        }
      ]
    },
    {
      "cell_type": "markdown",
      "source": [
        "#Dropout trong mô hình Gradient Boosting\n",
        " Trong gradient boosting, tham số subsample quy định tỷ lệ mẫu được sử dụng để xây dựng mỗi cây quyết định. Nếu subsample < 1.0, mỗi cây sẽ được xây dựng dựa trên một phần ngẫu nhiên của dữ liệu. Điều này có thể giúp giảm overfitting bằng cách sử dụng một phần nhỏ của dữ liệu để xây dựng mỗi cây thay vì sử dụng toàn bộ tập dữ liệu."
      ],
      "metadata": {
        "id": "l90QVK-6722C"
      }
    },
    {
      "cell_type": "code",
      "source": [
        "from sklearn.ensemble import GradientBoostingRegressor\n",
        "from sklearn.metrics import mean_squared_error\n",
        "\n",
        "# Gradient Boosting with Dropout\n",
        "gb_model = GradientBoostingRegressor(n_estimators=100, random_state=42, subsample=0.8)\n",
        "gb_model.fit(X_train, Y_train)\n",
        "\n",
        "# Evaluate the model on the test set\n",
        "gb_test_pred = gb_model.predict(X_val)\n",
        "gb_test_mse = mean_squared_error(Y_val, gb_test_pred)\n",
        "\n",
        "print(\"Gradient Boosting Test MSE:\", gb_test_mse)\n"
      ],
      "metadata": {
        "colab": {
          "base_uri": "https://localhost:8080/"
        },
        "id": "AtC85tkK7Ybg",
        "outputId": "a0c61998-e7c7-4672-a4fa-9c730524d068"
      },
      "execution_count": null,
      "outputs": [
        {
          "output_type": "stream",
          "name": "stdout",
          "text": [
            "Gradient Boosting Test MSE: 0.11383797651051293\n"
          ]
        }
      ]
    },
    {
      "cell_type": "markdown",
      "source": [
        "#Ridge Regression with Regularization\n",
        "Ridge Regression sử dụng tham số alpha để kiểm soát mức độ regularization. Khi alpha tăng lên, mô hình trở nên đơn giản hóa hơn, giúp kiểm soát overfitting. Việc thử nghiệm và điều chỉnh giá trị của alpha sẽ ảnh hưởng đến mức độ regularization."
      ],
      "metadata": {
        "id": "iLS8uHVD8OFR"
      }
    },
    {
      "cell_type": "code",
      "source": [
        "from sklearn.linear_model import Ridge\n",
        "\n",
        "# Ridge Regression with Regularization\n",
        "ridge_model = Ridge(alpha=1.0)\n",
        "ridge_model.fit(X_train, Y_train)\n",
        "\n",
        "# Evaluate the model on the test set\n",
        "ridge_test_pred = ridge_model.predict(X_val)\n",
        "ridge_test_mse = mean_squared_error(Y_val, ridge_test_pred)\n",
        "\n",
        "print(\"Ridge Regression Test MSE:\", ridge_test_mse)\n"
      ],
      "metadata": {
        "colab": {
          "base_uri": "https://localhost:8080/"
        },
        "id": "4rHjJi538fQn",
        "outputId": "a4dd3d17-0405-47c8-b2e6-027f89db6cd5"
      },
      "execution_count": null,
      "outputs": [
        {
          "output_type": "stream",
          "name": "stdout",
          "text": [
            "Ridge Regression Test MSE: 0.5805130354443159\n"
          ]
        }
      ]
    },
    {
      "cell_type": "markdown",
      "source": [
        "#Gradient Boosting with Early Stopping\n",
        "Trong gradient boosting, n_iter_no_change và tol được sử dụng để thiết lập điều kiện dừng sớm. Nếu sau một số lần lặp không có sự cải thiện đủ đáng kể (được kiểm tra bằng tol), quá trình đào tạo sẽ dừng sớm. Điều này giúp ngăn chặn mô hình từ việc tiếp tục học trên dữ liệu đào tạo khi nó không còn mang lại cải thiện đáng kể trên tập validation, giảm nguy cơ overfitting."
      ],
      "metadata": {
        "id": "HcgjkmPz8sKF"
      }
    },
    {
      "cell_type": "code",
      "source": [
        "# Gradient Boosting with Early Stopping\n",
        "gb_model = GradientBoostingRegressor(n_estimators=100, random_state=42, validation_fraction=0.1, n_iter_no_change=5, tol=0.01)\n",
        "gb_model.fit(X_train, Y_train)\n",
        "\n",
        "# Evaluate the model on the test set\n",
        "gb_test_pred = gb_model.predict(X_val)\n",
        "gb_test_mse = mean_squared_error(Y_val, gb_test_pred)\n",
        "\n",
        "print(\"Gradient Boosting Test MSE:\", gb_test_mse)\n"
      ],
      "metadata": {
        "colab": {
          "base_uri": "https://localhost:8080/"
        },
        "id": "PrT9biHt8zSO",
        "outputId": "6fe4e384-50f8-421d-eeb0-bd1ec87d5294"
      },
      "execution_count": null,
      "outputs": [
        {
          "output_type": "stream",
          "name": "stdout",
          "text": [
            "Gradient Boosting Test MSE: 0.12448234993798622\n"
          ]
        }
      ]
    },
    {
      "cell_type": "markdown",
      "source": [
        "# **Ý 5**\n",
        "\n",
        "#Tối ưu hóa tham số mô hình (Model Tuning):\n",
        "Sử dụng kỹ thuật tối ưu hóa tham số để điều chỉnh các tham số của mô hình và kiểm tra xem liệu có thể cải thiện hiệu suất hay không.\n",
        "\n",
        "#Kiểm tra mô hình (Model Evaluation):\n",
        "Sử dụng các phương pháp kiểm định chéo (cross-validation) để đánh giá mô hình trên các tập dữ liệu kiểm tra khác nhau và đảm bảo tính tổng quát của mô hình.\n",
        "\n",
        "#Sử dụng mô hình tập hợp (Ensemble):\n",
        "Kết hợp nhiều mô hình khác nhau để tạo ra một mô hình tập hợp có hiệu suất tốt hơn.\n",
        "\n"
      ],
      "metadata": {
        "id": "7zh4nHWfOG5B"
      }
    },
    {
      "cell_type": "code",
      "source": [
        "# Random Forest trước khi cải tiến\n",
        "model_randomforest = RandomForestRegressor()\n",
        "model_randomforest.fit(X_train, Y_train)\n",
        "\n",
        "pred_randomforest = model_randomforest.predict(X_val)\n",
        "print(mse(Y_val, pred_randomforest.reshape(-1, 1)))\n"
      ],
      "metadata": {
        "colab": {
          "base_uri": "https://localhost:8080/"
        },
        "id": "PDsXuoLOOKYD",
        "outputId": "fd2bf40b-e837-4841-ec58-6da235a5b686"
      },
      "execution_count": null,
      "outputs": [
        {
          "output_type": "stream",
          "name": "stdout",
          "text": [
            "0.07923585167314103\n"
          ]
        }
      ]
    },
    {
      "cell_type": "code",
      "source": [
        "from sklearn.model_selection import GridSearchCV\n",
        "from sklearn.model_selection import cross_val_score\n"
      ],
      "metadata": {
        "id": "cOJytSAxO_sS"
      },
      "execution_count": null,
      "outputs": []
    },
    {
      "cell_type": "code",
      "source": [
        "# Cross-validation để kiểm tra độ chính xác trung bình\n",
        "cv_scores = cross_val_score(model_randomforest, X_train, Y_train, scoring='neg_mean_squared_error', cv=5)\n",
        "print(f\"Cross-Validation Mean Squared Error: {np.mean(-cv_scores)}\")"
      ],
      "metadata": {
        "colab": {
          "base_uri": "https://localhost:8080/"
        },
        "id": "SS1njNQv87Zj",
        "outputId": "02ace1f2-8886-480f-e328-13e816368941"
      },
      "execution_count": null,
      "outputs": [
        {
          "output_type": "stream",
          "name": "stdout",
          "text": [
            "Cross-Validation Mean Squared Error: 0.08476423516354768\n"
          ]
        }
      ]
    },
    {
      "cell_type": "code",
      "source": [
        "# Phân tích lỗi dự đoán sai\n",
        "errors = abs(pred_randomforest - Y_val)\n",
        "average_error = np.mean(errors)\n",
        "print(f\"Average Prediction Error: {average_error}\")"
      ],
      "metadata": {
        "colab": {
          "base_uri": "https://localhost:8080/"
        },
        "id": "vH5-klaT9tiy",
        "outputId": "32f7354d-173b-4c86-eb5f-e6ee28fd2499"
      },
      "execution_count": null,
      "outputs": [
        {
          "output_type": "stream",
          "name": "stdout",
          "text": [
            "Average Prediction Error: 0.9843229729645342\n"
          ]
        }
      ]
    },
    {
      "cell_type": "code",
      "source": [
        "# Cải thiện mô hình, thay đổi số lượng cây trong RandomForestRegressor\n",
        "improved_model = RandomForestRegressor(n_estimators=200, random_state=42)\n",
        "improved_model.fit(X_train, Y_train)"
      ],
      "metadata": {
        "colab": {
          "base_uri": "https://localhost:8080/",
          "height": 74
        },
        "id": "XWreF9N6-Hj4",
        "outputId": "b89172ec-0a8d-4a22-ab4e-fa7792e31759"
      },
      "execution_count": null,
      "outputs": [
        {
          "output_type": "execute_result",
          "data": {
            "text/plain": [
              "RandomForestRegressor(n_estimators=200, random_state=42)"
            ],
            "text/html": [
              "<style>#sk-container-id-3 {color: black;background-color: white;}#sk-container-id-3 pre{padding: 0;}#sk-container-id-3 div.sk-toggleable {background-color: white;}#sk-container-id-3 label.sk-toggleable__label {cursor: pointer;display: block;width: 100%;margin-bottom: 0;padding: 0.3em;box-sizing: border-box;text-align: center;}#sk-container-id-3 label.sk-toggleable__label-arrow:before {content: \"▸\";float: left;margin-right: 0.25em;color: #696969;}#sk-container-id-3 label.sk-toggleable__label-arrow:hover:before {color: black;}#sk-container-id-3 div.sk-estimator:hover label.sk-toggleable__label-arrow:before {color: black;}#sk-container-id-3 div.sk-toggleable__content {max-height: 0;max-width: 0;overflow: hidden;text-align: left;background-color: #f0f8ff;}#sk-container-id-3 div.sk-toggleable__content pre {margin: 0.2em;color: black;border-radius: 0.25em;background-color: #f0f8ff;}#sk-container-id-3 input.sk-toggleable__control:checked~div.sk-toggleable__content {max-height: 200px;max-width: 100%;overflow: auto;}#sk-container-id-3 input.sk-toggleable__control:checked~label.sk-toggleable__label-arrow:before {content: \"▾\";}#sk-container-id-3 div.sk-estimator input.sk-toggleable__control:checked~label.sk-toggleable__label {background-color: #d4ebff;}#sk-container-id-3 div.sk-label input.sk-toggleable__control:checked~label.sk-toggleable__label {background-color: #d4ebff;}#sk-container-id-3 input.sk-hidden--visually {border: 0;clip: rect(1px 1px 1px 1px);clip: rect(1px, 1px, 1px, 1px);height: 1px;margin: -1px;overflow: hidden;padding: 0;position: absolute;width: 1px;}#sk-container-id-3 div.sk-estimator {font-family: monospace;background-color: #f0f8ff;border: 1px dotted black;border-radius: 0.25em;box-sizing: border-box;margin-bottom: 0.5em;}#sk-container-id-3 div.sk-estimator:hover {background-color: #d4ebff;}#sk-container-id-3 div.sk-parallel-item::after {content: \"\";width: 100%;border-bottom: 1px solid gray;flex-grow: 1;}#sk-container-id-3 div.sk-label:hover label.sk-toggleable__label {background-color: #d4ebff;}#sk-container-id-3 div.sk-serial::before {content: \"\";position: absolute;border-left: 1px solid gray;box-sizing: border-box;top: 0;bottom: 0;left: 50%;z-index: 0;}#sk-container-id-3 div.sk-serial {display: flex;flex-direction: column;align-items: center;background-color: white;padding-right: 0.2em;padding-left: 0.2em;position: relative;}#sk-container-id-3 div.sk-item {position: relative;z-index: 1;}#sk-container-id-3 div.sk-parallel {display: flex;align-items: stretch;justify-content: center;background-color: white;position: relative;}#sk-container-id-3 div.sk-item::before, #sk-container-id-3 div.sk-parallel-item::before {content: \"\";position: absolute;border-left: 1px solid gray;box-sizing: border-box;top: 0;bottom: 0;left: 50%;z-index: -1;}#sk-container-id-3 div.sk-parallel-item {display: flex;flex-direction: column;z-index: 1;position: relative;background-color: white;}#sk-container-id-3 div.sk-parallel-item:first-child::after {align-self: flex-end;width: 50%;}#sk-container-id-3 div.sk-parallel-item:last-child::after {align-self: flex-start;width: 50%;}#sk-container-id-3 div.sk-parallel-item:only-child::after {width: 0;}#sk-container-id-3 div.sk-dashed-wrapped {border: 1px dashed gray;margin: 0 0.4em 0.5em 0.4em;box-sizing: border-box;padding-bottom: 0.4em;background-color: white;}#sk-container-id-3 div.sk-label label {font-family: monospace;font-weight: bold;display: inline-block;line-height: 1.2em;}#sk-container-id-3 div.sk-label-container {text-align: center;}#sk-container-id-3 div.sk-container {/* jupyter's `normalize.less` sets `[hidden] { display: none; }` but bootstrap.min.css set `[hidden] { display: none !important; }` so we also need the `!important` here to be able to override the default hidden behavior on the sphinx rendered scikit-learn.org. See: https://github.com/scikit-learn/scikit-learn/issues/21755 */display: inline-block !important;position: relative;}#sk-container-id-3 div.sk-text-repr-fallback {display: none;}</style><div id=\"sk-container-id-3\" class=\"sk-top-container\"><div class=\"sk-text-repr-fallback\"><pre>RandomForestRegressor(n_estimators=200, random_state=42)</pre><b>In a Jupyter environment, please rerun this cell to show the HTML representation or trust the notebook. <br />On GitHub, the HTML representation is unable to render, please try loading this page with nbviewer.org.</b></div><div class=\"sk-container\" hidden><div class=\"sk-item\"><div class=\"sk-estimator sk-toggleable\"><input class=\"sk-toggleable__control sk-hidden--visually\" id=\"sk-estimator-id-7\" type=\"checkbox\" checked><label for=\"sk-estimator-id-7\" class=\"sk-toggleable__label sk-toggleable__label-arrow\">RandomForestRegressor</label><div class=\"sk-toggleable__content\"><pre>RandomForestRegressor(n_estimators=200, random_state=42)</pre></div></div></div></div></div>"
            ]
          },
          "metadata": {},
          "execution_count": 181
        }
      ]
    },
    {
      "cell_type": "code",
      "source": [
        "# Đánh giá mô hình cải thiện trên tập kiểm thử\n",
        "y_pred_improved = improved_model.predict(X_val)\n",
        "improved_mse = mean_squared_error(Y_val, y_pred_improved)\n",
        "print(f\"Improved Mean Squared Error: {improved_mse}\")"
      ],
      "metadata": {
        "colab": {
          "base_uri": "https://localhost:8080/"
        },
        "id": "l50EFYhg-O8Y",
        "outputId": "53e77aef-980e-49e6-ee13-fb515be6caa4"
      },
      "execution_count": null,
      "outputs": [
        {
          "output_type": "stream",
          "name": "stdout",
          "text": [
            "Improved Mean Squared Error: 0.07877114737004075\n"
          ]
        }
      ]
    },
    {
      "cell_type": "markdown",
      "source": [
        "#**Tối ưu hóa tham số**\n",
        "#Grid search\n",
        "Một kỹ thuật tìm kiếm siêu tham số (hyperparameter) trong một không gian tham số đã được xác định trước đó. Nó thử nghiệm tất cả các kết hợp có thể của các giá trị tham số đã cho để tìm ra bộ tham số tốt nhất"
      ],
      "metadata": {
        "id": "CXQrbPmFihmn"
      }
    },
    {
      "cell_type": "code",
      "source": [
        "# Hyperparameter tuning using GridSearchCV\n",
        "param_grid = {\n",
        "    'n_estimators': [50, 100, 200],\n",
        "    'max_depth': [None, 10, 20],\n",
        "    'min_samples_split': [2, 5, 10],\n",
        "    'min_samples_leaf': [1, 2, 4]\n",
        "}\n",
        "\n",
        "grid_search = GridSearchCV(estimator=model_randomforest, param_grid=param_grid, scoring='neg_mean_squared_error', cv=5)\n",
        "grid_search.fit(X_train, Y_train)"
      ],
      "metadata": {
        "colab": {
          "base_uri": "https://localhost:8080/",
          "height": 117
        },
        "id": "AYU4foO-O5Jn",
        "outputId": "7175b678-9aa5-4a7a-efcc-1eebd22d5993"
      },
      "execution_count": null,
      "outputs": [
        {
          "output_type": "execute_result",
          "data": {
            "text/plain": [
              "GridSearchCV(cv=5, estimator=RandomForestRegressor(),\n",
              "             param_grid={'max_depth': [None, 10, 20],\n",
              "                         'min_samples_leaf': [1, 2, 4],\n",
              "                         'min_samples_split': [2, 5, 10],\n",
              "                         'n_estimators': [50, 100, 200]},\n",
              "             scoring='neg_mean_squared_error')"
            ],
            "text/html": [
              "<style>#sk-container-id-2 {color: black;background-color: white;}#sk-container-id-2 pre{padding: 0;}#sk-container-id-2 div.sk-toggleable {background-color: white;}#sk-container-id-2 label.sk-toggleable__label {cursor: pointer;display: block;width: 100%;margin-bottom: 0;padding: 0.3em;box-sizing: border-box;text-align: center;}#sk-container-id-2 label.sk-toggleable__label-arrow:before {content: \"▸\";float: left;margin-right: 0.25em;color: #696969;}#sk-container-id-2 label.sk-toggleable__label-arrow:hover:before {color: black;}#sk-container-id-2 div.sk-estimator:hover label.sk-toggleable__label-arrow:before {color: black;}#sk-container-id-2 div.sk-toggleable__content {max-height: 0;max-width: 0;overflow: hidden;text-align: left;background-color: #f0f8ff;}#sk-container-id-2 div.sk-toggleable__content pre {margin: 0.2em;color: black;border-radius: 0.25em;background-color: #f0f8ff;}#sk-container-id-2 input.sk-toggleable__control:checked~div.sk-toggleable__content {max-height: 200px;max-width: 100%;overflow: auto;}#sk-container-id-2 input.sk-toggleable__control:checked~label.sk-toggleable__label-arrow:before {content: \"▾\";}#sk-container-id-2 div.sk-estimator input.sk-toggleable__control:checked~label.sk-toggleable__label {background-color: #d4ebff;}#sk-container-id-2 div.sk-label input.sk-toggleable__control:checked~label.sk-toggleable__label {background-color: #d4ebff;}#sk-container-id-2 input.sk-hidden--visually {border: 0;clip: rect(1px 1px 1px 1px);clip: rect(1px, 1px, 1px, 1px);height: 1px;margin: -1px;overflow: hidden;padding: 0;position: absolute;width: 1px;}#sk-container-id-2 div.sk-estimator {font-family: monospace;background-color: #f0f8ff;border: 1px dotted black;border-radius: 0.25em;box-sizing: border-box;margin-bottom: 0.5em;}#sk-container-id-2 div.sk-estimator:hover {background-color: #d4ebff;}#sk-container-id-2 div.sk-parallel-item::after {content: \"\";width: 100%;border-bottom: 1px solid gray;flex-grow: 1;}#sk-container-id-2 div.sk-label:hover label.sk-toggleable__label {background-color: #d4ebff;}#sk-container-id-2 div.sk-serial::before {content: \"\";position: absolute;border-left: 1px solid gray;box-sizing: border-box;top: 0;bottom: 0;left: 50%;z-index: 0;}#sk-container-id-2 div.sk-serial {display: flex;flex-direction: column;align-items: center;background-color: white;padding-right: 0.2em;padding-left: 0.2em;position: relative;}#sk-container-id-2 div.sk-item {position: relative;z-index: 1;}#sk-container-id-2 div.sk-parallel {display: flex;align-items: stretch;justify-content: center;background-color: white;position: relative;}#sk-container-id-2 div.sk-item::before, #sk-container-id-2 div.sk-parallel-item::before {content: \"\";position: absolute;border-left: 1px solid gray;box-sizing: border-box;top: 0;bottom: 0;left: 50%;z-index: -1;}#sk-container-id-2 div.sk-parallel-item {display: flex;flex-direction: column;z-index: 1;position: relative;background-color: white;}#sk-container-id-2 div.sk-parallel-item:first-child::after {align-self: flex-end;width: 50%;}#sk-container-id-2 div.sk-parallel-item:last-child::after {align-self: flex-start;width: 50%;}#sk-container-id-2 div.sk-parallel-item:only-child::after {width: 0;}#sk-container-id-2 div.sk-dashed-wrapped {border: 1px dashed gray;margin: 0 0.4em 0.5em 0.4em;box-sizing: border-box;padding-bottom: 0.4em;background-color: white;}#sk-container-id-2 div.sk-label label {font-family: monospace;font-weight: bold;display: inline-block;line-height: 1.2em;}#sk-container-id-2 div.sk-label-container {text-align: center;}#sk-container-id-2 div.sk-container {/* jupyter's `normalize.less` sets `[hidden] { display: none; }` but bootstrap.min.css set `[hidden] { display: none !important; }` so we also need the `!important` here to be able to override the default hidden behavior on the sphinx rendered scikit-learn.org. See: https://github.com/scikit-learn/scikit-learn/issues/21755 */display: inline-block !important;position: relative;}#sk-container-id-2 div.sk-text-repr-fallback {display: none;}</style><div id=\"sk-container-id-2\" class=\"sk-top-container\"><div class=\"sk-text-repr-fallback\"><pre>GridSearchCV(cv=5, estimator=RandomForestRegressor(),\n",
              "             param_grid={&#x27;max_depth&#x27;: [None, 10, 20],\n",
              "                         &#x27;min_samples_leaf&#x27;: [1, 2, 4],\n",
              "                         &#x27;min_samples_split&#x27;: [2, 5, 10],\n",
              "                         &#x27;n_estimators&#x27;: [50, 100, 200]},\n",
              "             scoring=&#x27;neg_mean_squared_error&#x27;)</pre><b>In a Jupyter environment, please rerun this cell to show the HTML representation or trust the notebook. <br />On GitHub, the HTML representation is unable to render, please try loading this page with nbviewer.org.</b></div><div class=\"sk-container\" hidden><div class=\"sk-item sk-dashed-wrapped\"><div class=\"sk-label-container\"><div class=\"sk-label sk-toggleable\"><input class=\"sk-toggleable__control sk-hidden--visually\" id=\"sk-estimator-id-4\" type=\"checkbox\" ><label for=\"sk-estimator-id-4\" class=\"sk-toggleable__label sk-toggleable__label-arrow\">GridSearchCV</label><div class=\"sk-toggleable__content\"><pre>GridSearchCV(cv=5, estimator=RandomForestRegressor(),\n",
              "             param_grid={&#x27;max_depth&#x27;: [None, 10, 20],\n",
              "                         &#x27;min_samples_leaf&#x27;: [1, 2, 4],\n",
              "                         &#x27;min_samples_split&#x27;: [2, 5, 10],\n",
              "                         &#x27;n_estimators&#x27;: [50, 100, 200]},\n",
              "             scoring=&#x27;neg_mean_squared_error&#x27;)</pre></div></div></div><div class=\"sk-parallel\"><div class=\"sk-parallel-item\"><div class=\"sk-item\"><div class=\"sk-label-container\"><div class=\"sk-label sk-toggleable\"><input class=\"sk-toggleable__control sk-hidden--visually\" id=\"sk-estimator-id-5\" type=\"checkbox\" ><label for=\"sk-estimator-id-5\" class=\"sk-toggleable__label sk-toggleable__label-arrow\">estimator: RandomForestRegressor</label><div class=\"sk-toggleable__content\"><pre>RandomForestRegressor()</pre></div></div></div><div class=\"sk-serial\"><div class=\"sk-item\"><div class=\"sk-estimator sk-toggleable\"><input class=\"sk-toggleable__control sk-hidden--visually\" id=\"sk-estimator-id-6\" type=\"checkbox\" ><label for=\"sk-estimator-id-6\" class=\"sk-toggleable__label sk-toggleable__label-arrow\">RandomForestRegressor</label><div class=\"sk-toggleable__content\"><pre>RandomForestRegressor()</pre></div></div></div></div></div></div></div></div></div></div>"
            ]
          },
          "metadata": {},
          "execution_count": 163
        }
      ]
    },
    {
      "cell_type": "code",
      "source": [
        "# Get the best model from hyperparameter tuning\n",
        "best_model = grid_search.best_estimator_\n"
      ],
      "metadata": {
        "id": "KL7dLMHMXS_D"
      },
      "execution_count": null,
      "outputs": []
    },
    {
      "cell_type": "code",
      "source": [
        "# Evaluate the best model on validation set\n",
        "y_pred_best = best_model.predict(X_val)\n",
        "best_mse = mean_squared_error(Y_val, y_pred_best)\n",
        "print(f'Best Mean Squared Error: {best_mse}')"
      ],
      "metadata": {
        "colab": {
          "base_uri": "https://localhost:8080/"
        },
        "id": "xZDlOEnGXczZ",
        "outputId": "4451beb9-0c03-4b03-9926-e7ffb0abd45b"
      },
      "execution_count": null,
      "outputs": [
        {
          "output_type": "stream",
          "name": "stdout",
          "text": [
            "Best Mean Squared Error: 0.07881321754036134\n"
          ]
        }
      ]
    },
    {
      "cell_type": "markdown",
      "source": [
        "# KẾT LUẬN\n",
        "Đã cải tiến so với trước"
      ],
      "metadata": {
        "id": "uMa7m231_pp9"
      }
    },
    {
      "cell_type": "markdown",
      "source": [
        "**Ngoài ra, để cải thiện độ chính xác, ta có thể thử nhiều tham số khác nhau**\n",
        "\n",
        "\n"
      ],
      "metadata": {
        "id": "_JJxNVAAnPn2"
      }
    },
    {
      "cell_type": "code",
      "source": [
        "# Using Adam optimizer\n",
        "model_fnn= Sequential([\n",
        "    Dense(128, activation = 'relu', input_shape=(X_train.shape[1],)),\n",
        "    Dense(64, activation = 'relu'),\n",
        "    Dense(1)\n",
        "])\n",
        "\n",
        "model_fnn.compile(optimizer = 'adam', loss = 'mean_squared_error')\n",
        "\n",
        "model_fnn.fit(X_train, Y_train, epochs = 50, batch_size = 32, validation_split = 0.2)\n",
        "\n",
        "pred_fnn = model_fnn.predict(X_val)\n",
        "print(mse(Y_val, pred_fnn))"
      ],
      "metadata": {
        "colab": {
          "base_uri": "https://localhost:8080/"
        },
        "id": "fuX6oF28nXfy",
        "outputId": "50b11129-e290-41a4-e09a-c736df524524"
      },
      "execution_count": null,
      "outputs": [
        {
          "output_type": "stream",
          "name": "stdout",
          "text": [
            "Epoch 1/50\n",
            "47/47 [==============================] - 2s 6ms/step - loss: 10.1803 - val_loss: 3.7065\n",
            "Epoch 2/50\n",
            "47/47 [==============================] - 0s 3ms/step - loss: 3.2818 - val_loss: 2.6785\n",
            "Epoch 3/50\n",
            "47/47 [==============================] - 0s 3ms/step - loss: 2.3590 - val_loss: 2.1325\n",
            "Epoch 4/50\n",
            "47/47 [==============================] - 0s 3ms/step - loss: 1.8838 - val_loss: 1.8194\n",
            "Epoch 5/50\n",
            "47/47 [==============================] - 0s 3ms/step - loss: 1.5441 - val_loss: 1.5343\n",
            "Epoch 6/50\n",
            "47/47 [==============================] - 0s 3ms/step - loss: 1.2589 - val_loss: 1.3228\n",
            "Epoch 7/50\n",
            "47/47 [==============================] - 0s 3ms/step - loss: 1.0328 - val_loss: 1.1495\n",
            "Epoch 8/50\n",
            "47/47 [==============================] - 0s 4ms/step - loss: 0.8381 - val_loss: 0.9788\n",
            "Epoch 9/50\n",
            "47/47 [==============================] - 0s 7ms/step - loss: 0.7185 - val_loss: 0.8770\n",
            "Epoch 10/50\n",
            "47/47 [==============================] - 0s 8ms/step - loss: 0.5767 - val_loss: 0.7788\n",
            "Epoch 11/50\n",
            "47/47 [==============================] - 0s 6ms/step - loss: 0.4773 - val_loss: 0.7127\n",
            "Epoch 12/50\n",
            "47/47 [==============================] - 1s 12ms/step - loss: 0.4245 - val_loss: 0.6528\n",
            "Epoch 13/50\n",
            "47/47 [==============================] - 0s 8ms/step - loss: 0.3773 - val_loss: 0.6352\n",
            "Epoch 14/50\n",
            "47/47 [==============================] - 0s 9ms/step - loss: 0.3374 - val_loss: 0.5944\n",
            "Epoch 15/50\n",
            "47/47 [==============================] - 0s 8ms/step - loss: 0.3109 - val_loss: 0.5620\n",
            "Epoch 16/50\n",
            "47/47 [==============================] - 0s 9ms/step - loss: 0.3009 - val_loss: 0.5423\n",
            "Epoch 17/50\n",
            "47/47 [==============================] - 0s 10ms/step - loss: 0.2793 - val_loss: 0.5350\n",
            "Epoch 18/50\n",
            "47/47 [==============================] - 0s 7ms/step - loss: 0.2663 - val_loss: 0.5185\n",
            "Epoch 19/50\n",
            "47/47 [==============================] - 0s 8ms/step - loss: 0.2589 - val_loss: 0.5484\n",
            "Epoch 20/50\n",
            "47/47 [==============================] - 0s 7ms/step - loss: 0.2776 - val_loss: 0.5481\n",
            "Epoch 21/50\n",
            "47/47 [==============================] - 0s 6ms/step - loss: 0.2303 - val_loss: 0.5101\n",
            "Epoch 22/50\n",
            "47/47 [==============================] - 0s 7ms/step - loss: 0.2350 - val_loss: 0.5157\n",
            "Epoch 23/50\n",
            "47/47 [==============================] - 0s 6ms/step - loss: 0.2174 - val_loss: 0.5002\n",
            "Epoch 24/50\n",
            "47/47 [==============================] - 0s 5ms/step - loss: 0.2238 - val_loss: 0.5126\n",
            "Epoch 25/50\n",
            "47/47 [==============================] - 0s 6ms/step - loss: 0.2134 - val_loss: 0.5115\n",
            "Epoch 26/50\n",
            "47/47 [==============================] - 0s 6ms/step - loss: 0.2105 - val_loss: 0.4654\n",
            "Epoch 27/50\n",
            "47/47 [==============================] - 0s 9ms/step - loss: 0.2046 - val_loss: 0.4795\n",
            "Epoch 28/50\n",
            "47/47 [==============================] - 0s 7ms/step - loss: 0.2429 - val_loss: 0.4956\n",
            "Epoch 29/50\n",
            "47/47 [==============================] - 0s 9ms/step - loss: 0.2314 - val_loss: 0.4549\n",
            "Epoch 30/50\n",
            "47/47 [==============================] - 0s 7ms/step - loss: 0.2230 - val_loss: 0.4677\n",
            "Epoch 31/50\n",
            "47/47 [==============================] - 1s 15ms/step - loss: 0.2182 - val_loss: 0.4731\n",
            "Epoch 32/50\n",
            "47/47 [==============================] - 1s 14ms/step - loss: 0.1984 - val_loss: 0.4656\n",
            "Epoch 33/50\n",
            "47/47 [==============================] - 1s 32ms/step - loss: 0.2200 - val_loss: 0.4449\n",
            "Epoch 34/50\n",
            "47/47 [==============================] - 1s 14ms/step - loss: 0.1826 - val_loss: 0.4602\n",
            "Epoch 35/50\n",
            "47/47 [==============================] - 0s 8ms/step - loss: 0.1806 - val_loss: 0.4451\n",
            "Epoch 36/50\n",
            "47/47 [==============================] - 0s 5ms/step - loss: 0.1742 - val_loss: 0.4539\n",
            "Epoch 37/50\n",
            "47/47 [==============================] - 0s 5ms/step - loss: 0.1867 - val_loss: 0.4964\n",
            "Epoch 38/50\n",
            "47/47 [==============================] - 0s 5ms/step - loss: 0.1867 - val_loss: 0.4635\n",
            "Epoch 39/50\n",
            "47/47 [==============================] - 0s 5ms/step - loss: 0.2007 - val_loss: 0.4339\n",
            "Epoch 40/50\n",
            "47/47 [==============================] - 0s 4ms/step - loss: 0.1872 - val_loss: 0.4337\n",
            "Epoch 41/50\n",
            "47/47 [==============================] - 0s 5ms/step - loss: 0.1767 - val_loss: 0.4716\n",
            "Epoch 42/50\n",
            "47/47 [==============================] - 0s 6ms/step - loss: 0.1733 - val_loss: 0.4234\n",
            "Epoch 43/50\n",
            "47/47 [==============================] - 0s 4ms/step - loss: 0.1644 - val_loss: 0.4702\n",
            "Epoch 44/50\n",
            "47/47 [==============================] - 0s 6ms/step - loss: 0.1644 - val_loss: 0.4329\n",
            "Epoch 45/50\n",
            "47/47 [==============================] - 0s 5ms/step - loss: 0.1620 - val_loss: 0.4348\n",
            "Epoch 46/50\n",
            "47/47 [==============================] - 0s 5ms/step - loss: 0.1696 - val_loss: 0.4258\n",
            "Epoch 47/50\n",
            "47/47 [==============================] - 0s 5ms/step - loss: 0.1917 - val_loss: 0.4208\n",
            "Epoch 48/50\n",
            "47/47 [==============================] - 0s 5ms/step - loss: 0.1518 - val_loss: 0.4959\n",
            "Epoch 49/50\n",
            "47/47 [==============================] - 0s 5ms/step - loss: 0.1544 - val_loss: 0.4619\n",
            "Epoch 50/50\n",
            "47/47 [==============================] - 0s 6ms/step - loss: 0.1494 - val_loss: 0.4228\n",
            "15/15 [==============================] - 0s 2ms/step\n",
            "0.4324367482437644\n"
          ]
        }
      ]
    },
    {
      "cell_type": "code",
      "source": [
        "# Using RMSprop optimizer\n",
        "model_fnn= Sequential([\n",
        "    Dense(128, activation = 'relu', input_shape=(X_train.shape[1],)),\n",
        "    Dense(64, activation = 'relu'),\n",
        "    Dense(1)\n",
        "])\n",
        "\n",
        "model_fnn.compile(optimizer = 'RMSprop', loss = 'mean_squared_error')\n",
        "\n",
        "model_fnn.fit(X_train, Y_train, epochs = 50, batch_size = 32, validation_split = 0.2)\n",
        "\n",
        "pred_fnn = model_fnn.predict(X_val)\n",
        "print(mse(Y_val, pred_fnn))"
      ],
      "metadata": {
        "colab": {
          "base_uri": "https://localhost:8080/"
        },
        "id": "ExTqQPyfs0FJ",
        "outputId": "9538857a-b005-434f-984f-64ee6f7be84e"
      },
      "execution_count": null,
      "outputs": [
        {
          "output_type": "stream",
          "name": "stdout",
          "text": [
            "Epoch 1/50\n",
            "47/47 [==============================] - 1s 12ms/step - loss: 7.5647 - val_loss: 2.9406\n",
            "Epoch 2/50\n",
            "47/47 [==============================] - 1s 11ms/step - loss: 2.8613 - val_loss: 2.1422\n",
            "Epoch 3/50\n",
            "47/47 [==============================] - 1s 17ms/step - loss: 1.9629 - val_loss: 1.6795\n",
            "Epoch 4/50\n",
            "47/47 [==============================] - 1s 19ms/step - loss: 1.4180 - val_loss: 1.3656\n",
            "Epoch 5/50\n",
            "47/47 [==============================] - 1s 14ms/step - loss: 0.9896 - val_loss: 1.1724\n",
            "Epoch 6/50\n",
            "47/47 [==============================] - 1s 20ms/step - loss: 0.8187 - val_loss: 0.8677\n",
            "Epoch 7/50\n",
            "47/47 [==============================] - 1s 11ms/step - loss: 0.6302 - val_loss: 1.3709\n",
            "Epoch 8/50\n",
            "47/47 [==============================] - 0s 9ms/step - loss: 0.5710 - val_loss: 0.8649\n",
            "Epoch 9/50\n",
            "47/47 [==============================] - 0s 8ms/step - loss: 0.4551 - val_loss: 0.7721\n",
            "Epoch 10/50\n",
            "47/47 [==============================] - 0s 8ms/step - loss: 0.4161 - val_loss: 0.8544\n",
            "Epoch 11/50\n",
            "47/47 [==============================] - 0s 10ms/step - loss: 0.4081 - val_loss: 0.7167\n",
            "Epoch 12/50\n",
            "47/47 [==============================] - 1s 12ms/step - loss: 0.3556 - val_loss: 0.7493\n",
            "Epoch 13/50\n",
            "47/47 [==============================] - 0s 8ms/step - loss: 0.3560 - val_loss: 0.5805\n",
            "Epoch 14/50\n",
            "47/47 [==============================] - 0s 7ms/step - loss: 0.3309 - val_loss: 0.9512\n",
            "Epoch 15/50\n",
            "47/47 [==============================] - 0s 9ms/step - loss: 0.3211 - val_loss: 0.5879\n",
            "Epoch 16/50\n",
            "47/47 [==============================] - 0s 9ms/step - loss: 0.3051 - val_loss: 0.6471\n",
            "Epoch 17/50\n",
            "47/47 [==============================] - 0s 7ms/step - loss: 0.3038 - val_loss: 0.5912\n",
            "Epoch 18/50\n",
            "47/47 [==============================] - 0s 9ms/step - loss: 0.3035 - val_loss: 0.5941\n",
            "Epoch 19/50\n",
            "47/47 [==============================] - 0s 9ms/step - loss: 0.2692 - val_loss: 0.6665\n",
            "Epoch 20/50\n",
            "47/47 [==============================] - 0s 6ms/step - loss: 0.2886 - val_loss: 0.6658\n",
            "Epoch 21/50\n",
            "47/47 [==============================] - 0s 5ms/step - loss: 0.2867 - val_loss: 0.6198\n",
            "Epoch 22/50\n",
            "47/47 [==============================] - 0s 6ms/step - loss: 0.2633 - val_loss: 0.6348\n",
            "Epoch 23/50\n",
            "47/47 [==============================] - 0s 5ms/step - loss: 0.2253 - val_loss: 0.8763\n",
            "Epoch 24/50\n",
            "47/47 [==============================] - 0s 6ms/step - loss: 0.2685 - val_loss: 0.7665\n",
            "Epoch 25/50\n",
            "47/47 [==============================] - 0s 5ms/step - loss: 0.2639 - val_loss: 0.6981\n",
            "Epoch 26/50\n",
            "47/47 [==============================] - 0s 6ms/step - loss: 0.2338 - val_loss: 0.6651\n",
            "Epoch 27/50\n",
            "47/47 [==============================] - 0s 4ms/step - loss: 0.2480 - val_loss: 0.6572\n",
            "Epoch 28/50\n",
            "47/47 [==============================] - 0s 5ms/step - loss: 0.2423 - val_loss: 0.6469\n",
            "Epoch 29/50\n",
            "47/47 [==============================] - 0s 6ms/step - loss: 0.2624 - val_loss: 0.5925\n",
            "Epoch 30/50\n",
            "47/47 [==============================] - 0s 5ms/step - loss: 0.1996 - val_loss: 0.6551\n",
            "Epoch 31/50\n",
            "47/47 [==============================] - 0s 5ms/step - loss: 0.2458 - val_loss: 0.6048\n",
            "Epoch 32/50\n",
            "47/47 [==============================] - 0s 5ms/step - loss: 0.2183 - val_loss: 0.7828\n",
            "Epoch 33/50\n",
            "47/47 [==============================] - 0s 5ms/step - loss: 0.2196 - val_loss: 0.6403\n",
            "Epoch 34/50\n",
            "47/47 [==============================] - 0s 5ms/step - loss: 0.2059 - val_loss: 0.6183\n",
            "Epoch 35/50\n",
            "47/47 [==============================] - 0s 4ms/step - loss: 0.2115 - val_loss: 0.6879\n",
            "Epoch 36/50\n",
            "47/47 [==============================] - 0s 4ms/step - loss: 0.2182 - val_loss: 0.7049\n",
            "Epoch 37/50\n",
            "47/47 [==============================] - 0s 6ms/step - loss: 0.2283 - val_loss: 0.5824\n",
            "Epoch 38/50\n",
            "47/47 [==============================] - 0s 7ms/step - loss: 0.1906 - val_loss: 0.5854\n",
            "Epoch 39/50\n",
            "47/47 [==============================] - 0s 6ms/step - loss: 0.2289 - val_loss: 0.5406\n",
            "Epoch 40/50\n",
            "47/47 [==============================] - 0s 7ms/step - loss: 0.2067 - val_loss: 0.5736\n",
            "Epoch 41/50\n",
            "47/47 [==============================] - 0s 9ms/step - loss: 0.2198 - val_loss: 0.6401\n",
            "Epoch 42/50\n",
            "47/47 [==============================] - 0s 9ms/step - loss: 0.1948 - val_loss: 0.5830\n",
            "Epoch 43/50\n",
            "47/47 [==============================] - 0s 8ms/step - loss: 0.2018 - val_loss: 0.5612\n",
            "Epoch 44/50\n",
            "47/47 [==============================] - 0s 9ms/step - loss: 0.1918 - val_loss: 0.5581\n",
            "Epoch 45/50\n",
            "47/47 [==============================] - 0s 8ms/step - loss: 0.2056 - val_loss: 0.5519\n",
            "Epoch 46/50\n",
            "47/47 [==============================] - 0s 7ms/step - loss: 0.2126 - val_loss: 0.5808\n",
            "Epoch 47/50\n",
            "47/47 [==============================] - 0s 9ms/step - loss: 0.1956 - val_loss: 0.5718\n",
            "Epoch 48/50\n",
            "47/47 [==============================] - 0s 7ms/step - loss: 0.1755 - val_loss: 0.6148\n",
            "Epoch 49/50\n",
            "47/47 [==============================] - 0s 6ms/step - loss: 0.1972 - val_loss: 0.7149\n",
            "Epoch 50/50\n",
            "47/47 [==============================] - 0s 4ms/step - loss: 0.2106 - val_loss: 0.5751\n",
            "15/15 [==============================] - 0s 2ms/step\n",
            "0.41578479221336856\n"
          ]
        }
      ]
    },
    {
      "cell_type": "code",
      "source": [
        "# Using SGD optimizer\n",
        "model_fnn= Sequential([\n",
        "    Dense(128, activation = 'relu', input_shape=(X_train.shape[1],)),\n",
        "    Dense(64, activation = 'relu'),\n",
        "    Dense(1)\n",
        "])\n",
        "\n",
        "model_fnn.compile(optimizer = 'SGD', loss = 'mean_squared_error')\n",
        "\n",
        "model_fnn.fit(X_train, Y_train, epochs = 50, batch_size = 32, validation_split = 0.2)\n",
        "\n",
        "pred_fnn = model_fnn.predict(X_val)\n",
        "print(mse(Y_val, pred_fnn))"
      ],
      "metadata": {
        "colab": {
          "base_uri": "https://localhost:8080/"
        },
        "id": "k7XgkLc7s79K",
        "outputId": "4ad829d6-ea5b-4130-c882-1499e7d6ccaa"
      },
      "execution_count": null,
      "outputs": [
        {
          "output_type": "stream",
          "name": "stdout",
          "text": [
            "Epoch 1/50\n",
            "47/47 [==============================] - 2s 17ms/step - loss: 6.6591 - val_loss: 2.8563\n",
            "Epoch 2/50\n",
            "47/47 [==============================] - 0s 8ms/step - loss: 1.4131 - val_loss: 1.1413\n",
            "Epoch 3/50\n",
            "47/47 [==============================] - 0s 6ms/step - loss: 0.9193 - val_loss: 0.9254\n",
            "Epoch 4/50\n",
            "47/47 [==============================] - 0s 4ms/step - loss: 0.6692 - val_loss: 0.8607\n",
            "Epoch 5/50\n",
            "47/47 [==============================] - 0s 3ms/step - loss: 0.5626 - val_loss: 0.6134\n",
            "Epoch 6/50\n",
            "47/47 [==============================] - 0s 2ms/step - loss: 0.4744 - val_loss: 0.6057\n",
            "Epoch 7/50\n",
            "47/47 [==============================] - 0s 3ms/step - loss: 0.4251 - val_loss: 0.5040\n",
            "Epoch 8/50\n",
            "47/47 [==============================] - 0s 3ms/step - loss: 0.3795 - val_loss: 0.4830\n",
            "Epoch 9/50\n",
            "47/47 [==============================] - 0s 5ms/step - loss: 0.3593 - val_loss: 0.4912\n",
            "Epoch 10/50\n",
            "47/47 [==============================] - 0s 4ms/step - loss: 0.3453 - val_loss: 0.5447\n",
            "Epoch 11/50\n",
            "47/47 [==============================] - 0s 5ms/step - loss: 0.3326 - val_loss: 0.4908\n",
            "Epoch 12/50\n",
            "47/47 [==============================] - 0s 4ms/step - loss: 0.3212 - val_loss: 0.4600\n",
            "Epoch 13/50\n",
            "47/47 [==============================] - 0s 4ms/step - loss: 0.3081 - val_loss: 0.6106\n",
            "Epoch 14/50\n",
            "47/47 [==============================] - 0s 5ms/step - loss: 0.3127 - val_loss: 0.4687\n",
            "Epoch 15/50\n",
            "47/47 [==============================] - 0s 4ms/step - loss: 0.2892 - val_loss: 0.4441\n",
            "Epoch 16/50\n",
            "47/47 [==============================] - 0s 5ms/step - loss: 0.2767 - val_loss: 0.4454\n",
            "Epoch 17/50\n",
            "47/47 [==============================] - 0s 5ms/step - loss: 0.2753 - val_loss: 0.4312\n",
            "Epoch 18/50\n",
            "47/47 [==============================] - 0s 4ms/step - loss: 0.2661 - val_loss: 0.5006\n",
            "Epoch 19/50\n",
            "47/47 [==============================] - 0s 5ms/step - loss: 0.2634 - val_loss: 0.4501\n",
            "Epoch 20/50\n",
            "47/47 [==============================] - 0s 4ms/step - loss: 0.2564 - val_loss: 0.5363\n",
            "Epoch 21/50\n",
            "47/47 [==============================] - 0s 5ms/step - loss: 0.2582 - val_loss: 0.5756\n",
            "Epoch 22/50\n",
            "47/47 [==============================] - 0s 5ms/step - loss: 0.2489 - val_loss: 0.4332\n",
            "Epoch 23/50\n",
            "47/47 [==============================] - 0s 5ms/step - loss: 0.2421 - val_loss: 0.5052\n",
            "Epoch 24/50\n",
            "47/47 [==============================] - 0s 5ms/step - loss: 0.2370 - val_loss: 0.4915\n",
            "Epoch 25/50\n",
            "47/47 [==============================] - 0s 3ms/step - loss: 0.2342 - val_loss: 0.5613\n",
            "Epoch 26/50\n",
            "47/47 [==============================] - 0s 3ms/step - loss: 0.2359 - val_loss: 0.4627\n",
            "Epoch 27/50\n",
            "47/47 [==============================] - 0s 3ms/step - loss: 0.2274 - val_loss: 0.4473\n",
            "Epoch 28/50\n",
            "47/47 [==============================] - 0s 3ms/step - loss: 0.2227 - val_loss: 0.4358\n",
            "Epoch 29/50\n",
            "47/47 [==============================] - 0s 3ms/step - loss: 0.2186 - val_loss: 0.6548\n",
            "Epoch 30/50\n",
            "47/47 [==============================] - 0s 3ms/step - loss: 0.2218 - val_loss: 0.4440\n",
            "Epoch 31/50\n",
            "47/47 [==============================] - 0s 3ms/step - loss: 0.2134 - val_loss: 0.4368\n",
            "Epoch 32/50\n",
            "47/47 [==============================] - 0s 3ms/step - loss: 0.2090 - val_loss: 0.4579\n",
            "Epoch 33/50\n",
            "47/47 [==============================] - 0s 3ms/step - loss: 0.2086 - val_loss: 0.4324\n",
            "Epoch 34/50\n",
            "47/47 [==============================] - 0s 3ms/step - loss: 0.2067 - val_loss: 0.4685\n",
            "Epoch 35/50\n",
            "47/47 [==============================] - 0s 3ms/step - loss: 0.2071 - val_loss: 0.4539\n",
            "Epoch 36/50\n",
            "47/47 [==============================] - 0s 3ms/step - loss: 0.2015 - val_loss: 0.4491\n",
            "Epoch 37/50\n",
            "47/47 [==============================] - 0s 3ms/step - loss: 0.1964 - val_loss: 0.4839\n",
            "Epoch 38/50\n",
            "47/47 [==============================] - 0s 3ms/step - loss: 0.1975 - val_loss: 0.5803\n",
            "Epoch 39/50\n",
            "47/47 [==============================] - 0s 3ms/step - loss: 0.1979 - val_loss: 0.4453\n",
            "Epoch 40/50\n",
            "47/47 [==============================] - 0s 3ms/step - loss: 0.1916 - val_loss: 0.4368\n",
            "Epoch 41/50\n",
            "47/47 [==============================] - 0s 3ms/step - loss: 0.1912 - val_loss: 0.5230\n",
            "Epoch 42/50\n",
            "47/47 [==============================] - 0s 3ms/step - loss: 0.1922 - val_loss: 0.4322\n",
            "Epoch 43/50\n",
            "47/47 [==============================] - 0s 3ms/step - loss: 0.1866 - val_loss: 0.4233\n",
            "Epoch 44/50\n",
            "47/47 [==============================] - 0s 3ms/step - loss: 0.1853 - val_loss: 0.6030\n",
            "Epoch 45/50\n",
            "47/47 [==============================] - 0s 3ms/step - loss: 0.1896 - val_loss: 0.4391\n",
            "Epoch 46/50\n",
            "47/47 [==============================] - 0s 3ms/step - loss: 0.1846 - val_loss: 0.4785\n",
            "Epoch 47/50\n",
            "47/47 [==============================] - 0s 3ms/step - loss: 0.1873 - val_loss: 0.4304\n",
            "Epoch 48/50\n",
            "47/47 [==============================] - 0s 3ms/step - loss: 0.1780 - val_loss: 0.4416\n",
            "Epoch 49/50\n",
            "47/47 [==============================] - 0s 3ms/step - loss: 0.1785 - val_loss: 0.4443\n",
            "Epoch 50/50\n",
            "47/47 [==============================] - 0s 2ms/step - loss: 0.1796 - val_loss: 0.4346\n",
            "15/15 [==============================] - 0s 2ms/step\n",
            "0.38180666284464154\n"
          ]
        }
      ]
    },
    {
      "cell_type": "code",
      "source": [
        "# # Using Adagrad optimizer\n",
        "model_fnn= Sequential([\n",
        "    Dense(128, activation = 'relu', input_shape=(X_train.shape[1],)),\n",
        "    Dense(64, activation = 'relu'),\n",
        "    Dense(1)\n",
        "])\n",
        "\n",
        "model_fnn.compile(optimizer = 'Adagrad', loss = 'mean_squared_error')\n",
        "\n",
        "model_fnn.fit(X_train, Y_train, epochs = 50, batch_size = 32, validation_split = 0.2)\n",
        "\n",
        "pred_fnn = model_fnn.predict(X_val)\n",
        "print(mse(Y_val, pred_fnn))"
      ],
      "metadata": {
        "colab": {
          "base_uri": "https://localhost:8080/"
        },
        "id": "MtTR0wsatIjz",
        "outputId": "2f8bd1eb-64d7-4329-e0ba-cfd53ed7e599"
      },
      "execution_count": null,
      "outputs": [
        {
          "output_type": "stream",
          "name": "stdout",
          "text": [
            "Epoch 1/50\n",
            "47/47 [==============================] - 2s 16ms/step - loss: 20.1093 - val_loss: 15.4208\n",
            "Epoch 2/50\n",
            "47/47 [==============================] - 0s 10ms/step - loss: 13.2655 - val_loss: 10.9162\n",
            "Epoch 3/50\n",
            "47/47 [==============================] - 0s 9ms/step - loss: 10.1066 - val_loss: 8.4017\n",
            "Epoch 4/50\n",
            "47/47 [==============================] - 0s 7ms/step - loss: 8.2987 - val_loss: 6.9058\n",
            "Epoch 5/50\n",
            "47/47 [==============================] - 0s 5ms/step - loss: 7.1965 - val_loss: 5.9428\n",
            "Epoch 6/50\n",
            "47/47 [==============================] - 0s 6ms/step - loss: 6.4422 - val_loss: 5.3065\n",
            "Epoch 7/50\n",
            "47/47 [==============================] - 0s 8ms/step - loss: 5.9060 - val_loss: 4.8467\n",
            "Epoch 8/50\n",
            "47/47 [==============================] - 0s 5ms/step - loss: 5.4930 - val_loss: 4.5009\n",
            "Epoch 9/50\n",
            "47/47 [==============================] - 0s 8ms/step - loss: 5.1601 - val_loss: 4.2374\n",
            "Epoch 10/50\n",
            "47/47 [==============================] - 0s 8ms/step - loss: 4.8875 - val_loss: 4.0210\n",
            "Epoch 11/50\n",
            "47/47 [==============================] - 0s 5ms/step - loss: 4.6545 - val_loss: 3.8437\n",
            "Epoch 12/50\n",
            "47/47 [==============================] - 0s 8ms/step - loss: 4.4537 - val_loss: 3.6899\n",
            "Epoch 13/50\n",
            "47/47 [==============================] - 0s 9ms/step - loss: 4.2763 - val_loss: 3.5699\n",
            "Epoch 14/50\n",
            "47/47 [==============================] - 0s 9ms/step - loss: 4.1242 - val_loss: 3.4581\n",
            "Epoch 15/50\n",
            "47/47 [==============================] - 1s 12ms/step - loss: 3.9869 - val_loss: 3.3646\n",
            "Epoch 16/50\n",
            "47/47 [==============================] - 0s 6ms/step - loss: 3.8684 - val_loss: 3.2807\n",
            "Epoch 17/50\n",
            "47/47 [==============================] - 0s 5ms/step - loss: 3.7602 - val_loss: 3.2072\n",
            "Epoch 18/50\n",
            "47/47 [==============================] - 0s 4ms/step - loss: 3.6645 - val_loss: 3.1408\n",
            "Epoch 19/50\n",
            "47/47 [==============================] - 0s 5ms/step - loss: 3.5728 - val_loss: 3.0817\n",
            "Epoch 20/50\n",
            "47/47 [==============================] - 0s 5ms/step - loss: 3.4913 - val_loss: 3.0308\n",
            "Epoch 21/50\n",
            "47/47 [==============================] - 0s 6ms/step - loss: 3.4169 - val_loss: 3.0058\n",
            "Epoch 22/50\n",
            "47/47 [==============================] - 0s 5ms/step - loss: 3.3457 - val_loss: 2.9611\n",
            "Epoch 23/50\n",
            "47/47 [==============================] - 0s 5ms/step - loss: 3.2831 - val_loss: 2.9194\n",
            "Epoch 24/50\n",
            "47/47 [==============================] - 0s 4ms/step - loss: 3.2239 - val_loss: 2.8798\n",
            "Epoch 25/50\n",
            "47/47 [==============================] - 0s 5ms/step - loss: 3.1687 - val_loss: 2.8454\n",
            "Epoch 26/50\n",
            "47/47 [==============================] - 0s 5ms/step - loss: 3.1180 - val_loss: 2.8104\n",
            "Epoch 27/50\n",
            "47/47 [==============================] - 0s 5ms/step - loss: 3.0714 - val_loss: 2.7781\n",
            "Epoch 28/50\n",
            "47/47 [==============================] - 0s 6ms/step - loss: 3.0242 - val_loss: 2.7495\n",
            "Epoch 29/50\n",
            "47/47 [==============================] - 0s 4ms/step - loss: 2.9802 - val_loss: 2.7230\n",
            "Epoch 30/50\n",
            "47/47 [==============================] - 0s 5ms/step - loss: 2.9396 - val_loss: 2.6973\n",
            "Epoch 31/50\n",
            "47/47 [==============================] - 0s 3ms/step - loss: 2.9007 - val_loss: 2.6715\n",
            "Epoch 32/50\n",
            "47/47 [==============================] - 0s 3ms/step - loss: 2.8634 - val_loss: 2.6490\n",
            "Epoch 33/50\n",
            "47/47 [==============================] - 0s 4ms/step - loss: 2.8274 - val_loss: 2.6259\n",
            "Epoch 34/50\n",
            "47/47 [==============================] - 0s 3ms/step - loss: 2.7942 - val_loss: 2.6040\n",
            "Epoch 35/50\n",
            "47/47 [==============================] - 0s 3ms/step - loss: 2.7610 - val_loss: 2.5823\n",
            "Epoch 36/50\n",
            "47/47 [==============================] - 0s 3ms/step - loss: 2.7296 - val_loss: 2.5616\n",
            "Epoch 37/50\n",
            "47/47 [==============================] - 0s 3ms/step - loss: 2.6988 - val_loss: 2.5416\n",
            "Epoch 38/50\n",
            "47/47 [==============================] - 0s 3ms/step - loss: 2.6692 - val_loss: 2.5204\n",
            "Epoch 39/50\n",
            "47/47 [==============================] - 0s 3ms/step - loss: 2.6408 - val_loss: 2.5019\n",
            "Epoch 40/50\n",
            "47/47 [==============================] - 0s 4ms/step - loss: 2.6136 - val_loss: 2.4847\n",
            "Epoch 41/50\n",
            "47/47 [==============================] - 0s 3ms/step - loss: 2.5883 - val_loss: 2.4708\n",
            "Epoch 42/50\n",
            "47/47 [==============================] - 0s 3ms/step - loss: 2.5618 - val_loss: 2.4534\n",
            "Epoch 43/50\n",
            "47/47 [==============================] - 0s 3ms/step - loss: 2.5368 - val_loss: 2.4379\n",
            "Epoch 44/50\n",
            "47/47 [==============================] - 0s 3ms/step - loss: 2.5128 - val_loss: 2.4227\n",
            "Epoch 45/50\n",
            "47/47 [==============================] - 0s 3ms/step - loss: 2.4899 - val_loss: 2.4083\n",
            "Epoch 46/50\n",
            "47/47 [==============================] - 0s 3ms/step - loss: 2.4681 - val_loss: 2.3929\n",
            "Epoch 47/50\n",
            "47/47 [==============================] - 0s 3ms/step - loss: 2.4467 - val_loss: 2.3789\n",
            "Epoch 48/50\n",
            "47/47 [==============================] - 0s 3ms/step - loss: 2.4260 - val_loss: 2.3639\n",
            "Epoch 49/50\n",
            "47/47 [==============================] - 0s 3ms/step - loss: 2.4060 - val_loss: 2.3505\n",
            "Epoch 50/50\n",
            "47/47 [==============================] - 0s 3ms/step - loss: 2.3858 - val_loss: 2.3383\n",
            "15/15 [==============================] - 0s 3ms/step\n",
            "2.0148162102495717\n"
          ]
        }
      ]
    },
    {
      "cell_type": "markdown",
      "source": [
        "# **Kết luận**\n",
        "SGD optimizer giúp cải thiện độ chính xác"
      ],
      "metadata": {
        "id": "n3C5Q622t53W"
      }
    }
  ],
  "metadata": {
    "colab": {
      "provenance": []
    },
    "kernelspec": {
      "display_name": "Python 3 (ipykernel)",
      "language": "python",
      "name": "python3"
    },
    "language_info": {
      "codemirror_mode": {
        "name": "ipython",
        "version": 3
      },
      "file_extension": ".py",
      "mimetype": "text/x-python",
      "name": "python",
      "nbconvert_exporter": "python",
      "pygments_lexer": "ipython3",
      "version": "3.11.5"
    }
  },
  "nbformat": 4,
  "nbformat_minor": 0
}